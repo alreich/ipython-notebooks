{
 "metadata": {
  "name": ""
 },
 "nbformat": 3,
 "nbformat_minor": 0,
 "worksheets": [
  {
   "cells": [
    {
     "cell_type": "heading",
     "level": 1,
     "metadata": {},
     "source": [
      "Extreme Value Statistics - An Example (v2)"
     ]
    },
    {
     "cell_type": "markdown",
     "metadata": {},
     "source": [
      "The example here is from Stuart Cole's book, <i>\"An Introduction to Statistical Modeling of Extreme Values\"</i>.\n",
      "\n",
      "<p>The same example is also featured in the R package, <i><b>ismev</b></i>, (see http://cran.r-project.org/web/packages/ismev/)."
     ]
    },
    {
     "cell_type": "code",
     "collapsed": false,
     "input": [
      "import numpy as np\n",
      "np.__version__"
     ],
     "language": "python",
     "metadata": {},
     "outputs": [
      {
       "metadata": {},
       "output_type": "pyout",
       "prompt_number": 25,
       "text": [
        "'1.8.0'"
       ]
      }
     ],
     "prompt_number": 25
    },
    {
     "cell_type": "code",
     "collapsed": false,
     "input": [
      "import matplotlib as plt\n",
      "print plt.__version__"
     ],
     "language": "python",
     "metadata": {},
     "outputs": [
      {
       "output_type": "stream",
       "stream": "stdout",
       "text": [
        "1.3.1\n"
       ]
      }
     ],
     "prompt_number": 26
    },
    {
     "cell_type": "code",
     "collapsed": false,
     "input": [
      "import pandas as pd\n",
      "print pd.__version__"
     ],
     "language": "python",
     "metadata": {},
     "outputs": [
      {
       "output_type": "stream",
       "stream": "stdout",
       "text": [
        "0.12.0\n"
       ]
      }
     ],
     "prompt_number": 27
    },
    {
     "cell_type": "code",
     "collapsed": false,
     "input": [
      "import scipy as sp\n",
      "from scipy.optimize import minimize\n",
      "from scipy.stats import genextreme\n",
      "sp.__version__"
     ],
     "language": "python",
     "metadata": {},
     "outputs": [
      {
       "metadata": {},
       "output_type": "pyout",
       "prompt_number": 28,
       "text": [
        "'0.13.2'"
       ]
      }
     ],
     "prompt_number": 28
    },
    {
     "cell_type": "heading",
     "level": 2,
     "metadata": {},
     "source": [
      "DATA: Annual maximum sea-levels at Port Pirie, South Australia"
     ]
    },
    {
     "cell_type": "markdown",
     "metadata": {},
     "source": [
      "<b>Note on modules used here:</b> Pandas is used to read the CSV file into a Pandas DataFrame, but only for convenience.  Later, when the data analysis starts, the max sea level data will be turned into a standard NumPy ndarray."
     ]
    },
    {
     "cell_type": "code",
     "collapsed": false,
     "input": [
      "def parse(yr):\n",
      "    return datetime.datetime(yr,1,1)\n",
      "\n",
      "df = pd.read_csv('port_pirie.csv', parse_dates=True, date_parser=parse, index_col='Year')\n",
      "df.describe()"
     ],
     "language": "python",
     "metadata": {},
     "outputs": [
      {
       "html": [
        "<div style=\"max-height:1000px;max-width:1500px;overflow:auto;\">\n",
        "<table border=\"1\" class=\"dataframe\">\n",
        "  <thead>\n",
        "    <tr style=\"text-align: right;\">\n",
        "      <th></th>\n",
        "      <th>SeaLevel</th>\n",
        "    </tr>\n",
        "  </thead>\n",
        "  <tbody>\n",
        "    <tr>\n",
        "      <th>count</th>\n",
        "      <td> 65.000000</td>\n",
        "    </tr>\n",
        "    <tr>\n",
        "      <th>mean</th>\n",
        "      <td>  3.980615</td>\n",
        "    </tr>\n",
        "    <tr>\n",
        "      <th>std</th>\n",
        "      <td>  0.240513</td>\n",
        "    </tr>\n",
        "    <tr>\n",
        "      <th>min</th>\n",
        "      <td>  3.570000</td>\n",
        "    </tr>\n",
        "    <tr>\n",
        "      <th>25%</th>\n",
        "      <td>  3.830000</td>\n",
        "    </tr>\n",
        "    <tr>\n",
        "      <th>50%</th>\n",
        "      <td>  3.960000</td>\n",
        "    </tr>\n",
        "    <tr>\n",
        "      <th>75%</th>\n",
        "      <td>  4.110000</td>\n",
        "    </tr>\n",
        "    <tr>\n",
        "      <th>max</th>\n",
        "      <td>  4.690000</td>\n",
        "    </tr>\n",
        "  </tbody>\n",
        "</table>\n",
        "</div>"
       ],
       "metadata": {},
       "output_type": "pyout",
       "prompt_number": 29,
       "text": [
        "        SeaLevel\n",
        "count  65.000000\n",
        "mean    3.980615\n",
        "std     0.240513\n",
        "min     3.570000\n",
        "25%     3.830000\n",
        "50%     3.960000\n",
        "75%     4.110000\n",
        "max     4.690000"
       ]
      }
     ],
     "prompt_number": 29
    },
    {
     "cell_type": "code",
     "collapsed": false,
     "input": [
      "df.head()"
     ],
     "language": "python",
     "metadata": {},
     "outputs": [
      {
       "html": [
        "<div style=\"max-height:1000px;max-width:1500px;overflow:auto;\">\n",
        "<table border=\"1\" class=\"dataframe\">\n",
        "  <thead>\n",
        "    <tr style=\"text-align: right;\">\n",
        "      <th></th>\n",
        "      <th>SeaLevel</th>\n",
        "    </tr>\n",
        "    <tr>\n",
        "      <th>Year</th>\n",
        "      <th></th>\n",
        "    </tr>\n",
        "  </thead>\n",
        "  <tbody>\n",
        "    <tr>\n",
        "      <th>1923-01-01</th>\n",
        "      <td> 4.03</td>\n",
        "    </tr>\n",
        "    <tr>\n",
        "      <th>1924-01-01</th>\n",
        "      <td> 3.83</td>\n",
        "    </tr>\n",
        "    <tr>\n",
        "      <th>1925-01-01</th>\n",
        "      <td> 3.65</td>\n",
        "    </tr>\n",
        "    <tr>\n",
        "      <th>1926-01-01</th>\n",
        "      <td> 3.88</td>\n",
        "    </tr>\n",
        "    <tr>\n",
        "      <th>1927-01-01</th>\n",
        "      <td> 4.01</td>\n",
        "    </tr>\n",
        "  </tbody>\n",
        "</table>\n",
        "</div>"
       ],
       "metadata": {},
       "output_type": "pyout",
       "prompt_number": 30,
       "text": [
        "            SeaLevel\n",
        "Year                \n",
        "1923-01-01      4.03\n",
        "1924-01-01      3.83\n",
        "1925-01-01      3.65\n",
        "1926-01-01      3.88\n",
        "1927-01-01      4.01"
       ]
      }
     ],
     "prompt_number": 30
    },
    {
     "cell_type": "code",
     "collapsed": false,
     "input": [
      "df.tail()"
     ],
     "language": "python",
     "metadata": {},
     "outputs": [
      {
       "html": [
        "<div style=\"max-height:1000px;max-width:1500px;overflow:auto;\">\n",
        "<table border=\"1\" class=\"dataframe\">\n",
        "  <thead>\n",
        "    <tr style=\"text-align: right;\">\n",
        "      <th></th>\n",
        "      <th>SeaLevel</th>\n",
        "    </tr>\n",
        "    <tr>\n",
        "      <th>Year</th>\n",
        "      <th></th>\n",
        "    </tr>\n",
        "  </thead>\n",
        "  <tbody>\n",
        "    <tr>\n",
        "      <th>1983-01-01</th>\n",
        "      <td> 4.08</td>\n",
        "    </tr>\n",
        "    <tr>\n",
        "      <th>1984-01-01</th>\n",
        "      <td> 3.90</td>\n",
        "    </tr>\n",
        "    <tr>\n",
        "      <th>1985-01-01</th>\n",
        "      <td> 3.88</td>\n",
        "    </tr>\n",
        "    <tr>\n",
        "      <th>1986-01-01</th>\n",
        "      <td> 3.94</td>\n",
        "    </tr>\n",
        "    <tr>\n",
        "      <th>1987-01-01</th>\n",
        "      <td> 4.33</td>\n",
        "    </tr>\n",
        "  </tbody>\n",
        "</table>\n",
        "</div>"
       ],
       "metadata": {},
       "output_type": "pyout",
       "prompt_number": 31,
       "text": [
        "            SeaLevel\n",
        "Year                \n",
        "1983-01-01      4.08\n",
        "1984-01-01      3.90\n",
        "1985-01-01      3.88\n",
        "1986-01-01      3.94\n",
        "1987-01-01      4.33"
       ]
      }
     ],
     "prompt_number": 31
    },
    {
     "cell_type": "code",
     "collapsed": false,
     "input": [
      "figure(figsize=(12,6))\n",
      "title('Port Pirie Annual Maximum Sea Level')\n",
      "xlabel('Year')\n",
      "ylabel('Meters')\n",
      "x = [idx.year for idx in df.index]\n",
      "y = df.values\n",
      "plot(x,y)"
     ],
     "language": "python",
     "metadata": {},
     "outputs": [
      {
       "metadata": {},
       "output_type": "pyout",
       "prompt_number": 32,
       "text": [
        "[<matplotlib.lines.Line2D at 0x10a816210>]"
       ]
      },
      {
       "metadata": {},
       "output_type": "display_data",
       "png": "[encoded data removed]",
       "text": [
        "<matplotlib.figure.Figure at 0x107a8bd90>"
       ]
      }
     ],
     "prompt_number": 32
    },
    {
     "cell_type": "heading",
     "level": 3,
     "metadata": {},
     "source": [
      "Histogram of Data"
     ]
    },
    {
     "cell_type": "code",
     "collapsed": false,
     "input": [
      "max_sea_levels = df['SeaLevel']"
     ],
     "language": "python",
     "metadata": {},
     "outputs": [],
     "prompt_number": 33
    },
    {
     "cell_type": "code",
     "collapsed": false,
     "input": [
      "figure(figsize=(12,6))\n",
      "title(\"Port Pirie Annual Maximum Sea Level Histogram\")\n",
      "xlabel(\"Meters\")\n",
      "ylabel(\"Count per Bin\")\n",
      "result = hist(max_sea_levels, bins=arange(3.0,5.0,0.2), color='Yellow')\n",
      "print \"Bin Boundaries: %s\" % result[1]\n",
      "print \"    Bin Counts: %s\" % result[0]"
     ],
     "language": "python",
     "metadata": {},
     "outputs": [
      {
       "output_type": "stream",
       "stream": "stdout",
       "text": [
        "Bin Boundaries: [ 3.   3.2  3.4  3.6  3.8  4.   4.2  4.4  4.6  4.8]\n",
        "    Bin Counts: [  0.   0.   1.  15.  23.  13.  10.   2.   1.]\n"
       ]
      },
      {
       "metadata": {},
       "output_type": "display_data",
       "png": "[encoded data removed]",
       "text": [
        "<matplotlib.figure.Figure at 0x10a8325d0>"
       ]
      }
     ],
     "prompt_number": 34
    },
    {
     "cell_type": "heading",
     "level": 2,
     "metadata": {},
     "source": [
      "The Generalized Extreme Value (GEV) Distribution"
     ]
    },
    {
     "cell_type": "markdown",
     "metadata": {},
     "source": [
      "The GEV probability density is given by: $G(z;\\mu,\\sigma,\\xi) = \\exp \\left( - \\left[ 1 + \\xi \\left( \\frac {z - \\mu} {\\sigma} \\right) \\right]^{-1/\\xi} \\right)$ where $-\\infty < \\mu < \\infty$, $\\sigma > 0$, $-\\infty < \\xi < \\infty$, and $z$ is such that $1 + \\xi(z - \\mu)/\\sigma > 0$"
     ]
    },
    {
     "cell_type": "markdown",
     "metadata": {},
     "source": [
      "<b><u>IMPORTANT NOTE</u>:</b> There does not appear to be a standard representation of the GEV distribution.  Algorithms appear to differ on how the <i><b>shape</b></i> parameter, $\\xi$, should be represented.  Specifically, the shape parameter in the <i><b>ismev</b></i> package in <b>R</b> is the <u><b>negative</b></u> of the shape parameter in <b><i>scipy.stats.genextreme</i></b>.\n",
      "\n",
      "<p>This fact will be illustrated in the example below, where two methods for estimating the GEV parameters will be used.</p>"
     ]
    },
    {
     "cell_type": "heading",
     "level": 2,
     "metadata": {},
     "source": [
      "Estimating the Three GEV Parameters"
     ]
    },
    {
     "cell_type": "markdown",
     "metadata": {},
     "source": [
      "Below, we'll demonstrate how to estimate the three GEV parameters using two different approaches.  Actually, they're the same approach (Maximum Likelihood Estimation - MLE) but done the <b>Hard Way</b> (by numerical optimization of the log likelihood function) and the <b>Easy Way</b> by just calling the <i><b>fit</b></i> function of the GEV distribution (<i>genextreme</i>) in <i>scipy.stats</i>."
     ]
    },
    {
     "cell_type": "heading",
     "level": 3,
     "metadata": {},
     "source": [
      "Method 1: The Hard Way (numerical optimization of the log likelihood function)"
     ]
    },
    {
     "cell_type": "markdown",
     "metadata": {},
     "source": [
      "Stuart Cole's book is the source for the following log likelihood function.  Note that Cole's book is also the source for the implementation of <i><b>ismev</b></i> in <b>R</b>."
     ]
    },
    {
     "cell_type": "markdown",
     "metadata": {},
     "source": [
      "If $Z_1,Z_2,...,Z_m$ are independent random variables with the GEV distribution, then given the observations, $z_i, z_2, ..., z_m$, the parameters, $\\mu$, $\\sigma$, and $\\xi$ can be estimated using the Maximum Likelihood Method.  The log likelihood function, $\\ell$, of the parameters is given below.  We need to find the values of $\\mu$, $\\sigma$, and $\\xi$ that maximize $\\ell$ for the given sample, $z_i, z_2, ..., z_m$."
     ]
    },
    {
     "cell_type": "markdown",
     "metadata": {},
     "source": [
      "$\\ell(\\mu,\\sigma,\\xi) = -m log(\\sigma) - (1 + 1/\\xi) \\sum\\limits_{i=1}^m log \\left[ 1 + \\xi \\left( \\frac {z_i - \\mu} {\\sigma} \\right) \\right] - \\sum\\limits_{i=1}^m \\left[ 1 + \\xi \\left( \\frac {z_i - \\mu} {\\sigma} \\right) \\right]^{-1/\\xi}$ where $\\xi \\ne 0$ and $1 + \\xi \\left( \\frac {z_i - \\mu} {\\sigma} \\right) > 0$ for $i=1,...,m$"
     ]
    },
    {
     "cell_type": "markdown",
     "metadata": {},
     "source": [
      "The function below implements the log likelihood function, above, and uses a standard optimization algorithm, <i>scipy.optimize.minimize</i>, to find the MLE for the EVT parameters.  Basically, it maximizes the GEV log likelihood function by minimizing its negative."
     ]
    },
    {
     "cell_type": "code",
     "collapsed": false,
     "input": [
      "def gev_max_likelihood_estimate(data, starting_shape_estimate=0.1, minimization_method='nelder-mead',\n",
      "                                tolerance=1e-8, display=True):\n",
      "    '''Returns the maximum likelihood estimate of the three parameters of the Generalized Extreme\n",
      "    Value (GEV) distribution: mu (location), sigma (scale), and xi (shape).'''\n",
      "    def log_likelihood(w): # 'w' is assumed to be a tuple: (mu, sigma, xi)\n",
      "        sum1 = 0.0; sum2 = 0.0\n",
      "        mu = w[0]; sigma = w[1]; xi = w[2]\n",
      "        for z in data:\n",
      "            x = 1 + xi * ((z-mu)/sigma)\n",
      "            sum1 += log(x)\n",
      "            sum2 += x**(-1.0/xi)\n",
      "        return -((-len(data) * log(sigma)) - (1 + 1/xi)*sum1 - sum2) # negated so we can use 'minimum'\n",
      "    starting_parameter_estimate = (data.mean(), data.std(), starting_shape_estimate)\n",
      "    return minimize(log_likelihood, starting_parameter_estimate, method=minimization_method,\n",
      "                    options={'xtol': tolerance, 'disp': display})"
     ],
     "language": "python",
     "metadata": {},
     "outputs": [],
     "prompt_number": 35
    },
    {
     "cell_type": "heading",
     "level": 4,
     "metadata": {},
     "source": [
      "Now calculate the MLE for the sea level data"
     ]
    },
    {
     "cell_type": "code",
     "collapsed": false,
     "input": [
      "mle = gev_max_likelihood_estimate(max_sea_levels)"
     ],
     "language": "python",
     "metadata": {},
     "outputs": [
      {
       "output_type": "stream",
       "stream": "stdout",
       "text": [
        "Optimization terminated successfully.\n",
        "         Current function value: -4.339058\n",
        "         Iterations: 145\n",
        "         Function evaluations: 277\n"
       ]
      }
     ],
     "prompt_number": 36
    },
    {
     "cell_type": "code",
     "collapsed": false,
     "input": [
      "mle"
     ],
     "language": "python",
     "metadata": {},
     "outputs": [
      {
       "metadata": {},
       "output_type": "pyout",
       "prompt_number": 37,
       "text": [
        "  status: 0\n",
        "    nfev: 277\n",
        " success: True\n",
        "     fun: -4.3390584736794438\n",
        "       x: array([ 3.87474985,  0.19804396, -0.05010954])\n",
        " message: 'Optimization terminated successfully.'\n",
        "     nit: 145"
       ]
      }
     ],
     "prompt_number": 37
    },
    {
     "cell_type": "heading",
     "level": 4,
     "metadata": {},
     "source": [
      "The three parameter estimates are contained in the array, x, returned by the MLE estimation"
     ]
    },
    {
     "cell_type": "code",
     "collapsed": false,
     "input": [
      "mle.x"
     ],
     "language": "python",
     "metadata": {},
     "outputs": [
      {
       "metadata": {},
       "output_type": "pyout",
       "prompt_number": 38,
       "text": [
        "array([ 3.87474985,  0.19804396, -0.05010954])"
       ]
      }
     ],
     "prompt_number": 38
    },
    {
     "cell_type": "code",
     "collapsed": false,
     "input": [
      "mu = mle.x[0]\n",
      "sigma = mle.x[1]\n",
      "xi = mle.x[2]\n",
      "print \"The mean, sigma, and shape parameters are %s, %s, and %s, resp.\" % (mu, sigma, xi)"
     ],
     "language": "python",
     "metadata": {},
     "outputs": [
      {
       "output_type": "stream",
       "stream": "stdout",
       "text": [
        "The mean, sigma, and shape parameters are 3.87474985416, 0.198043957296, and -0.0501095413908, resp.\n"
       ]
      }
     ],
     "prompt_number": 39
    },
    {
     "cell_type": "heading",
     "level": 3,
     "metadata": {},
     "source": [
      "Method 2: The Easy Way - Use scipy.stats.genextreme.fit"
     ]
    },
    {
     "cell_type": "markdown",
     "metadata": {},
     "source": [
      "The \"fit\" command estimates the MLE parameters of whatever continuous distribution you are working with in scipy.stats -- in this case, the GEV (genextreme)."
     ]
    },
    {
     "cell_type": "code",
     "collapsed": false,
     "input": [
      "mle2 = genextreme.fit(max_sea_levels)\n",
      "mle2"
     ],
     "language": "python",
     "metadata": {},
     "outputs": [
      {
       "metadata": {},
       "output_type": "pyout",
       "prompt_number": 40,
       "text": [
        "(0.050100209127152594, 3.874758343709805, 0.19803610557964496)"
       ]
      }
     ],
     "prompt_number": 40
    },
    {
     "cell_type": "markdown",
     "metadata": {},
     "source": [
      "<b>Note that the shape parameter, above, is 0.0501..., whereas the shape parameter that was derived earlier was the negative of this (-0.0501...).</b>"
     ]
    },
    {
     "cell_type": "code",
     "collapsed": false,
     "input": [
      "mu = mle2[1]\n",
      "sigma = mle2[2]\n",
      "xi = mle2[0]\n",
      "print \"The mean, sigma, and shape parameters are %s, %s, and %s, resp.\" % (mu, sigma, xi)"
     ],
     "language": "python",
     "metadata": {},
     "outputs": [
      {
       "output_type": "stream",
       "stream": "stdout",
       "text": [
        "The mean, sigma, and shape parameters are 3.87475834371, 0.19803610558, and 0.0501002091272, resp.\n"
       ]
      }
     ],
     "prompt_number": 41
    },
    {
     "cell_type": "heading",
     "level": 3,
     "metadata": {},
     "source": [
      "Plot of the estimated Probabililty Density Function (PDF) along with a normalized histogram of the data"
     ]
    },
    {
     "cell_type": "markdown",
     "metadata": {},
     "source": [
      "This density (actually, its cumulative distribution function (CDF) and the CDF inverse) can be used to calculate probabilities of greater values.  But the PDF is handy to look at and compare to a normalized plot of the data."
     ]
    },
    {
     "cell_type": "markdown",
     "metadata": {},
     "source": [
      "The GEV PDF is a library function in <i>scipy.stats</i> called, <i>genextreme</i>.  All we have to do is fill in the three GEV parameters that were estimated, above, to get the PDF for our sample data."
     ]
    },
    {
     "cell_type": "code",
     "collapsed": false,
     "input": [
      "def sea_levels_gev_pdf(x):\n",
      "    return genextreme.pdf(x, xi, loc=mu, scale=sigma)"
     ],
     "language": "python",
     "metadata": {},
     "outputs": [],
     "prompt_number": 42
    },
    {
     "cell_type": "code",
     "collapsed": false,
     "input": [
      "x = np.linspace(3.0, 6.0, num=100)\n",
      "y = [sea_levels_gev_pdf(z) for z in x]"
     ],
     "language": "python",
     "metadata": {},
     "outputs": [],
     "prompt_number": 43
    },
    {
     "cell_type": "markdown",
     "metadata": {},
     "source": [
      "In the plot, below, we can see that the estimated PDF and the normalized histogram match very well."
     ]
    },
    {
     "cell_type": "code",
     "collapsed": false,
     "input": [
      "figure(figsize=(12,6))\n",
      "title(\"Probability Density (red) & Normalized Histogram (yellow)\")\n",
      "xlabel(\"Port Pirie Annual Maximum Sea Level (Meters)\")\n",
      "plot(x,y, color='Red')\n",
      "hist(max_sea_levels, normed=1, color='Yellow')"
     ],
     "language": "python",
     "metadata": {},
     "outputs": [
      {
       "metadata": {},
       "output_type": "pyout",
       "prompt_number": 44,
       "text": [
        "(array([ 0.82417582,  1.23626374,  1.92307692,  1.64835165,  1.23626374,\n",
        "        0.96153846,  0.41208791,  0.27472527,  0.27472527,  0.13736264]),\n",
        " array([ 3.57 ,  3.682,  3.794,  3.906,  4.018,  4.13 ,  4.242,  4.354,\n",
        "        4.466,  4.578,  4.69 ]),\n",
        " <a list of 10 Patch objects>)"
       ]
      },
      {
       "metadata": {},
       "output_type": "display_data",
       "png": "[encoded data removed]",
       "text": [
        "<matplotlib.figure.Figure at 0x10a8340d0>"
       ]
      }
     ],
     "prompt_number": 44
    },
    {
     "cell_type": "heading",
     "level": 3,
     "metadata": {},
     "source": [
      "Computing Confidence Regions"
     ]
    },
    {
     "cell_type": "markdown",
     "metadata": {},
     "source": [
      "A 95% one-sided confidence region can be computed by using the inverse of the cumulative distribution function (CDF) -- called PPF in scipy.stats.  So, from the calculation, below, we can say the there is only a 5% chance that the maximum sea level in given year will be above 4.42 meters, and only a 1% chance it will exceed 4.69 meters."
     ]
    },
    {
     "cell_type": "code",
     "collapsed": false,
     "input": [
      "genextreme.ppf(0.95, xi, loc=mu, scale=sigma)"
     ],
     "language": "python",
     "metadata": {},
     "outputs": [
      {
       "metadata": {},
       "output_type": "pyout",
       "prompt_number": 45,
       "text": [
        "4.4212919703314197"
       ]
      }
     ],
     "prompt_number": 45
    },
    {
     "cell_type": "code",
     "collapsed": false,
     "input": [
      "genextreme.ppf(0.99, xi, loc=mu, scale=sigma)"
     ],
     "language": "python",
     "metadata": {},
     "outputs": [
      {
       "metadata": {},
       "output_type": "pyout",
       "prompt_number": 46,
       "text": [
        "4.6883967633028059"
       ]
      }
     ],
     "prompt_number": 46
    },
    {
     "cell_type": "code",
     "collapsed": false,
     "input": [
      "print \"The maximum recorded sea level is %s meters.\" % max(max_sea_levels)"
     ],
     "language": "python",
     "metadata": {},
     "outputs": [
      {
       "output_type": "stream",
       "stream": "stdout",
       "text": [
        "The maximum recorded sea level is 4.69 meters.\n"
       ]
      }
     ],
     "prompt_number": 47
    },
    {
     "cell_type": "markdown",
     "metadata": {},
     "source": [
      "The probability of seeing a sea level higher than the maximum recorded level is about 1%:"
     ]
    },
    {
     "cell_type": "code",
     "collapsed": false,
     "input": [
      "print \"%4.2f percent\" % ((1 - genextreme.cdf(max(max_sea_levels), xi, loc=mu, scale=sigma)) * 100.0)"
     ],
     "language": "python",
     "metadata": {},
     "outputs": [
      {
       "output_type": "stream",
       "stream": "stdout",
       "text": [
        "0.99 percent\n"
       ]
      }
     ],
     "prompt_number": 48
    },
    {
     "cell_type": "heading",
     "level": 2,
     "metadata": {},
     "source": [
      "Run the example in R using the package 'ismev'"
     ]
    },
    {
     "cell_type": "markdown",
     "metadata": {},
     "source": [
      "The <i>rmagic</i> extension contains IPython magics for working with R via the <i>rpy2</i> module."
     ]
    },
    {
     "cell_type": "code",
     "collapsed": false,
     "input": [
      "%load_ext rmagic"
     ],
     "language": "python",
     "metadata": {},
     "outputs": [
      {
       "output_type": "stream",
       "stream": "stdout",
       "text": [
        "The rmagic extension is already loaded. To reload it, use:\n",
        "  %reload_ext rmagic\n"
       ]
      }
     ],
     "prompt_number": 49
    },
    {
     "cell_type": "markdown",
     "metadata": {},
     "source": [
      "The following cell runs the GEV MLE fit in R using the data Port Pirie data file contained in 'ismev'.\n",
      "\n",
      "<p>The result of the fit is output to a numpy array.  The graphics output by the command <i>gen.diag</i> is saved to a jpg file and then loaded as an image.</p>"
     ]
    },
    {
     "cell_type": "code",
     "collapsed": false,
     "input": [
      "%%R -o r_fit\n",
      "library('ismev')\n",
      "data(portpirie) # Data here is NOT pushed from Python; it is a dataframe in 'ismev'\n",
      "r_fit <- gev.fit(portpirie[,2])\n",
      "jpeg('~/r_gev_diag.jpg')\n",
      "gev.diag(r_fit)\n",
      "dev.off()"
     ],
     "language": "python",
     "metadata": {},
     "outputs": [
      {
       "metadata": {},
       "output_type": "display_data",
       "text": [
        "$conv\n",
        "[1] 0\n",
        "\n",
        "$nllh\n",
        "[1] -4.339058\n",
        "\n",
        "$mle\n",
        "[1]  3.87474692  0.19804120 -0.05008773\n",
        "\n",
        "$se\n",
        "[1] 0.02793211 0.02024610 0.09825633\n",
        "\n"
       ]
      }
     ],
     "prompt_number": 50
    },
    {
     "cell_type": "markdown",
     "metadata": {},
     "source": [
      "The 6th element of the array output by R is the set of GEV parameters we are seeking:"
     ]
    },
    {
     "cell_type": "code",
     "collapsed": false,
     "input": [
      "r_fit_results_in_py = array(r_fit[6])\n",
      "r_fit_results_in_py"
     ],
     "language": "python",
     "metadata": {},
     "outputs": [
      {
       "metadata": {},
       "output_type": "pyout",
       "prompt_number": 51,
       "text": [
        "array([ 3.87474692,  0.1980412 , -0.05008773])"
       ]
      }
     ],
     "prompt_number": 51
    },
    {
     "cell_type": "markdown",
     "metadata": {},
     "source": [
      "And here's the image that was created in R, above:"
     ]
    },
    {
     "cell_type": "code",
     "collapsed": false,
     "input": [
      "from IPython.core.display import Image \n",
      "homedir = !echo $HOME\n",
      "Image(filename= homedir[0] + '/r_gev_diag.jpg')"
     ],
     "language": "python",
     "metadata": {},
     "outputs": [
      {
       "jpeg": "[encoded data removed]",
       "metadata": {},
       "output_type": "pyout",
       "prompt_number": 52,
       "text": [
        "<IPython.core.display.Image at 0x107e0a050>"
       ]
      }
     ],
     "prompt_number": 52
    },
    {
     "cell_type": "markdown",
     "metadata": {},
     "source": [
      "<b><u>TO BE DONE</u></b>\n",
      "<p>1. Don't use the input data from the R 'ismev' library.  Instead, push the Python input data to R to do the analysis.</p>\n",
      "<p>2. Also, see if the graphics output by R can be pushed directly to Python, without saving to a file first.</p>"
     ]
    }
   ],
   "metadata": {}
  }
 ]
}