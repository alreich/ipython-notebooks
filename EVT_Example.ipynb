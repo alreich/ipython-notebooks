{
 "cells": [
  {
   "cell_type": "markdown",
   "metadata": {},
   "source": [
    "# Extreme Value Statistics - An Example (v3)"
   ]
  },
  {
   "cell_type": "markdown",
   "metadata": {},
   "source": [
    "The example here is from Stuart Cole's book, <i>\"An Introduction to Statistical Modeling of Extreme Values\"</i>.\n",
    "\n",
    "<p>The same example is also featured in the R package, <i><b>ismev</b></i>, (see http://cran.r-project.org/web/packages/ismev/)."
   ]
  },
  {
   "cell_type": "code",
   "execution_count": 1,
   "metadata": {},
   "outputs": [
    {
     "name": "stdout",
     "output_type": "stream",
     "text": [
      "    Pandas 1.4.2\n",
      "     NumPy 1.22.4\n",
      "MatPlotLib 3.5.2\n",
      "     SciPy 1.8.1\n"
     ]
    }
   ],
   "source": [
    "import matplotlib\n",
    "from matplotlib import pyplot as plt\n",
    "%matplotlib inline\n",
    "\n",
    "import numpy as np\n",
    "import pandas as pd\n",
    "import datetime as dt\n",
    "\n",
    "import scipy as sp\n",
    "from scipy.optimize import minimize\n",
    "from scipy.stats import genextreme\n",
    "\n",
    "print(f\"    Pandas {pd.__version__}\")\n",
    "print(f\"     NumPy {np.__version__}\")\n",
    "print(f\"MatPlotLib {matplotlib.__version__}\")\n",
    "print(f\"     SciPy {sp.__version__}\")"
   ]
  },
  {
   "cell_type": "markdown",
   "metadata": {},
   "source": [
    "## DATA: Annual maximum sea-levels at Port Pirie, South Australia"
   ]
  },
  {
   "cell_type": "markdown",
   "metadata": {},
   "source": [
    "<b>Note on modules used here:</b> Pandas is used to read the CSV file into a Pandas DataFrame, but only for convenience.  Later, when the data analysis starts, the max sea level data will be turned into a standard NumPy ndarray."
   ]
  },
  {
   "cell_type": "code",
   "execution_count": 2,
   "metadata": {},
   "outputs": [
    {
     "data": {
      "text/html": [
       "<div>\n",
       "<style scoped>\n",
       "    .dataframe tbody tr th:only-of-type {\n",
       "        vertical-align: middle;\n",
       "    }\n",
       "\n",
       "    .dataframe tbody tr th {\n",
       "        vertical-align: top;\n",
       "    }\n",
       "\n",
       "    .dataframe thead th {\n",
       "        text-align: right;\n",
       "    }\n",
       "</style>\n",
       "<table border=\"1\" class=\"dataframe\">\n",
       "  <thead>\n",
       "    <tr style=\"text-align: right;\">\n",
       "      <th></th>\n",
       "      <th>SeaLevel</th>\n",
       "    </tr>\n",
       "  </thead>\n",
       "  <tbody>\n",
       "    <tr>\n",
       "      <th>count</th>\n",
       "      <td>65.000000</td>\n",
       "    </tr>\n",
       "    <tr>\n",
       "      <th>mean</th>\n",
       "      <td>3.980615</td>\n",
       "    </tr>\n",
       "    <tr>\n",
       "      <th>std</th>\n",
       "      <td>0.240513</td>\n",
       "    </tr>\n",
       "    <tr>\n",
       "      <th>min</th>\n",
       "      <td>3.570000</td>\n",
       "    </tr>\n",
       "    <tr>\n",
       "      <th>25%</th>\n",
       "      <td>3.830000</td>\n",
       "    </tr>\n",
       "    <tr>\n",
       "      <th>50%</th>\n",
       "      <td>3.960000</td>\n",
       "    </tr>\n",
       "    <tr>\n",
       "      <th>75%</th>\n",
       "      <td>4.110000</td>\n",
       "    </tr>\n",
       "    <tr>\n",
       "      <th>max</th>\n",
       "      <td>4.690000</td>\n",
       "    </tr>\n",
       "  </tbody>\n",
       "</table>\n",
       "</div>"
      ],
      "text/plain": [
       "        SeaLevel\n",
       "count  65.000000\n",
       "mean    3.980615\n",
       "std     0.240513\n",
       "min     3.570000\n",
       "25%     3.830000\n",
       "50%     3.960000\n",
       "75%     4.110000\n",
       "max     4.690000"
      ]
     },
     "execution_count": 2,
     "metadata": {},
     "output_type": "execute_result"
    }
   ],
   "source": [
    "#dateparse = lambda x: pd.datetime.strptime(x, '%Y')\n",
    "dateparse = lambda x: dt.datetime.strptime(x, '%Y')\n",
    "\n",
    "df = pd.read_csv('datasets/port_pirie.csv', parse_dates=['Year'], date_parser=dateparse)\n",
    "df.describe()"
   ]
  },
  {
   "cell_type": "raw",
   "metadata": {},
   "source": [
    "def parse(yr):\n",
    "    return datetime.datetime(yr,1,1)\n",
    "\n",
    "df = pd.read_csv('port_pirie.csv', parse_dates=True, date_parser=parse, index_col='Year')\n",
    "df.describe()"
   ]
  },
  {
   "cell_type": "code",
   "execution_count": 3,
   "metadata": {},
   "outputs": [
    {
     "data": {
      "text/html": [
       "<div>\n",
       "<style scoped>\n",
       "    .dataframe tbody tr th:only-of-type {\n",
       "        vertical-align: middle;\n",
       "    }\n",
       "\n",
       "    .dataframe tbody tr th {\n",
       "        vertical-align: top;\n",
       "    }\n",
       "\n",
       "    .dataframe thead th {\n",
       "        text-align: right;\n",
       "    }\n",
       "</style>\n",
       "<table border=\"1\" class=\"dataframe\">\n",
       "  <thead>\n",
       "    <tr style=\"text-align: right;\">\n",
       "      <th></th>\n",
       "      <th>Year</th>\n",
       "      <th>SeaLevel</th>\n",
       "    </tr>\n",
       "  </thead>\n",
       "  <tbody>\n",
       "    <tr>\n",
       "      <th>0</th>\n",
       "      <td>1923-01-01</td>\n",
       "      <td>4.03</td>\n",
       "    </tr>\n",
       "    <tr>\n",
       "      <th>1</th>\n",
       "      <td>1924-01-01</td>\n",
       "      <td>3.83</td>\n",
       "    </tr>\n",
       "    <tr>\n",
       "      <th>2</th>\n",
       "      <td>1925-01-01</td>\n",
       "      <td>3.65</td>\n",
       "    </tr>\n",
       "    <tr>\n",
       "      <th>3</th>\n",
       "      <td>1926-01-01</td>\n",
       "      <td>3.88</td>\n",
       "    </tr>\n",
       "    <tr>\n",
       "      <th>4</th>\n",
       "      <td>1927-01-01</td>\n",
       "      <td>4.01</td>\n",
       "    </tr>\n",
       "  </tbody>\n",
       "</table>\n",
       "</div>"
      ],
      "text/plain": [
       "        Year  SeaLevel\n",
       "0 1923-01-01      4.03\n",
       "1 1924-01-01      3.83\n",
       "2 1925-01-01      3.65\n",
       "3 1926-01-01      3.88\n",
       "4 1927-01-01      4.01"
      ]
     },
     "execution_count": 3,
     "metadata": {},
     "output_type": "execute_result"
    }
   ],
   "source": [
    "df.head()"
   ]
  },
  {
   "cell_type": "code",
   "execution_count": 4,
   "metadata": {},
   "outputs": [
    {
     "data": {
      "text/html": [
       "<div>\n",
       "<style scoped>\n",
       "    .dataframe tbody tr th:only-of-type {\n",
       "        vertical-align: middle;\n",
       "    }\n",
       "\n",
       "    .dataframe tbody tr th {\n",
       "        vertical-align: top;\n",
       "    }\n",
       "\n",
       "    .dataframe thead th {\n",
       "        text-align: right;\n",
       "    }\n",
       "</style>\n",
       "<table border=\"1\" class=\"dataframe\">\n",
       "  <thead>\n",
       "    <tr style=\"text-align: right;\">\n",
       "      <th></th>\n",
       "      <th>Year</th>\n",
       "      <th>SeaLevel</th>\n",
       "    </tr>\n",
       "  </thead>\n",
       "  <tbody>\n",
       "    <tr>\n",
       "      <th>60</th>\n",
       "      <td>1983-01-01</td>\n",
       "      <td>4.08</td>\n",
       "    </tr>\n",
       "    <tr>\n",
       "      <th>61</th>\n",
       "      <td>1984-01-01</td>\n",
       "      <td>3.90</td>\n",
       "    </tr>\n",
       "    <tr>\n",
       "      <th>62</th>\n",
       "      <td>1985-01-01</td>\n",
       "      <td>3.88</td>\n",
       "    </tr>\n",
       "    <tr>\n",
       "      <th>63</th>\n",
       "      <td>1986-01-01</td>\n",
       "      <td>3.94</td>\n",
       "    </tr>\n",
       "    <tr>\n",
       "      <th>64</th>\n",
       "      <td>1987-01-01</td>\n",
       "      <td>4.33</td>\n",
       "    </tr>\n",
       "  </tbody>\n",
       "</table>\n",
       "</div>"
      ],
      "text/plain": [
       "         Year  SeaLevel\n",
       "60 1983-01-01      4.08\n",
       "61 1984-01-01      3.90\n",
       "62 1985-01-01      3.88\n",
       "63 1986-01-01      3.94\n",
       "64 1987-01-01      4.33"
      ]
     },
     "execution_count": 4,
     "metadata": {},
     "output_type": "execute_result"
    }
   ],
   "source": [
    "df.tail()"
   ]
  },
  {
   "cell_type": "code",
   "execution_count": 5,
   "metadata": {},
   "outputs": [
    {
     "data": {
      "text/plain": [
       "[<matplotlib.lines.Line2D at 0x162e4d930>]"
      ]
     },
     "execution_count": 5,
     "metadata": {},
     "output_type": "execute_result"
    },
    {
     "data": {
      "image/png": "[encoded data removed]",
      "text/plain": [
       "<Figure size 864x432 with 1 Axes>"
      ]
     },
     "metadata": {
      "needs_background": "light"
     },
     "output_type": "display_data"
    }
   ],
   "source": [
    "plt.figure(figsize=(12,6))\n",
    "plt.title('Port Pirie Annual Maximum Sea Level')\n",
    "plt.xlabel('Year')\n",
    "plt.ylabel('Meters')\n",
    "x = [idx.year for idx in df.Year]\n",
    "y = df.SeaLevel\n",
    "plt.plot(x,y)"
   ]
  },
  {
   "cell_type": "markdown",
   "metadata": {},
   "source": [
    "### Histogram of Data"
   ]
  },
  {
   "cell_type": "code",
   "execution_count": 6,
   "metadata": {},
   "outputs": [],
   "source": [
    "max_sea_levels = df['SeaLevel']"
   ]
  },
  {
   "cell_type": "code",
   "execution_count": 7,
   "metadata": {},
   "outputs": [
    {
     "name": "stdout",
     "output_type": "stream",
     "text": [
      "Bin Boundaries: [3.  3.2 3.4 3.6 3.8 4.  4.2 4.4 4.6 4.8]\n",
      "    Bin Counts: [ 0.  0.  1. 15. 23. 13. 10.  2.  1.]\n"
     ]
    },
    {
     "data": {
      "image/png": "[encoded data removed]",
      "text/plain": [
       "<Figure size 864x432 with 1 Axes>"
      ]
     },
     "metadata": {
      "needs_background": "light"
     },
     "output_type": "display_data"
    }
   ],
   "source": [
    "plt.figure(figsize=(12,6))\n",
    "plt.title(\"Port Pirie Annual Maximum Sea Level Histogram\")\n",
    "plt.xlabel(\"Meters\")\n",
    "plt.ylabel(\"Count per Bin\")\n",
    "result = plt.hist(max_sea_levels, bins=np.arange(3.0, 5.0, 0.2), color='LightBlue')\n",
    "print(\"Bin Boundaries: {}\".format(result[1]))\n",
    "print(\"    Bin Counts: {}\".format(result[0]))"
   ]
  },
  {
   "cell_type": "markdown",
   "metadata": {},
   "source": [
    "## The Generalized Extreme Value (GEV) Distribution"
   ]
  },
  {
   "cell_type": "markdown",
   "metadata": {},
   "source": [
    "The GEV probability density for maxima is given by: $G(z;\\mu,\\sigma,\\xi) = \\exp \\left( - \\left[ 1 + \\xi \\left( \\frac {z - \\mu} {\\sigma} \\right) \\right]^{-1/\\xi} \\right)$ where $-\\infty < \\mu < \\infty$, $\\sigma > 0$, $-\\infty < \\xi < \\infty$, and $z$ is such that $1 + \\xi(z - \\mu)/\\sigma > 0$"
   ]
  },
  {
   "cell_type": "markdown",
   "metadata": {},
   "source": [
    "<b><u>IMPORTANT NOTE</u>:</b> There does not appear to be a standard representation of the GEV distribution.  Algorithms appear to differ on how the <i><b>shape</b></i> parameter, $\\xi$, should be represented.  Specifically, the shape parameter in the <i><b>ismev</b></i> package in <b>R</b> is the <u><b>negative</b></u> of the shape parameter in <b><i>scipy.stats.genextreme</i></b>.\n",
    "\n",
    "<p>This fact will be illustrated in the example below, where two methods for estimating the GEV parameters will be used.</p>"
   ]
  },
  {
   "cell_type": "markdown",
   "metadata": {},
   "source": [
    "## Estimating the Three GEV Parameters"
   ]
  },
  {
   "cell_type": "markdown",
   "metadata": {},
   "source": [
    "Below, we'll demonstrate how to estimate the three GEV parameters using two different approaches.  Actually, they're the same approach (Maximum Likelihood Estimation - MLE) but done the <b>Hard Way</b> (by numerical optimization of the log likelihood function) and the <b>Easy Way</b> by just calling the <i><b>fit</b></i> function of the GEV distribution (<i>genextreme</i>) in <i>scipy.stats</i>."
   ]
  },
  {
   "cell_type": "markdown",
   "metadata": {},
   "source": [
    "### Method 1: The Hard Way (numerical optimization of the log likelihood function)"
   ]
  },
  {
   "cell_type": "markdown",
   "metadata": {},
   "source": [
    "Stuart Cole's book is the source for the following log likelihood function.  Note that Cole's book is also the source for the implementation of <i><b>ismev</b></i> in <b>R</b>."
   ]
  },
  {
   "cell_type": "markdown",
   "metadata": {},
   "source": [
    "If $Z_1,Z_2,...,Z_m$ are independent random variables with the GEV distribution, then given the observations, $z_i, z_2, ..., z_m$, the parameters, $\\mu$, $\\sigma$, and $\\xi$ can be estimated using the Maximum Likelihood Method.  The log likelihood function, $\\ell$, of the parameters is given below.  We need to find the values of $\\mu$, $\\sigma$, and $\\xi$ that maximize $\\ell$ for the given sample, $z_i, z_2, ..., z_m$."
   ]
  },
  {
   "cell_type": "markdown",
   "metadata": {},
   "source": [
    "$\\ell ( \\mu, \\sigma, \\xi ) = -m \\log(\\sigma) - ( 1 + 1 / \\xi ) \\sum_{i=1}^m \\log \\left[ 1 + \\xi \\left( \\frac {z_i - \\mu} {\\sigma} \\right) \\right] - \\sum_{i=1}^m \\left[ 1 + \\xi \\left( \\frac {z_i - \\mu} {\\sigma} \\right) \\right]^{-1/\\xi}$"
   ]
  },
  {
   "cell_type": "markdown",
   "metadata": {},
   "source": [
    "where $\\xi \\ne 0$ and $1 + \\xi \\left( \\frac {z_i - \\mu} {\\sigma} \\right) > 0$ for $i=1,...,m$"
   ]
  },
  {
   "cell_type": "markdown",
   "metadata": {},
   "source": [
    "The function below implements the log likelihood function, above, and uses a standard optimization algorithm, <i>scipy.optimize.minimize</i>, to find the MLE for the EVT parameters.  Basically, it maximizes the GEV log likelihood function by minimizing its negative."
   ]
  },
  {
   "cell_type": "code",
   "execution_count": 8,
   "metadata": {},
   "outputs": [],
   "source": [
    "def gev_max_likelihood_estimate(data, starting_shape_estimate=0.1, minimization_method='nelder-mead',\n",
    "                                tolerance=1e-8, display=True):\n",
    "    '''Returns the maximum likelihood estimate of the three parameters of the Generalized Extreme\n",
    "    Value (GEV) distribution: mu (location), sigma (scale), and xi (shape).'''\n",
    "    def log_likelihood(w): # 'w' is assumed to be a tuple: (mu, sigma, xi)\n",
    "        sum1 = 0.0; sum2 = 0.0\n",
    "        mu = w[0]; sigma = w[1]; xi = w[2]\n",
    "        for z in data:\n",
    "            x = 1 + xi * ((z-mu)/sigma)\n",
    "            sum1 += np.log(x)\n",
    "            sum2 += x**(-1.0/xi)\n",
    "        return -((-len(data) * np.log(sigma)) - (1 + 1/xi)*sum1 - sum2) # negated so we can use 'minimum'\n",
    "    starting_parameter_estimate = (data.mean(), data.std(), starting_shape_estimate)\n",
    "    return minimize(log_likelihood, starting_parameter_estimate, method=minimization_method,\n",
    "                    options={'xtol': tolerance, 'disp': display})"
   ]
  },
  {
   "cell_type": "markdown",
   "metadata": {},
   "source": [
    "#### Now calculate the MLE for the sea level data"
   ]
  },
  {
   "cell_type": "code",
   "execution_count": 9,
   "metadata": {},
   "outputs": [
    {
     "name": "stdout",
     "output_type": "stream",
     "text": [
      "Optimization terminated successfully.\n",
      "         Current function value: -4.339058\n",
      "         Iterations: 146\n",
      "         Function evaluations: 270\n"
     ]
    }
   ],
   "source": [
    "mle = gev_max_likelihood_estimate(max_sea_levels)"
   ]
  },
  {
   "cell_type": "code",
   "execution_count": 10,
   "metadata": {},
   "outputs": [
    {
     "data": {
      "text/plain": [
       " final_simplex: (array([[ 3.87474986,  0.19804396, -0.05010952],\n",
       "       [ 3.87474986,  0.19804396, -0.05010953],\n",
       "       [ 3.87474985,  0.19804396, -0.05010952],\n",
       "       [ 3.87474986,  0.19804396, -0.05010952]]), array([-4.33905847, -4.33905847, -4.33905847, -4.33905847]))\n",
       "           fun: -4.339058473679458\n",
       "       message: 'Optimization terminated successfully.'\n",
       "          nfev: 270\n",
       "           nit: 146\n",
       "        status: 0\n",
       "       success: True\n",
       "             x: array([ 3.87474986,  0.19804396, -0.05010952])"
      ]
     },
     "execution_count": 10,
     "metadata": {},
     "output_type": "execute_result"
    }
   ],
   "source": [
    "mle"
   ]
  },
  {
   "cell_type": "markdown",
   "metadata": {},
   "source": [
    "#### The three parameter estimates are contained in the array, x, returned by the MLE estimation"
   ]
  },
  {
   "cell_type": "code",
   "execution_count": 11,
   "metadata": {},
   "outputs": [
    {
     "data": {
      "text/plain": [
       "array([ 3.87474986,  0.19804396, -0.05010952])"
      ]
     },
     "execution_count": 11,
     "metadata": {},
     "output_type": "execute_result"
    }
   ],
   "source": [
    "mle.x"
   ]
  },
  {
   "cell_type": "code",
   "execution_count": 12,
   "metadata": {},
   "outputs": [
    {
     "name": "stdout",
     "output_type": "stream",
     "text": [
      "The mean, sigma, and shape parameters are 3.8747498568998813, 0.1980439578222659, and -0.05010952069088886, resp.\n"
     ]
    }
   ],
   "source": [
    "mu = mle.x[0]\n",
    "sigma = mle.x[1]\n",
    "xi = mle.x[2]\n",
    "print(\"The mean, sigma, and shape parameters are {}, {}, and {}, resp.\".format(mu, sigma, xi))"
   ]
  },
  {
   "cell_type": "markdown",
   "metadata": {},
   "source": [
    "### Method 2: The Easy Way - Use scipy.stats.genextreme.fit"
   ]
  },
  {
   "cell_type": "markdown",
   "metadata": {},
   "source": [
    "The \"fit\" command estimates the MLE parameters of whatever continuous distribution you are working with in scipy.stats -- in this case, the GEV (genextreme)."
   ]
  },
  {
   "cell_type": "code",
   "execution_count": 13,
   "metadata": {},
   "outputs": [
    {
     "data": {
      "text/plain": [
       "(0.05010534785328627, 3.874758730628963, 0.19803814023673208)"
      ]
     },
     "execution_count": 13,
     "metadata": {},
     "output_type": "execute_result"
    }
   ],
   "source": [
    "mle2 = genextreme.fit(max_sea_levels)\n",
    "mle2"
   ]
  },
  {
   "cell_type": "markdown",
   "metadata": {},
   "source": [
    "<b>Note that the shape parameter, above, is 0.0501..., whereas the shape parameter that was derived earlier was the negative of this (-0.0501...).</b>"
   ]
  },
  {
   "cell_type": "code",
   "execution_count": 14,
   "metadata": {},
   "outputs": [
    {
     "name": "stdout",
     "output_type": "stream",
     "text": [
      "The mean, sigma, and shape parameters are 3.874758730628963, 0.19803814023673208, and 0.05010534785328627, resp.\n"
     ]
    }
   ],
   "source": [
    "mu = mle2[1]\n",
    "sigma = mle2[2]\n",
    "xi = mle2[0]\n",
    "print(\"The mean, sigma, and shape parameters are {}, {}, and {}, resp.\".format(mu, sigma, xi))"
   ]
  },
  {
   "cell_type": "markdown",
   "metadata": {},
   "source": [
    "### Plot of the estimated Probabililty Density Function (PDF) along with a normalized histogram of the data"
   ]
  },
  {
   "cell_type": "markdown",
   "metadata": {},
   "source": [
    "This density (actually, its cumulative distribution function (CDF) and the CDF inverse) can be used to calculate probabilities of greater values.  But the PDF is handy to look at and compare to a normalized plot of the data."
   ]
  },
  {
   "cell_type": "markdown",
   "metadata": {},
   "source": [
    "The GEV PDF is a library function in <i>scipy.stats</i> called, <i>genextreme</i>.  All we have to do is fill in the three GEV parameters that were estimated, above, to get the PDF for our sample data."
   ]
  },
  {
   "cell_type": "code",
   "execution_count": 15,
   "metadata": {},
   "outputs": [],
   "source": [
    "def sea_levels_gev_pdf(x):\n",
    "    return genextreme.pdf(x, xi, loc=mu, scale=sigma)"
   ]
  },
  {
   "cell_type": "code",
   "execution_count": 16,
   "metadata": {},
   "outputs": [],
   "source": [
    "x = np.linspace(3.0, 6.0, num=100)\n",
    "y = [sea_levels_gev_pdf(z) for z in x]"
   ]
  },
  {
   "cell_type": "markdown",
   "metadata": {},
   "source": [
    "In the plot, below, we can see that the estimated PDF and the normalized histogram match very well."
   ]
  },
  {
   "cell_type": "code",
   "execution_count": 17,
   "metadata": {},
   "outputs": [
    {
     "data": {
      "text/plain": [
       "(array([0.82417582, 1.23626374, 1.92307692, 1.64835165, 1.23626374,\n",
       "        0.96153846, 0.41208791, 0.27472527, 0.27472527, 0.13736264]),\n",
       " array([3.57 , 3.682, 3.794, 3.906, 4.018, 4.13 , 4.242, 4.354, 4.466,\n",
       "        4.578, 4.69 ]),\n",
       " <BarContainer object of 10 artists>)"
      ]
     },
     "execution_count": 17,
     "metadata": {},
     "output_type": "execute_result"
    },
    {
     "data": {
      "image/png": "[encoded data removed]",
      "text/plain": [
       "<Figure size 864x432 with 1 Axes>"
      ]
     },
     "metadata": {
      "needs_background": "light"
     },
     "output_type": "display_data"
    }
   ],
   "source": [
    "plt.figure(figsize=(12,6))\n",
    "plt.title(\"Fitted Probability Density (red) & Normalized Histogram (light blue)\")\n",
    "plt.xlabel(\"Port Pirie Annual Maximum Sea Level (Meters)\")\n",
    "plt.plot(x,y, color='Red')\n",
    "plt.hist(max_sea_levels, density=1, color='LightBlue')"
   ]
  },
  {
   "cell_type": "markdown",
   "metadata": {},
   "source": [
    "### Computing Confidence Regions"
   ]
  },
  {
   "cell_type": "markdown",
   "metadata": {},
   "source": [
    "A 95% one-sided confidence region can be computed by using the inverse of the cumulative distribution function (CDF) -- called PPF in scipy.stats.  So, from the calculation, below, we can say the there is only a 5% chance that the maximum sea level in given year will be above 4.42 meters, and only a 1% chance it will exceed 4.69 meters."
   ]
  },
  {
   "cell_type": "code",
   "execution_count": 18,
   "metadata": {},
   "outputs": [
    {
     "data": {
      "text/plain": [
       "4.421293904937829"
      ]
     },
     "execution_count": 18,
     "metadata": {},
     "output_type": "execute_result"
    }
   ],
   "source": [
    "genextreme.ppf(0.95, xi, loc=mu, scale=sigma)"
   ]
  },
  {
   "cell_type": "code",
   "execution_count": 19,
   "metadata": {},
   "outputs": [
    {
     "data": {
      "text/plain": [
       "4.688396261965032"
      ]
     },
     "execution_count": 19,
     "metadata": {},
     "output_type": "execute_result"
    }
   ],
   "source": [
    "genextreme.ppf(0.99, xi, loc=mu, scale=sigma)"
   ]
  },
  {
   "cell_type": "code",
   "execution_count": 20,
   "metadata": {},
   "outputs": [
    {
     "name": "stdout",
     "output_type": "stream",
     "text": [
      "The maximum recorded sea level is 4.69 meters.\n"
     ]
    }
   ],
   "source": [
    "print(\"The maximum recorded sea level is {} meters.\".format(max(max_sea_levels)))"
   ]
  },
  {
   "cell_type": "markdown",
   "metadata": {},
   "source": [
    "The probability of seeing a sea level higher than the maximum recorded level is about 1%:"
   ]
  },
  {
   "cell_type": "code",
   "execution_count": 21,
   "metadata": {},
   "outputs": [
    {
     "name": "stdout",
     "output_type": "stream",
     "text": [
      "0.9899%\n"
     ]
    }
   ],
   "source": [
    "print(\"{:.4f}%\".format(((1 - genextreme.cdf(max(max_sea_levels), xi, loc=mu, scale=sigma)) * 100.0)))"
   ]
  },
  {
   "cell_type": "code",
   "execution_count": 22,
   "metadata": {},
   "outputs": [
    {
     "data": {
      "text/html": [
       "<style>\n",
       "    @font-face {\n",
       "        font-family: \"Computer Modern\";\n",
       "        src: url('http://9dbb143991406a7c655e-aa5fcb0a5a4ec34cff238a2d56ca4144.r56.cf5.rackcdn.com/cmunss.otf');\n",
       "    }\n",
       "    @font-face {\n",
       "        font-family: \"Computer Modern\";\n",
       "        font-weight: bold;\n",
       "        src: url('http://9dbb143991406a7c655e-aa5fcb0a5a4ec34cff238a2d56ca4144.r56.cf5.rackcdn.com/cmunsx.otf');\n",
       "    }\n",
       "    @font-face {\n",
       "        font-family: \"Computer Modern\";\n",
       "        font-style: oblique;\n",
       "        src: url('http://9dbb143991406a7c655e-aa5fcb0a5a4ec34cff238a2d56ca4144.r56.cf5.rackcdn.com/cmunsi.otf');\n",
       "    }\n",
       "    @font-face {\n",
       "        font-family: \"Computer Modern\";\n",
       "        font-weight: bold;\n",
       "        font-style: oblique;\n",
       "        src: url('http://9dbb143991406a7c655e-aa5fcb0a5a4ec34cff238a2d56ca4144.r56.cf5.rackcdn.com/cmunso.otf');\n",
       "    }\n",
       "    div.cell{\n",
       "        width:800px;\n",
       "        margin-left:8% !important;\n",
       "        margin-right:auto;\n",
       "    }\n",
       "    h1 {\n",
       "        font-family: Helvetica, serif;\n",
       "    }\n",
       "    h4{\n",
       "        margin-top:12px;\n",
       "        margin-bottom: 3px;\n",
       "       }\n",
       "    div.text_cell_render{\n",
       "        font-family: Computer Modern, \"Helvetica Neue\", Arial, Helvetica, Geneva, sans-serif;\n",
       "        line-height: 145%;\n",
       "        font-size: 130%;\n",
       "        width:800px;\n",
       "        margin-left:auto;\n",
       "        margin-right:auto;\n",
       "    }\n",
       "    .CodeMirror{\n",
       "            font-family: \"Source Code Pro\", source-code-pro,Consolas, monospace;\n",
       "    }\n",
       "    .prompt{\n",
       "        display: None;\n",
       "    }\n",
       "    .text_cell_render h5 {\n",
       "        font-weight: 300;\n",
       "        font-size: 22pt;\n",
       "        color: #4057A1;\n",
       "        font-style: italic;\n",
       "        margin-bottom: .5em;\n",
       "        margin-top: 0.5em;\n",
       "        display: block;\n",
       "    }\n",
       "    \n",
       "    .warning{\n",
       "        color: rgb( 240, 20, 20 )\n",
       "        }  \n",
       "</style>\n",
       "<script>\n",
       "    MathJax.Hub.Config({\n",
       "                        TeX: {\n",
       "                           extensions: [\"AMSmath.js\"]\n",
       "                           },\n",
       "                tex2jax: {\n",
       "                    inlineMath: [ ['$','$'], [\"\\\\(\",\"\\\\)\"] ],\n",
       "                    displayMath: [ ['$$','$$'], [\"\\\\[\",\"\\\\]\"] ]\n",
       "                },\n",
       "                displayAlign: 'center', // Change this to 'center' to center equations.\n",
       "                \"HTML-CSS\": {\n",
       "                    styles: {'.MathJax_Display': {\"margin\": 4}}\n",
       "                }\n",
       "        });\n",
       "</script>\n"
      ],
      "text/plain": [
       "<IPython.core.display.HTML object>"
      ]
     },
     "execution_count": 22,
     "metadata": {},
     "output_type": "execute_result"
    }
   ],
   "source": [
    "# Just Some Formatting code\n",
    "\n",
    "from IPython.core.display import HTML\n",
    "\n",
    "def css_styling():\n",
    "    styles = open(\"styles/custom.css\", \"r\").read()\n",
    "    return HTML(styles)\n",
    "css_styling()"
   ]
  },
  {
   "cell_type": "code",
   "execution_count": null,
   "metadata": {},
   "outputs": [],
   "source": []
  }
 ],
 "metadata": {
  "kernelspec": {
   "display_name": "Python 3 (ipykernel)",
   "language": "python",
   "name": "python3"
  },
  "language_info": {
   "codemirror_mode": {
    "name": "ipython",
    "version": 3
   },
   "file_extension": ".py",
   "mimetype": "text/x-python",
   "name": "python",
   "nbconvert_exporter": "python",
   "pygments_lexer": "ipython3",
   "version": "3.10.4"
  }
 },
 "nbformat": 4,
 "nbformat_minor": 1
}
