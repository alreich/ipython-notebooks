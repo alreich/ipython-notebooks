{
 "cells": [
  {
   "cell_type": "markdown",
   "metadata": {},
   "source": [
    "# Experiments in Extreme Value Theory (EVT)"
   ]
  },
  {
   "cell_type": "markdown",
   "metadata": {},
   "source": [
    "## Dependencies"
   ]
  },
  {
   "cell_type": "code",
   "execution_count": 4,
   "metadata": {},
   "outputs": [
    {
     "name": "stdout",
     "output_type": "stream",
     "text": [
      "    Pandas 1.0.3\n",
      "     NumPy 1.18.1\n",
      "MatPlotLib 3.1.3\n",
      "     SciPy 1.4.1\n"
     ]
    }
   ],
   "source": [
    "import matplotlib\n",
    "from matplotlib import pyplot as plt\n",
    "%matplotlib inline\n",
    "\n",
    "from IPython.core.pylabtools import figsize\n",
    "\n",
    "import numpy as np\n",
    "import pandas as pd\n",
    "\n",
    "import scipy as sp\n",
    "#from scipy.optimize import minimize\n",
    "from scipy.stats import genextreme\n",
    "\n",
    "print(f\"    Pandas {pd.__version__}\")\n",
    "print(f\"     NumPy {np.__version__}\")\n",
    "print(f\"MatPlotLib {matplotlib.__version__}\")\n",
    "print(f\"     SciPy {sp.__version__}\")"
   ]
  },
  {
   "cell_type": "markdown",
   "metadata": {},
   "source": [
    "## References"
   ]
  },
  {
   "cell_type": "markdown",
   "metadata": {},
   "source": [
    "[Cole 2001] Stuart Cole, <i>\"An Introduction to Statistical Modeling of Extreme Values\"</i>, 2001."
   ]
  },
  {
   "cell_type": "markdown",
   "metadata": {},
   "source": [
    "## The Generalized Extreme Value (GEV) Distribution\n",
    "\n",
    "The GEV family of probability densities is described as follows in [Cole 2001]:\n",
    "\n",
    "$G(z;\\mu,\\sigma,\\xi) = \\exp \\left( - \\left[ 1 + \\xi \\left( \\frac {z - \\mu} {\\sigma} \\right) \\right]^{-1/\\xi} \\right)$\n",
    "\n",
    "<p>where\n",
    "<p>$-\\infty < \\mu < \\infty$,\n",
    "<p>$\\sigma > 0$,\n",
    "<p>$-\\infty < \\xi < \\infty$,\n",
    "<p>and $z$ is such that $1 + \\xi(z - \\mu)/\\sigma > 0$"
   ]
  },
  {
   "cell_type": "markdown",
   "metadata": {},
   "source": [
    "NOTE: The shape parameter, $\\xi$, in <b><i>scipy.stats.genextreme</i></b> is the <u><b>negative</b></u> of the shape parameter in R's <i><b>ismev</b></i> library."
   ]
  },
  {
   "cell_type": "markdown",
   "metadata": {},
   "source": [
    "SciPy.stats.genextreme, a generalized extreme value continuous random variable, is [documented here](https://docs.scipy.org/doc/scipy/reference/generated/scipy.stats.genextreme.html)."
   ]
  },
  {
   "cell_type": "markdown",
   "metadata": {},
   "source": [
    "## Example 1"
   ]
  },
  {
   "cell_type": "code",
   "execution_count": 76,
   "metadata": {},
   "outputs": [],
   "source": [
    "from scipy.stats import norm\n",
    "\n",
    "mean = 100.0\n",
    "sdev = 10.0\n",
    "\n",
    "rv = norm(loc=mean, scale=sdev)  # \"Frozen\" random variable"
   ]
  },
  {
   "cell_type": "code",
   "execution_count": 86,
   "metadata": {},
   "outputs": [
    {
     "data": {
      "text/plain": [
       "[array([ 92.39634534,  94.63432949,  97.31140871, 111.34006002,\n",
       "         99.90648059, 102.93486475, 106.02887502, 107.65922535,\n",
       "         92.87090988, 107.69981059, 106.66010105,  89.13489403]),\n",
       " array([112.66953198, 103.17911184, 105.98214517, 101.27752148,\n",
       "        110.93833794,  88.71093326,  97.99905021,  97.67042753,\n",
       "        110.4119903 , 105.81347582,  93.49825699,  80.6428133 ]),\n",
       " array([104.32832255,  95.92392991,  92.15734349, 110.29228442,\n",
       "         70.28643683, 106.57577815, 104.80026381,  96.46463945,\n",
       "         91.61594917, 113.4476411 , 107.27508692,  99.67071816])]"
      ]
     },
     "execution_count": 86,
     "metadata": {},
     "output_type": "execute_result"
    }
   ],
   "source": [
    "n = 100  # Number of samples\n",
    "m = 12  # Size of each sample\n",
    "\n",
    "samples = [rv.rvs(size=m) for _ in range(n)]\n",
    "samples[:3] # First 3 samples"
   ]
  },
  {
   "cell_type": "code",
   "execution_count": 87,
   "metadata": {},
   "outputs": [
    {
     "data": {
      "text/plain": [
       "[111.3400600199686, 112.6695319831456, 113.44764109587392]"
      ]
     },
     "execution_count": 87,
     "metadata": {},
     "output_type": "execute_result"
    }
   ],
   "source": [
    "maxes = [np.max(sample) for sample in samples]\n",
    "maxes[:3]  # First 3 maximums of samples"
   ]
  },
  {
   "cell_type": "code",
   "execution_count": null,
   "metadata": {},
   "outputs": [],
   "source": []
  }
 ],
 "metadata": {
  "kernelspec": {
   "display_name": "Python 3",
   "language": "python",
   "name": "python3"
  },
  "language_info": {
   "codemirror_mode": {
    "name": "ipython",
    "version": 3
   },
   "file_extension": ".py",
   "mimetype": "text/x-python",
   "name": "python",
   "nbconvert_exporter": "python",
   "pygments_lexer": "ipython3",
   "version": "3.8.2"
  }
 },
 "nbformat": 4,
 "nbformat_minor": 4
}
