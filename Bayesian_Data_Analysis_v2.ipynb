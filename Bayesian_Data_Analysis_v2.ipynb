{
 "cells": [
  {
   "cell_type": "markdown",
   "metadata": {},
   "source": [
    "# A Brief Introduction to Bayesian Data Analysis"
   ]
  },
  {
   "cell_type": "markdown",
   "metadata": {},
   "source": [
    "<i>Version 2</i>"
   ]
  },
  {
   "cell_type": "code",
   "execution_count": 2,
   "metadata": {},
   "outputs": [],
   "source": [
    "%matplotlib inline\n",
    "import matplotlib.pyplot as plt\n",
    "from IPython.core.pylabtools import figsize"
   ]
  },
  {
   "cell_type": "markdown",
   "metadata": {},
   "source": [
    "## An Example"
   ]
  },
  {
   "cell_type": "markdown",
   "metadata": {},
   "source": [
    "Suppose we conduct a real-world experiment consisting of a series of $n$ independent trials, where each trial will result in either a success or failure, and the probability of a success is an unknown value, $p$, where $0 \\le p \\le 1$.\n",
    "\n",
    "> By the way, this type of experiment has a <b>Binomial($n$, $p$)</b> distribution. [Wikipedia](https://en.wikipedia.org/wiki/Binomial_distribution)\n",
    "\n",
    "Suppose further that, after conducting the $n$ trials, we observed a total of $k_{obs}$ successes. $0 \\le k_{obs} \\le n$."
   ]
  },
  {
   "cell_type": "markdown",
   "metadata": {},
   "source": [
    "We don't know the true value of $p$, but let's assume that $n$ and $k_{obs}$ have the following values:"
   ]
  },
  {
   "cell_type": "code",
   "execution_count": 3,
   "metadata": {},
   "outputs": [],
   "source": [
    "n = 20  # Number of trials in our real-world experiment\n",
    "k_obs = 6  # Number of observed successes in our real-world experiment"
   ]
  },
  {
   "cell_type": "code",
   "execution_count": 4,
   "metadata": {},
   "outputs": [
    {
     "name": "stdout",
     "output_type": "stream",
     "text": [
      "Then, an obvious estimate of p is k_obs/n = 6/20 = 0.3\n"
     ]
    }
   ],
   "source": [
    "print(f\"Then, an obvious estimate of p is k_obs/n = {k_obs}/{n} = {k_obs/n}\")"
   ]
  },
  {
   "cell_type": "markdown",
   "metadata": {},
   "source": [
    "In <b>Frequentist</b> (or <b>Classical</b>) data analysis, this estimate is the <b>Maximum Likelihood Estimate (MLE)</b> of $p$.  We won't go into MLEs here, but let's just say that the MLE provides us with, in some sense, an optimal estimate of a fixed parameter."
   ]
  },
  {
   "cell_type": "markdown",
   "metadata": {},
   "source": [
    "### Going Beyond the Classical Approach"
   ]
  },
  {
   "cell_type": "markdown",
   "metadata": {},
   "source": [
    "But, suppose we're not satisfied with the MLE estimate.  Perhaps, it seems too precise.  Couldn't a value of $p=0.3127$ also result in $k_{obs}$ successes?  It could.  In fact, since we're dealing with random behavior here, any value of $p$, where $0 \\lt p \\lt 1$, could result in $k_{obs}$ successes."
   ]
  },
  {
   "cell_type": "markdown",
   "metadata": {},
   "source": [
    "#### Using Simulation"
   ]
  },
  {
   "cell_type": "markdown",
   "metadata": {},
   "source": [
    "To get an idea of what values of $p$ would likely produce $k_{obs}$ successes in $n$ trials, we will <b>simulate</b> our real-world experiment, over and over, each time choosing a random value for $p$ (uniformly between 0 and 1) and use it to generate a simulated count of successes in $n$ trials, using a Binomial($n$, $p$) random number generator.  Globally, we'll keep track of the simulated trials that result in $k_{obs}$ successes."
   ]
  },
  {
   "cell_type": "markdown",
   "metadata": {},
   "source": [
    "\n",
    "To do this, we'll work with two lists of $p$'s:\n",
    "\n",
    "* <b><i>priors</i></b>: a list of $m$ random numbers, chosen uniformly between 0 and 1\n",
    "\n",
    "* <b><i>posteriors</i></b> a subset of the priors that, when used in a simulation of n trials, results in $k_{obs}$ successes"
   ]
  },
  {
   "cell_type": "markdown",
   "metadata": {},
   "source": [
    "<b>Note</b>: The priors list can be generated almost immediately, but generating the posteriors list takes a while, because, for pedagogical reasons, we're using a very simplistic, brute force approach to simulation here. (Don't do this in practice.)  Efficient simulation methods, such as <b>Markov Chain Monte Carlo (MCMC)</b> methods, are what has made Bayesian Data Analysis a practical tool.  We'll demonstrate MCMC later in this notebook.\n",
    "\n",
    "In the code below, we've added <i>%time</i> to the posterior calculation so we can see how long it takes.\n",
    "\n",
    "We also output a count of how many priors actually resulted in a simulation result that matches $k_{obs}$.  As you can see, below, there are very few, which is why such a large number of priors is used."
   ]
  },
  {
   "cell_type": "code",
   "execution_count": 5,
   "metadata": {},
   "outputs": [
    {
     "name": "stdout",
     "output_type": "stream",
     "text": [
      "CPU times: user 35.1 s, sys: 311 ms, total: 35.4 s\n",
      "Wall time: 34.4 s\n",
      "\n",
      "There were 47695 matches out of 1000000 priors.\n"
     ]
    }
   ],
   "source": [
    "from scipy.stats import uniform, binom\n",
    "\n",
    "m = 1_000_000  # Number of priors\n",
    "\n",
    "# Generate Priors and Posteriors\n",
    "priors = list(uniform.rvs(size=m))\n",
    "%time posteriors = [p for p in priors if binom.rvs(n,p)==k_obs]\n",
    "\n",
    "print(f\"\\nThere were {len(posteriors)} matches out of {m} priors.\")"
   ]
  },
  {
   "cell_type": "markdown",
   "metadata": {},
   "source": [
    "### Histograms"
   ]
  },
  {
   "cell_type": "markdown",
   "metadata": {},
   "source": [
    "The histograms here are scaled to be density functions."
   ]
  },
  {
   "cell_type": "markdown",
   "metadata": {},
   "source": [
    "#### Priors"
   ]
  },
  {
   "cell_type": "code",
   "execution_count": 20,
   "metadata": {},
   "outputs": [
    {
     "data": {
      "image/png": "[encoded data removed]",
      "text/plain": [
       "<Figure size 720x360 with 1 Axes>"
      ]
     },
     "metadata": {
      "needs_background": "light"
     },
     "output_type": "display_data"
    }
   ],
   "source": [
    "hbins = 25  # Number of bins for histograms\n",
    "figsize(10,5)\n",
    "plt.xlabel('Probability of Success')\n",
    "plt.title(f\"Approximate Prior Probability Density\")\n",
    "_ = plt.hist(priors, bins=hbins, density=True, alpha=0.55)"
   ]
  },
  {
   "cell_type": "markdown",
   "metadata": {},
   "source": [
    "#### Posteriors"
   ]
  },
  {
   "cell_type": "code",
   "execution_count": 21,
   "metadata": {},
   "outputs": [
    {
     "data": {
      "image/png": "[encoded data removed]",
      "text/plain": [
       "<Figure size 720x360 with 1 Axes>"
      ]
     },
     "metadata": {
      "needs_background": "light"
     },
     "output_type": "display_data"
    }
   ],
   "source": [
    "plt.xlabel('Probability of Success')\n",
    "plt.title(f\"Approximate Posterior Probability Density\")\n",
    "_ = plt.hist(posteriors, bins=hbins, density=True, alpha=0.55)"
   ]
  },
  {
   "cell_type": "markdown",
   "metadata": {},
   "source": [
    "## Example Summary"
   ]
  },
  {
   "cell_type": "markdown",
   "metadata": {},
   "source": [
    "We started by assuming we had conducted a Binomial($n$, $p$) experiment that resulted in $k_{obs}$ successes.\n",
    "\n",
    "Then, instead of accepting the usual"
   ]
  },
  {
   "cell_type": "code",
   "execution_count": null,
   "metadata": {},
   "outputs": [],
   "source": []
  },
  {
   "cell_type": "code",
   "execution_count": null,
   "metadata": {},
   "outputs": [],
   "source": []
  },
  {
   "cell_type": "code",
   "execution_count": null,
   "metadata": {},
   "outputs": [],
   "source": []
  },
  {
   "cell_type": "code",
   "execution_count": null,
   "metadata": {},
   "outputs": [],
   "source": []
  },
  {
   "cell_type": "markdown",
   "metadata": {},
   "source": [
    "## Introduction"
   ]
  },
  {
   "cell_type": "markdown",
   "metadata": {},
   "source": [
    "How one conducts and interprets statistical inferences has been the subject of much debate for many decades.  In the 20th century, the debate was mostly over the <b>Frequentist</b> vs. the <b>Fisherian</b> approaches.  The <b>Bayesian</b> approach was also around during that time, but did not become practical until the 1990s with the advent of efficient simulation methods, such as <b>Markov Chain Monte Carlo (MCMC)</b>, and widespread access to powerful computers. Here, I'll refer the Frequentist and Fisherian approaches as the <b>Classical</b> approach. Today, the debate over how to conduct and interpret statistical inference is more about the Classical vs. Bayesian approaches."
   ]
  },
  {
   "cell_type": "markdown",
   "metadata": {},
   "source": [
    "The purpose of this notebook is to provide a brief look at <b>Bayesian Data Analysis (BDA)</b>."
   ]
  },
  {
   "cell_type": "markdown",
   "metadata": {},
   "source": [
    "To begin, statistical analyses can be viewed in terms of the mathematical assumptions they make. Three broad categories are listed below, where each one makes successively greater assumptions than the previous one:\n",
    "1. <b>Exploratory Data Analysis</b> -- No probability model; just descriptive statistics\n",
    "1. <b>Classical Data Analysis</b> -- Probability model with fixed parameter\n",
    "1. <b>Bayesian Data Analysis</b> -- Probability model with random parameter, with its own model & fixed <i>hyper-parameter</i>"
   ]
  },
  {
   "cell_type": "markdown",
   "metadata": {},
   "source": [
    "The following three subsections go into a bit more depth on each of these three categories."
   ]
  },
  {
   "cell_type": "markdown",
   "metadata": {},
   "source": [
    "### 1. Exploratory Data Analysis"
   ]
  },
  {
   "cell_type": "markdown",
   "metadata": {},
   "source": [
    "No probability model.\n",
    "\n",
    "#### Examples\n",
    "\n",
    "* Average\n",
    "* Median\n",
    "* Quantiles\n",
    "* Range\n",
    "* Minimum/Maximum\n",
    "* Histogram "
   ]
  },
  {
   "cell_type": "markdown",
   "metadata": {},
   "source": [
    "### 2. Classical Data Analysis\n",
    "\n",
    "The probability model consists of a random variable, $X$, with a probability distribution, $F$ and a fixed parameter $\\theta$:\n",
    "\n",
    "$X \\sim F(x;\\theta)$\n",
    "\n",
    "\n",
    "#### Example #2\n",
    "\n",
    "<i><u>Discrete Case</u></i>\n",
    "\n",
    "In this example the outcomes are integer values, so we'll use $K$ and $k$ instead of $X$ and $x$ for the random variable and its outcome value, resp.\n",
    "\n",
    "The <b>binomial probability distribution</b>, $Binomial_n(k;\\theta)$, is a discrete distribution representing the probability of $k$ successes in $n$ independent trials, where the probability of success on each individual trial is $\\theta$, where $0 \\le \\theta \\le 1$.\n",
    "\n",
    "then $K \\sim Binomial_n(k;\\theta) \\equiv \\binom{n}{k} \\theta^k(1-\\theta)^{n-k}$\n",
    "> <p>where</p>\n",
    "> <p>$n \\in \\{1,2,3,...\\}$ -- The fixed number of trials</p>\n",
    "> <p>$k \\in \\{0,1,2,...,n\\}$ -- Number of successes in n trials (the outcome)</p>\n",
    "> <p>$\\theta \\in [0,1]$ -- The fixed probability of success for each trial</p>\n"
   ]
  },
  {
   "cell_type": "markdown",
   "metadata": {},
   "source": [
    "### 3. Bayesian Data Analysis\n",
    "\n",
    "<i>(NOTE: This starts out like the Classical approach, except that it goes a step further by assuming that the parameter itself, $\\theta$, has a model.)</i>\n",
    "\n",
    "Assumes a random variable, $X$, with a specific probability distribution, $F$, and <b>random</b> parameter, $\\Theta$, with its own distribution, $G$, and fixed parameter, $\\gamma$, sometimes called a hyper-parameter:\n",
    "\n",
    "$X \\sim F(x;\\Theta)$ where $\\Theta \\sim G(\\theta;\\gamma)$\n",
    "\n",
    "$G$ is called a <b><i>prior</i></b> distribution.\n",
    "\n",
    "#### Example #3\n",
    "\n",
    "<i><u>Discrete Case</u></i>\n",
    "\n",
    "Building on the discrete model in Example #2, above, except that instead of a fixed success probability, $\\theta$, here it is assumed to be a random variable, $\\Theta$, with its own distribution, a <b>Beta distribution</b>, $Beta(\\theta; \\alpha, \\beta)$, where $\\theta \\in [0,1]$, $\\alpha > 0$, and $\\beta > 0.$\n",
    "\n",
    "$K \\sim Binomial_n(k; \\Theta) \\equiv \\binom{n}{k} \\Theta^k(1-\\Theta)^{n-k}$\n",
    "\n",
    "$\\Theta \\sim Beta(\\theta; \\alpha, \\beta) \\equiv \\frac{\\Gamma(\\alpha)\\Gamma(\\beta)}{\\Gamma(\\alpha + \\beta)} \\theta^{\\alpha - 1} (1-\\theta)^{\\beta - 1}$\n",
    "\n",
    "> <p>where</p>\n",
    "> <p>$n \\in \\{1,2,3,...\\}$ -- Number of trials (a fixed value)</p>\n",
    "> <p>$k \\in \\{0,1,2,...,n\\}$ -- Number of successes</p>\n",
    "> <p>$\\theta \\in [0,1]$ -- The fixed probability of success for each trial\n",
    "> <p>$\\alpha > 0$ and $\\beta > 0$</p>"
   ]
  },
  {
   "cell_type": "code",
   "execution_count": null,
   "metadata": {},
   "outputs": [],
   "source": []
  },
  {
   "cell_type": "code",
   "execution_count": null,
   "metadata": {},
   "outputs": [],
   "source": []
  },
  {
   "cell_type": "markdown",
   "metadata": {},
   "source": [
    "## Scatch Work"
   ]
  },
  {
   "cell_type": "markdown",
   "metadata": {},
   "source": [
    "<b><i>Probability Theory</i></b> is a subfield of Mathematics that is concerned with mathematical models of random phenomena.\n",
    "\n",
    "\n",
    "<i><b>Mathematical Statistics</b></i> is a subfield of Probability Theory concerned with the derivation of features of a probability model based on a set of <b>Random Variables (RV)</b> from the model.\n",
    "\n",
    "<i><b>Applied Statistics</b></i> utilizes the results of Mathematical Statistics by replacing the set of RVs with actual observed data to make <b>statistical inferences</b>."
   ]
  }
 ],
 "metadata": {
  "kernelspec": {
   "display_name": "Python 3",
   "language": "python",
   "name": "python3"
  },
  "language_info": {
   "codemirror_mode": {
    "name": "ipython",
    "version": 3
   },
   "file_extension": ".py",
   "mimetype": "text/x-python",
   "name": "python",
   "nbconvert_exporter": "python",
   "pygments_lexer": "ipython3",
   "version": "3.8.2"
  }
 },
 "nbformat": 4,
 "nbformat_minor": 4
}
