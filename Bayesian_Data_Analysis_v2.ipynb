{
 "cells": [
  {
   "cell_type": "markdown",
   "metadata": {},
   "source": [
    "# A Brief Introduction to Bayesian Data Analysis"
   ]
  },
  {
   "cell_type": "markdown",
   "metadata": {},
   "source": [
    "<i>Version 2</i>"
   ]
  },
  {
   "cell_type": "markdown",
   "metadata": {},
   "source": [
    "<i>We could call Bayesian data analysis \"statistics using conditional probability\", but that wouldn’t put the butts in the seats.</i>  -- Andrew Gelman"
   ]
  },
  {
   "cell_type": "markdown",
   "metadata": {},
   "source": [
    "# WORK IN PROGRESS"
   ]
  },
  {
   "cell_type": "code",
   "execution_count": 2,
   "metadata": {},
   "outputs": [],
   "source": [
    "%matplotlib inline\n",
    "import matplotlib.pyplot as plt\n",
    "from IPython.core.pylabtools import figsize"
   ]
  },
  {
   "cell_type": "markdown",
   "metadata": {},
   "source": [
    "## An Example"
   ]
  },
  {
   "cell_type": "markdown",
   "metadata": {},
   "source": [
    "Suppose we conduct a real-world experiment consisting of a series of $n$ independent trials, where each trial will result in either a success or failure, and the probability of a success is an unknown value, $p$, where $0 \\le p \\le 1$.\n",
    "\n",
    "> By the way, this type of experiment has a <b>Binomial($n$, $p$)</b> distribution. [See Wikipedia for more](https://en.wikipedia.org/wiki/Binomial_distribution)\n",
    "\n",
    "Suppose further that, after conducting the $n$ trials, we observed a total of $k_{obs}$ successes. $0 \\le k_{obs} \\le n$."
   ]
  },
  {
   "cell_type": "markdown",
   "metadata": {},
   "source": [
    "We don't know the value of $p$, but let's assume that $n$ and $k_{obs}$ have the following values:"
   ]
  },
  {
   "cell_type": "code",
   "execution_count": 3,
   "metadata": {},
   "outputs": [],
   "source": [
    "n = 20  # Number of trials in our real-world experiment\n",
    "k_obs = 6  # Number of observed successes in our real-world experiment"
   ]
  },
  {
   "cell_type": "code",
   "execution_count": 5,
   "metadata": {},
   "outputs": [
    {
     "name": "stdout",
     "output_type": "stream",
     "text": [
      "Then, an reasonable estimate of p is k_obs/n = 6/20 = 0.3\n"
     ]
    }
   ],
   "source": [
    "print(f\"Then, an reasonable estimate of p is k_obs/n = {k_obs}/{n} = {k_obs/n}\")"
   ]
  },
  {
   "cell_type": "markdown",
   "metadata": {},
   "source": [
    "In <b>Frequentist</b> (or <b>Classical</b>) data analysis, this estimate is the <b>Maximum Likelihood Estimate (MLE)</b> of $p$.  We won't go into MLEs here, but let's just say that the MLE provides us with, in some sense, an optimal estimate of a fixed parameter."
   ]
  },
  {
   "cell_type": "markdown",
   "metadata": {},
   "source": [
    "### Going Beyond the Classical Approach"
   ]
  },
  {
   "cell_type": "markdown",
   "metadata": {},
   "source": [
    "Since we're dealing with random behavior here, any value of $p$, where $0 \\lt p \\lt 1$, could result in $k_{obs}$ successes.\n",
    "\n",
    "Some values $p$ will be more likely to produce $k_{obs}$ successes than other values.\n",
    "\n",
    "Let's just see what happens for a single case.\n",
    "\n",
    "Generate a random Uniform(0,1) value and then use it for $p$ to generate a Binomial($n$,$p$) random value:"
   ]
  },
  {
   "cell_type": "code",
   "execution_count": 95,
   "metadata": {},
   "outputs": [
    {
     "name": "stdout",
     "output_type": "stream",
     "text": [
      "\n",
      "Random Uniform(0,1) ==> 0.407)\n",
      "\n",
      "Random Binomial(20, 0.407) ==> 5 Successes (expected about 8)\n"
     ]
    },
    {
     "data": {
      "image/png": "[encoded data removed]",
      "text/plain": [
       "<Figure size 720x360 with 1 Axes>"
      ]
     },
     "metadata": {
      "needs_background": "light"
     },
     "output_type": "display_data"
    }
   ],
   "source": [
    "from scipy.stats import uniform, binom\n",
    "\n",
    "p = uniform.rvs()\n",
    "k = binom.rvs(n,p)\n",
    "result = [k, n-k]\n",
    "\n",
    "fig = plt.figure()\n",
    "ax = fig.add_axes([0,0,1,1])\n",
    "labels = ['Successes', 'Failures']\n",
    "ax.bar(labels, result, alpha=0.55)\n",
    "plt.title(f\"{n} trials with success probability $p$={p:0.3f}\")\n",
    "print(f\"\\nRandom Uniform(0,1) ==> {p:0.3f})\")\n",
    "print(f\"\\nRandom Binomial({n}, {p:0.3f}) ==> {k} Successes (expected about {int(round(p*n))})\")"
   ]
  },
  {
   "cell_type": "markdown",
   "metadata": {},
   "source": [
    "But, what we're interested in are values of $p$ that result in Binomial($n$,$p$) = $k_{obs}$, the value we've assumed to have observed at the beginning of this example.\n",
    "\n",
    "So, let's try some other values of $p$ -- a lot of other values -- and keep track of the ones that result in $k_{obs}$ successes.\n",
    "\n",
    "To do this, we'll work with two lists of $p$'s:\n",
    "\n",
    "* <b><i>priors</i></b>: a list of $m$ random numbers, chosen uniformly between 0 and 1\n",
    "\n",
    "* <b><i>posteriors</i></b>: the subset of the priors that, when used as the values of $p$ in simulations of n trials, result in $k_{obs}$ successes\n",
    "\n",
    "Generating the priors list is easy, but the posteriors list takes longer, so we'll time it using <i>%time</i>.\n",
    "\n",
    "And, we'll count the number of priors that result in $k_{obs}$ successes, because very few will, which is why such a large number of priors is used below.\n",
    "\n",
    "    NOTE: The code here is pedagogical, not practical.  Later, we'll show how to use more efficient simulation methods, such as <b>Markov Chain Monte Carlo (MCMC)</b>, a method that has made Bayesian Data Analysis (BDA) a practical tool."
   ]
  },
  {
   "cell_type": "code",
   "execution_count": 6,
   "metadata": {},
   "outputs": [
    {
     "name": "stdout",
     "output_type": "stream",
     "text": [
      "CPU times: user 35.5 s, sys: 443 ms, total: 35.9 s\n",
      "Wall time: 35.7 s\n",
      "\n",
      "There were 47599 matches out of 1000000 priors.\n"
     ]
    }
   ],
   "source": [
    "from scipy.stats import uniform, binom\n",
    "\n",
    "m = 1_000_000  # Number of priors\n",
    "\n",
    "# Generate Priors\n",
    "priors = list(uniform.rvs(size=m))\n",
    "\n",
    "# Generate Posteriors\n",
    "%time posteriors = [p for p in priors if binom.rvs(n,p)==k_obs]\n",
    "\n",
    "print(f\"\\nThere were {len(posteriors)} matches out of {m} priors.\")"
   ]
  },
  {
   "cell_type": "markdown",
   "metadata": {},
   "source": [
    "Now, let's look at the two lists, plotted as histograms and scaled to be density functions."
   ]
  },
  {
   "cell_type": "markdown",
   "metadata": {},
   "source": [
    "#### Priors Histogram"
   ]
  },
  {
   "cell_type": "markdown",
   "metadata": {},
   "source": [
    "The histogram of the priors list should look like the Uniform(0,1) probabilty density function.\n",
    "\n",
    "And it does."
   ]
  },
  {
   "cell_type": "code",
   "execution_count": 96,
   "metadata": {},
   "outputs": [
    {
     "data": {
      "image/png": "[encoded data removed]",
      "text/plain": [
       "<Figure size 720x360 with 1 Axes>"
      ]
     },
     "metadata": {
      "needs_background": "light"
     },
     "output_type": "display_data"
    }
   ],
   "source": [
    "hbins = 25  # Number of bins for histograms\n",
    "figsize(10,5)\n",
    "plt.xlabel(\"$p$\")\n",
    "plt.title(f\"Histogram of the Priors\")\n",
    "_ = plt.hist(priors, bins=hbins, density=True, alpha=0.55)"
   ]
  },
  {
   "cell_type": "markdown",
   "metadata": {},
   "source": [
    "#### Posteriors Histogram"
   ]
  },
  {
   "cell_type": "markdown",
   "metadata": {},
   "source": [
    "The histogram of the posteriors list more interesting than the priors list.\n",
    "\n",
    "We can see that it concentrates near the MLE value we computed earlier.\n",
    "\n",
    "But, unlike the MLE, which is a point estimate of $p$, here we see a probability density for $p$.\n",
    "\n",
    "And we should, because, essentially, we assumed that $p$ is a random variable with a Uniform(0,1) distribution."
   ]
  },
  {
   "cell_type": "code",
   "execution_count": 97,
   "metadata": {},
   "outputs": [
    {
     "data": {
      "image/png": "[encoded data removed]",
      "text/plain": [
       "<Figure size 720x360 with 1 Axes>"
      ]
     },
     "metadata": {
      "needs_background": "light"
     },
     "output_type": "display_data"
    }
   ],
   "source": [
    "plt.xlabel(\"$p$, given Binomial(n,p) = $k_{obs}$\")\n",
    "plt.title(f\"Histogram of the Posteriors list\")\n",
    "_ = plt.hist(posteriors, bins=hbins, density=True, alpha=0.5)"
   ]
  },
  {
   "cell_type": "markdown",
   "metadata": {},
   "source": [
    "Now, the next part of our example is not something we would necessarily do as part of a BDA, but we're doing it to show that the posteriors here match theoretical results that we will describe later.\n",
    "\n",
    "So, what we'll do now is search for a continuous distribution that best matches the data in the posteriors list."
   ]
  },
  {
   "cell_type": "markdown",
   "metadata": {},
   "source": [
    "#### Posterior Distribution (Empirically Found)"
   ]
  },
  {
   "cell_type": "markdown",
   "metadata": {},
   "source": [
    "SciPy supports about 90 continuous probability distributions.  The module, <b>fitdist</b>, finds the continuous distribution that best fits an input dataset (in this case, the posteriors).  For expediency, only the most common distributions (~18) are examined in the function call below."
   ]
  },
  {
   "cell_type": "code",
   "execution_count": 98,
   "metadata": {},
   "outputs": [
    {
     "data": {
      "text/plain": [
       "[['beta',\n",
       "  (7.977780059096542,\n",
       "   17.030621294042017,\n",
       "   -0.018810103903645202,\n",
       "   1.0570970012011838),\n",
       "  0.8122858659264305],\n",
       " ['exponweib',\n",
       "  (1.733712460167145,\n",
       "   2.5030085621457094,\n",
       "   0.021967162917845527,\n",
       "   0.2797716760792326),\n",
       "  0.7085068955117362]]"
      ]
     },
     "execution_count": 98,
     "metadata": {},
     "output_type": "execute_result"
    }
   ],
   "source": [
    "import fitdist as fd  # https://github.com/alreich/fitdist\n",
    "import warnings\n",
    "warnings.simplefilter(\"ignore\")\n",
    "\n",
    "raw_fit_results = fd.find_best_fit_distributions(posteriors,\n",
    "                                                 dist_names = fd.common_cont_dist_names,\n",
    "                                                 goodness_of_fit_pvalue = 0.50,\n",
    "                                                 drop_dist_names = []\n",
    "                                                )\n",
    "\n",
    "raw_fit_results"
   ]
  },
  {
   "cell_type": "markdown",
   "metadata": {},
   "source": [
    "The raw fit results, above, is a list of sublists, where each sublist consists of the following:\n",
    "* the distribution name\n",
    "* a list of the MLE parameter estimates (in scipy.stat's defined order)\n",
    "* and the Kolmogorov-Smirnov Goodness-of-Fit p-value\n",
    "\n",
    "The first item in the list is the best fitting distribution.\n",
    "\n",
    "We'll extract the parameters from the raw results and interpret their meaning as follows:"
   ]
  },
  {
   "cell_type": "code",
   "execution_count": 102,
   "metadata": {},
   "outputs": [
    {
     "name": "stdout",
     "output_type": "stream",
     "text": [
      "Best Fit to Posterior data: beta(8,17) over the interval [0, 1])\n"
     ]
    }
   ],
   "source": [
    "index = 0\n",
    "name = fit_results[index][0]\n",
    "mle = fit_results[index][1]\n",
    "mle_rounded = tuple(map(lambda x: int(round(x)), mle))\n",
    "shape_a, shape_b, location, scale = mle_rounded\n",
    "print(f\"Best Fit to Posterior data: {name}({shape_a},{shape_b}) over the interval [{location}, {scale}])\")"
   ]
  },
  {
   "cell_type": "markdown",
   "metadata": {},
   "source": [
    "Now, let's compare the empirically found beta distribution to the posteriors histogram by plotting them together."
   ]
  },
  {
   "cell_type": "code",
   "execution_count": 103,
   "metadata": {},
   "outputs": [
    {
     "data": {
      "image/png": "[encoded data removed]",
      "text/plain": [
       "<Figure size 720x360 with 1 Axes>"
      ]
     },
     "metadata": {
      "needs_background": "light"
     },
     "output_type": "display_data"
    }
   ],
   "source": [
    "from scipy.stats import beta\n",
    "from numpy import linspace\n",
    "\n",
    "plt.xlabel('$p$, given Binomial(n,p) = $k_{obs}$')\n",
    "plt.title(f'Posteriors Histogram (blue) and Beta({shape_a}, {shape_b}) PDF (red)')\n",
    "\n",
    "x = linspace(beta.ppf(0.001, *mle), beta.ppf(0.999, *mle), 100)\n",
    "plt.plot(x, beta.pdf(x, *mle), 'r-', lw=3, alpha=0.6)\n",
    "_, _, _ = plt.hist(posteriors, hbins, density=True, alpha=0.5)"
   ]
  },
  {
   "cell_type": "code",
   "execution_count": null,
   "metadata": {},
   "outputs": [],
   "source": []
  },
  {
   "cell_type": "markdown",
   "metadata": {},
   "source": [
    "SPOILER ALERT: According to theoretical results, that we haven't spoken about yet, the best fitting distribution should be the <b>beta</b> distribution."
   ]
  },
  {
   "cell_type": "markdown",
   "metadata": {},
   "source": [
    "More on the beta distribution can be found at the [SciPy beta distribution documentation](https://docs.scipy.org/doc/scipy/reference/generated/scipy.stats.beta.html) or on [Wikipedia's beta distribution page](https://en.wikipedia.org/wiki/Beta_distribution)."
   ]
  },
  {
   "cell_type": "markdown",
   "metadata": {},
   "source": [
    "Below, are a few sample plots of the Beta PDF for different values of its two shape parameters, _alpha & _beta.\n",
    "\n",
    "Note that the Beta(1,1), the red line below, is equivalent to the Uniform(0,1) PDF.\n",
    "\n",
    "What that means then, is that we began with a Beta(1,1) and computed a posterior distribution that was also a Beta."
   ]
  },
  {
   "cell_type": "code",
   "execution_count": 165,
   "metadata": {},
   "outputs": [
    {
     "data": {
      "image/png": "[encoded data removed]",
      "text/plain": [
       "<Figure size 720x360 with 1 Axes>"
      ]
     },
     "metadata": {
      "needs_background": "light"
     },
     "output_type": "display_data"
    }
   ],
   "source": [
    "def beta_plot(lower, upper, count, fmt, _alpha, _beta, location, scale):\n",
    "    mle = (_alpha, _beta, location, scale)\n",
    "    x = linspace(beta.ppf(lower, *mle), beta.ppf(upper, *mle), count)\n",
    "    plt.plot(x, beta.pdf(x, *mle), fmt, lw=3, alpha=0.5)\n",
    "\n",
    "lower = 0.001\n",
    "upper = 0.999\n",
    "location = 0.0\n",
    "scale = 1.0\n",
    "count = 100\n",
    "\n",
    "a = 1; b = 1; fmt = \"r-\"  # Red\n",
    "beta_plot(lower, upper, count, fmt, a, b, location, scale)\n",
    "\n",
    "a = 2; b = 2; fmt = \"b-\"  # Blue\n",
    "beta_plot(lower, upper, count, fmt, a, b, location, scale)\n",
    "\n",
    "a = 5; b = 2; fmt = \"g-\"  # Green\n",
    "beta_plot(lower, upper, count, fmt, a, b, location, scale)\n",
    "\n",
    "a = 3; b = 5; fmt = \"y-\"  # Yellow\n",
    "beta_plot(lower, upper, count, fmt, a, b, location, scale)\n",
    "\n",
    "a = 3; b = 3; fmt = \"m-\"  # Magenta\n",
    "beta_plot(lower, upper, count, fmt, a, b, location, scale)\n",
    "\n",
    "a = 0.5; b = 0.5; fmt = \"c-\"  # Cyan\n",
    "beta_plot(0.1, 0.9, count, fmt, a, b, location, scale)"
   ]
  },
  {
   "cell_type": "code",
   "execution_count": null,
   "metadata": {},
   "outputs": [],
   "source": []
  },
  {
   "cell_type": "code",
   "execution_count": null,
   "metadata": {},
   "outputs": [],
   "source": []
  },
  {
   "cell_type": "code",
   "execution_count": null,
   "metadata": {},
   "outputs": [],
   "source": []
  },
  {
   "cell_type": "code",
   "execution_count": null,
   "metadata": {},
   "outputs": [],
   "source": []
  },
  {
   "cell_type": "markdown",
   "metadata": {},
   "source": [
    "# Scratch Work Below"
   ]
  },
  {
   "cell_type": "markdown",
   "metadata": {},
   "source": [
    "The <b>Uniform(0,1)</b> prior, used above, is equivalent to a <b>Beta(1,1)</b> prior.  And, since the beta prior is conjugate with binomial likelihoods, the posterior should be a <b>Beta( 6 + 1, 20 - 6 + 1 ) = Beta(7,15)</b> which is close to what we obtained above.\n",
    "\n",
    "Here's the math:\n",
    "\n",
    "First of all, the Uniform distribution is equivalent to a Beta distribution:\n",
    "<p><center>$U(0,1) \\equiv Beta(1,1)$</center></p>\n",
    "<p>Then, assuming the <i>prior</i> and the <i>likelihood</i> are as follows:</p>\n",
    "<p><center><u>Prior</u>:  $\\pi(\\theta) \\sim Beta(\\alpha, \\beta) \\equiv \\frac{\\Gamma(\\alpha)\\Gamma(\\beta)}{\\Gamma(\\alpha + \\beta)} \\theta^{\\alpha - 1} (1-\\theta)^{\\beta - 1}$</center></p>\n",
    "<p><center><u>Likelihood</u>:  $Y \\sim Binomial(n,k,\\theta) \\equiv \\binom{n}{k} \\theta^k(1-\\theta)^{n-k}$</center></p>\n",
    "<p>So, multiplying the two, followed by some algebraic manipulation, we arrive at:</p>\n",
    "<p><center><u>Posterior</u>:  $\\pi(\\theta \\mid Y=k) \\sim Beta(k+\\alpha, n-k+\\beta)$</center></p>"
   ]
  },
  {
   "cell_type": "code",
   "execution_count": null,
   "metadata": {},
   "outputs": [],
   "source": []
  },
  {
   "cell_type": "markdown",
   "metadata": {},
   "source": [
    "We started by assuming we had conducted a Binomial($n$, $p$) experiment that resulted in $k_{obs}$ successes.\n",
    "\n",
    "Then, instead of accepting the usual"
   ]
  },
  {
   "cell_type": "code",
   "execution_count": null,
   "metadata": {},
   "outputs": [],
   "source": []
  },
  {
   "cell_type": "code",
   "execution_count": null,
   "metadata": {},
   "outputs": [],
   "source": []
  },
  {
   "cell_type": "markdown",
   "metadata": {},
   "source": [
    "## Introduction"
   ]
  },
  {
   "cell_type": "markdown",
   "metadata": {},
   "source": [
    "How one conducts and interprets statistical inferences has been the subject of much debate for many decades.  In the 20th century, the debate was mostly over the <b>Frequentist</b> vs. the <b>Fisherian</b> approaches.  The <b>Bayesian</b> approach was also around during that time, but did not become practical until the 1990s with the advent of efficient simulation methods, such as <b>Markov Chain Monte Carlo (MCMC)</b>, and widespread access to powerful computers. Here, I'll refer the Frequentist and Fisherian approaches as the <b>Classical</b> approach. Today, the debate over how to conduct and interpret statistical inference is more about the Classical vs. Bayesian approaches."
   ]
  },
  {
   "cell_type": "markdown",
   "metadata": {},
   "source": [
    "The purpose of this notebook is to provide a brief look at <b>Bayesian Data Analysis (BDA)</b>."
   ]
  },
  {
   "cell_type": "markdown",
   "metadata": {},
   "source": [
    "To begin, statistical analyses can be viewed in terms of the mathematical assumptions they make. Three broad categories are listed below, where each one makes successively greater assumptions than the previous one:\n",
    "1. <b>Exploratory Data Analysis</b> -- No probability model; just descriptive statistics\n",
    "1. <b>Classical Data Analysis</b> -- Probability model with fixed parameter\n",
    "1. <b>Bayesian Data Analysis</b> -- Probability model with random parameter, with its own model & fixed <i>hyper-parameter</i>"
   ]
  },
  {
   "cell_type": "markdown",
   "metadata": {},
   "source": [
    "The following three subsections go into a bit more depth on each of these three categories."
   ]
  },
  {
   "cell_type": "markdown",
   "metadata": {},
   "source": [
    "### 1. Exploratory Data Analysis"
   ]
  },
  {
   "cell_type": "markdown",
   "metadata": {},
   "source": [
    "No probability model.\n",
    "\n",
    "#### Examples\n",
    "\n",
    "* Average\n",
    "* Median\n",
    "* Quantiles\n",
    "* Range\n",
    "* Minimum/Maximum\n",
    "* Histogram "
   ]
  },
  {
   "cell_type": "markdown",
   "metadata": {},
   "source": [
    "### 2. Classical Data Analysis\n",
    "\n",
    "The probability model consists of a random variable, $X$, with a probability distribution, $F$ and a fixed parameter $\\theta$:\n",
    "\n",
    "$X \\sim F(x;\\theta)$\n",
    "\n",
    "\n",
    "#### Example #2\n",
    "\n",
    "<i><u>Discrete Case</u></i>\n",
    "\n",
    "In this example the outcomes are integer values, so we'll use $K$ and $k$ instead of $X$ and $x$ for the random variable and its outcome value, resp.\n",
    "\n",
    "The <b>binomial probability distribution</b>, $Binomial_n(k;\\theta)$, is a discrete distribution representing the probability of $k$ successes in $n$ independent trials, where the probability of success on each individual trial is $\\theta$, where $0 \\le \\theta \\le 1$.\n",
    "\n",
    "then $K \\sim Binomial_n(k;\\theta) \\equiv \\binom{n}{k} \\theta^k(1-\\theta)^{n-k}$\n",
    "> <p>where</p>\n",
    "> <p>$n \\in \\{1,2,3,...\\}$ -- The fixed number of trials</p>\n",
    "> <p>$k \\in \\{0,1,2,...,n\\}$ -- Number of successes in n trials (the outcome)</p>\n",
    "> <p>$\\theta \\in [0,1]$ -- The fixed probability of success for each trial</p>\n"
   ]
  },
  {
   "cell_type": "markdown",
   "metadata": {},
   "source": [
    "### 3. Bayesian Data Analysis\n",
    "\n",
    "<i>(NOTE: This starts out like the Classical approach, except that it goes a step further by assuming that the parameter itself, $\\theta$, has a model.)</i>\n",
    "\n",
    "Assumes a random variable, $X$, with a specific probability distribution, $F$, and <b>random</b> parameter, $\\Theta$, with its own distribution, $G$, and fixed parameter, $\\gamma$, sometimes called a hyper-parameter:\n",
    "\n",
    "$X \\sim F(x;\\Theta)$ where $\\Theta \\sim G(\\theta;\\gamma)$\n",
    "\n",
    "$G$ is called a <b><i>prior</i></b> distribution.\n",
    "\n",
    "#### Example #3\n",
    "\n",
    "<i><u>Discrete Case</u></i>\n",
    "\n",
    "Building on the discrete model in Example #2, above, except that instead of a fixed success probability, $\\theta$, here it is assumed to be a random variable, $\\Theta$, with its own distribution, a <b>Beta distribution</b>, $Beta(\\theta; \\alpha, \\beta)$, where $\\theta \\in [0,1]$, $\\alpha > 0$, and $\\beta > 0.$\n",
    "\n",
    "$K \\sim Binomial_n(k; \\Theta) \\equiv \\binom{n}{k} \\Theta^k(1-\\Theta)^{n-k}$\n",
    "\n",
    "$\\Theta \\sim Beta(\\theta; \\alpha, \\beta) \\equiv \\frac{\\Gamma(\\alpha)\\Gamma(\\beta)}{\\Gamma(\\alpha + \\beta)} \\theta^{\\alpha - 1} (1-\\theta)^{\\beta - 1}$\n",
    "\n",
    "> <p>where</p>\n",
    "> <p>$n \\in \\{1,2,3,...\\}$ -- Number of trials (a fixed value)</p>\n",
    "> <p>$k \\in \\{0,1,2,...,n\\}$ -- Number of successes</p>\n",
    "> <p>$\\theta \\in [0,1]$ -- The fixed probability of success for each trial\n",
    "> <p>$\\alpha > 0$ and $\\beta > 0$</p>"
   ]
  },
  {
   "cell_type": "code",
   "execution_count": null,
   "metadata": {},
   "outputs": [],
   "source": []
  },
  {
   "cell_type": "code",
   "execution_count": null,
   "metadata": {},
   "outputs": [],
   "source": []
  },
  {
   "cell_type": "markdown",
   "metadata": {},
   "source": [
    "## Scatch Work"
   ]
  },
  {
   "cell_type": "markdown",
   "metadata": {},
   "source": [
    "<b><i>Probability Theory</i></b> is a subfield of Mathematics that is concerned with mathematical models of random phenomena.\n",
    "\n",
    "\n",
    "<i><b>Mathematical Statistics</b></i> is a subfield of Probability Theory concerned with the derivation of features of a probability model based on a set of <b>Random Variables (RV)</b> from the model.\n",
    "\n",
    "<i><b>Applied Statistics</b></i> utilizes the results of Mathematical Statistics by replacing the set of RVs with actual observed data to make <b>statistical inferences</b>."
   ]
  }
 ],
 "metadata": {
  "kernelspec": {
   "display_name": "Python 3",
   "language": "python",
   "name": "python3"
  },
  "language_info": {
   "codemirror_mode": {
    "name": "ipython",
    "version": 3
   },
   "file_extension": ".py",
   "mimetype": "text/x-python",
   "name": "python",
   "nbconvert_exporter": "python",
   "pygments_lexer": "ipython3",
   "version": "3.7.3"
  }
 },
 "nbformat": 4,
 "nbformat_minor": 4
}
