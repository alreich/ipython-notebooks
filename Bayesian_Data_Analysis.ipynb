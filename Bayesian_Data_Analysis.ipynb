{
 "cells": [
  {
   "cell_type": "markdown",
   "metadata": {},
   "source": [
    "# A Brief Introduction to Bayesian Data Analysis"
   ]
  },
  {
   "cell_type": "markdown",
   "metadata": {},
   "source": [
    "<i>Alfred J. Reich</i>"
   ]
  },
  {
   "cell_type": "markdown",
   "metadata": {},
   "source": [
    "## Overview"
   ]
  },
  {
   "cell_type": "markdown",
   "metadata": {},
   "source": [
    "This notebook uses a very simple simulation (inefficient, but lucid) to illustrate how the <b>Bayesian posterior</b> distribution for a <b>Binomial</b> <i>success rate</i> (i.e., a <i>parameter</i>) can be computed when a <b>Uniform prior distribution</b> on the parameter is assumed.\n",
    "\n",
    "Following that demonstration, the 90+ continuous distributions of <i>SciPy.stats</i> are searched to find the distribution that best fits the posterior distribution found, above.  (<u>Spoiler Alert</u>: The best fitting distribution closely matches the well-known theoretical answer to this problem, the <b>Beta distribution</b>.)\n",
    "\n",
    "Finally, we will do the whole thing all over again, succinctly and quickly (i.e., efficient, but less lucid), using a <b>Markov chain Monte Carlo (MCMC)</b> simulation."
   ]
  },
  {
   "cell_type": "markdown",
   "metadata": {},
   "source": [
    "## Dependencies"
   ]
  },
  {
   "cell_type": "code",
   "execution_count": 1,
   "metadata": {},
   "outputs": [],
   "source": [
    "%matplotlib inline\n",
    "import matplotlib.pyplot as plt\n",
    "from IPython.core.pylabtools import figsize"
   ]
  },
  {
   "cell_type": "code",
   "execution_count": 2,
   "metadata": {},
   "outputs": [],
   "source": [
    "import numpy as np\n",
    "import scipy.stats as ss\n",
    "from scipy.stats import binom, uniform\n",
    "from functools import reduce\n",
    "import fitdist as fd  # https://github.com/alreich/fitdist\n",
    "import warnings\n",
    "warnings.simplefilter('ignore')\n",
    "\n",
    "# NOTE: arviz needs to be installed in the Python environment, but not imported directly"
   ]
  },
  {
   "cell_type": "markdown",
   "metadata": {},
   "source": [
    "## Probability & Statistics"
   ]
  },
  {
   "cell_type": "markdown",
   "metadata": {},
   "source": [
    "<b><i>Probability Theory</i></b> is concerned with mathematical models of random phenomena.\n",
    "\n",
    "\n",
    "Some important concepts in probability theory are:  (quantities here can be scalars or vectors)\n",
    "\n",
    "* The <b><i>Random Variable (RV)</i></b> and its associated <b><i>Distribution Function (DF)</i></b>\n",
    "  * usually written $X \\sim F(x;\\theta)$\n",
    "  * where $x$ represents a value of the RV\n",
    "  * and $\\theta$ is a parameter that affects the shape of the DF\n",
    "* The <b><i>Expectated Value</i></b> of a RV\n",
    "  * Defined as $E(X) = \\int_{\\Omega} \\! x \\, \\mathrm{d}F$\n",
    "  * where $\\Omega$ is the sample space of all possible outcomes of $X$\n",
    "* The <b><i>Independence</i></b> of two random variables $X$ and $Y$\n",
    "  * sometimes written $X \\perp Y$\n",
    "  * the outcome of $X$ has no effect on the outcome of $Y$, and vice versa\n",
    "  * $X \\perp Y$ iff $F_{X,Y}(x,y) = F_X(x)F_Y(y)$\n",
    "    * where $F_{X,Y}, F_X, F_Y$ are the joint and individual distributions of $X$ & $Y$, resp.\n",
    "\n",
    "<i><b>Mathematical Statistics</b></i> is a subfield of Probability Theory concerned with derivation of features of a probability model based on a set of RVs from the model.  Often the set of RVs are assumed to be <i><b>Independence and Identically Distributed (i.i.d.)</b></i>.\n",
    "\n",
    "If $X_1,X_2,...,X_n$ are independent and identically (iid) distributed RVs with distribution $F(x;\\theta)$, and $g(x_1,x_2,...,x_n)$ is a function such that $E(g(X_1,X_2,...X_n)) = \\theta$, then $g$ is called a <b><i>statistic</i></b>, and it is also an <i><b>unbiased estimator</b></i> of $\\theta$."
   ]
  },
  {
   "cell_type": "markdown",
   "metadata": {},
   "source": [
    "## Statistical Modeling Assumptions"
   ]
  },
  {
   "cell_type": "markdown",
   "metadata": {},
   "source": [
    "The probabilistic assumptions that go into statistical inferences can be categorized into three levels, where at each level, the assumptions that are made increase.\n",
    "\n",
    "(Note: Random variables and parameters described below can be scalars or vectors.)"
   ]
  },
  {
   "cell_type": "markdown",
   "metadata": {},
   "source": [
    "### 1. Exploratory"
   ]
  },
  {
   "cell_type": "markdown",
   "metadata": {},
   "source": [
    "No modeling assumptions"
   ]
  },
  {
   "cell_type": "markdown",
   "metadata": {},
   "source": [
    "#### Examples"
   ]
  },
  {
   "cell_type": "markdown",
   "metadata": {},
   "source": [
    "* Average\n",
    "* Median\n",
    "* Quantiles\n",
    "* Quantile Ranges\n",
    "* Minimum/Maximum\n",
    "* Histogram"
   ]
  },
  {
   "cell_type": "markdown",
   "metadata": {},
   "source": [
    "### 2. Frequentist / Classical"
   ]
  },
  {
   "cell_type": "markdown",
   "metadata": {},
   "source": [
    "Assumes a random variable, $X$, with a specific probability distribution, $F$ and fixed parameters, $\\theta$:\n",
    "\n",
    "$X \\sim F(x;\\theta)$"
   ]
  },
  {
   "cell_type": "markdown",
   "metadata": {},
   "source": [
    "#### Example"
   ]
  },
  {
   "cell_type": "markdown",
   "metadata": {},
   "source": [
    "Let $\\Phi$ be the standard normal distribution and $\\theta = \\begin{pmatrix} \\mu \\\\ \\sigma \\end{pmatrix}$, where $- \\infty < \\mu < + \\infty$ and $\\sigma > 0$,\n",
    "\n",
    "then $F(x;\\theta) \\equiv \\Phi({{x - \\mu} \\over \\sigma})$ is one of the most commonly used models in all of statistics."
   ]
  },
  {
   "cell_type": "markdown",
   "metadata": {},
   "source": [
    "### 3. Bayesian"
   ]
  },
  {
   "cell_type": "markdown",
   "metadata": {},
   "source": [
    "Assumes a random variable, $X$, with a specific probability distribution, $F$, and <b>random</b> parameter, $\\Theta$, with its own distribution, $G$, and fixed parameter, $\\gamma$, sometimes called a hyper-parameter:\n",
    "\n",
    "$X \\sim F(x;\\Theta)$ where $\\Theta \\sim G(\\theta;\\gamma)$\n",
    "\n",
    "Here $F$ is referred to as the <b><i>likelihood</i></b> and $G$ as the <b><i>prior</i></b> distribution."
   ]
  },
  {
   "cell_type": "markdown",
   "metadata": {},
   "source": [
    "#### Example"
   ]
  },
  {
   "cell_type": "markdown",
   "metadata": {},
   "source": [
    "We'll use $K$ for the name of the random variable here, instead of $X$.\n",
    "\n",
    "$K \\sim Binomial(n,k,\\Theta) \\equiv \\binom{n}{k} \\Theta^k(1-\\Theta)^{n-k}$\n",
    "> <p>where</p>\n",
    "> <p>$n \\in \\{1,2,3,...\\}$ -- Number of trials (a fixed value)</p>\n",
    "> <p>$k \\in \\{0,1,2,...,n\\}$ -- Number of successes</p>\n",
    "> <p>$\\theta \\in [0,1]$ -- Success probability for each trial</p>"
   ]
  },
  {
   "cell_type": "markdown",
   "metadata": {},
   "source": [
    "$\\Theta \\sim Beta(\\alpha, \\beta) \\equiv \\frac{\\Gamma(\\alpha)\\Gamma(\\beta)}{\\Gamma(\\alpha + \\beta)} \\theta^{\\alpha - 1} (1-\\theta)^{\\beta - 1}$\n",
    "> <p>where $\\alpha > 0$ and $\\beta > 0$</p>"
   ]
  },
  {
   "cell_type": "markdown",
   "metadata": {},
   "source": [
    "## Bayesian Data Analysis"
   ]
  },
  {
   "cell_type": "markdown",
   "metadata": {},
   "source": [
    "(briefly describe the Bayesian approach)"
   ]
  },
  {
   "cell_type": "markdown",
   "metadata": {},
   "source": [
    "## Binomial Distribution"
   ]
  },
  {
   "cell_type": "markdown",
   "metadata": {},
   "source": [
    "The binomial probability distribution is a discrete distribution representing the probability of <b>k</b> successes in <b>n</b> independent trials, where the probability of success on each individual trial is <b>p</b>.\n",
    "\n",
    "The most common problem we run into in the <i>real world</i> is where we've observed k successes n attempts ($k = 0,...,n$) and we want an estimate of the probability of a success, $p$.  An obvious guess for $p$ is $k/n$, and it turns out that, that if we use the binomial probability distribution, $k/n$ is the <i>Maximum Likelihood Estimator (MLE)</i> for $p$."
   ]
  },
  {
   "cell_type": "markdown",
   "metadata": {},
   "source": [
    "### Example 1"
   ]
  },
  {
   "cell_type": "markdown",
   "metadata": {},
   "source": [
    "<u>Question</u>:\n",
    "\n",
    "* Toss a fair coin 4 times.\n",
    "* What is the probability that we will see exactly 2 heads (H) in the 4 tosses?"
   ]
  },
  {
   "cell_type": "markdown",
   "metadata": {},
   "source": [
    "<u>Answer</u>:\n",
    "\n",
    "* There are $2^4 = 16$ ways, in sequential order, that the 4 tosses can occur (HHHH, HHHT, HHTH, ..., TTTT).\n",
    "* Each is equally likely, so each has probability 1/16 of occurring.\n",
    "* Only 6 of the ways contain exactly 2 heads: HHTT, HTHT, HTTH, THHT, THTH, TTHH.\n",
    "* So the probability of getting 2 heads in 4 coin tosses is $6*(1/16) = 0.375$."
   ]
  },
  {
   "cell_type": "markdown",
   "metadata": {},
   "source": [
    "Or, we can use SciPy's binomial <b>probability mass function (PMF)</b> as follows:"
   ]
  },
  {
   "cell_type": "code",
   "execution_count": 4,
   "metadata": {},
   "outputs": [
    {
     "data": {
      "text/plain": [
       "0.3750000000000001"
      ]
     },
     "execution_count": 4,
     "metadata": {},
     "output_type": "execute_result"
    }
   ],
   "source": [
    "binom.pmf(2, 4, 1/2)  # 2 successes in 4 trials with p = 1/2"
   ]
  },
  {
   "cell_type": "markdown",
   "metadata": {},
   "source": [
    "### General Form of the Binomial PMF"
   ]
  },
  {
   "cell_type": "markdown",
   "metadata": {},
   "source": [
    "In general, the form of the binomial PMF is the following."
   ]
  },
  {
   "cell_type": "markdown",
   "metadata": {},
   "source": [
    "$f(k;p,n) =  \\binom{n}{k} p^k(1-p)^{n-k}$, for $k \\in \\{0,1,2,...,n\\}$ and where $\\binom{n}{k} = \\frac{n!}{k!(n-k)!}$"
   ]
  },
  {
   "cell_type": "markdown",
   "metadata": {},
   "source": [
    "The $\\binom{n}{k}$ in the formula above provides the number of ways <b>k</b> successes can occur in <b>n</b> trials. So, for the example here: $\\binom{4}{2} = \\frac{4!}{2!(4-2)!} = 6$."
   ]
  },
  {
   "cell_type": "markdown",
   "metadata": {},
   "source": [
    "Just FYI, the theoretical <b>mean</b> and <b>variance</b> of a <b>binom(n,k)</b> are as follows:\n",
    "\n",
    "$E(X) = np$\n",
    "<p>$Var(X) = np(1−p)$</p>"
   ]
  },
  {
   "cell_type": "markdown",
   "metadata": {},
   "source": [
    "### Example 2"
   ]
  },
  {
   "cell_type": "markdown",
   "metadata": {},
   "source": [
    "Consider the probability of <b>k</b> successes in 20 independent trials, where the probability of success on each individual trial is <b>30%</b>."
   ]
  },
  {
   "cell_type": "markdown",
   "metadata": {},
   "source": [
    "That is,\n",
    "\n",
    "* n = 20\n",
    "* p = 0.3\n",
    "* Possible values of k are 0, 1, 2, ... , 20"
   ]
  },
  {
   "cell_type": "code",
   "execution_count": 5,
   "metadata": {},
   "outputs": [],
   "source": [
    "n = 20\n",
    "p = 0.3"
   ]
  },
  {
   "cell_type": "code",
   "execution_count": 6,
   "metadata": {},
   "outputs": [
    {
     "name": "stdout",
     "output_type": "stream",
     "text": [
      "So, theoretically, we should see np = 20 x 0.3 = 6.0 successes.\n"
     ]
    }
   ],
   "source": [
    "print(f\"So, theoretically, we should see np = {n} x {p} = {n*p} successes.\")"
   ]
  },
  {
   "cell_type": "code",
   "execution_count": 7,
   "metadata": {},
   "outputs": [
    {
     "name": "stdout",
     "output_type": "stream",
     "text": [
      "Or, using SciPy.stat's binomial random variable: 6.0 successes\n"
     ]
    }
   ],
   "source": [
    "print(f\"Or, using SciPy.stat's binomial random variable: {binom(n,p).mean()} successes\")"
   ]
  },
  {
   "cell_type": "markdown",
   "metadata": {},
   "source": [
    "Of course, other outcomes are possible.  We can get anywhere from 0 to 20 successes in 20 trials.  The probabilities for each of the 21 possible outcomes (values of k) are shown in the graph below.  The <b>Binomial(20, 0.3)</b> PMF is graphed below."
   ]
  },
  {
   "cell_type": "code",
   "execution_count": 8,
   "metadata": {
    "scrolled": true
   },
   "outputs": [
    {
     "data": {
      "image/png": "[encoded data removed]",
      "text/plain": [
       "<Figure size 720x360 with 1 Axes>"
      ]
     },
     "metadata": {
      "needs_background": "light"
     },
     "output_type": "display_data"
    }
   ],
   "source": [
    "x = np.arange(0, n + 1)\n",
    "\n",
    "figsize(10,5)\n",
    "plt.plot(x, binom.pmf(x,n,p), 'ko')\n",
    "plt.vlines(x, 0, binom.pmf(x,n,p), colors='k', lw=2, alpha=0.2)\n",
    "plt.title('Binomial probability mass function (PMF) for n={} and p={}'.format(n, p))\n",
    "plt.xlabel('Number of Successes (k)')\n",
    "plt.ylabel('Probability')\n",
    "plt.show()"
   ]
  },
  {
   "cell_type": "markdown",
   "metadata": {},
   "source": [
    "## Maximum Likelihood Method"
   ]
  },
  {
   "cell_type": "markdown",
   "metadata": {},
   "source": [
    "We can also use the <b>binom</b> function in <i>scipy.stats</i> to generate <b>simulated values</b> for <b>k</b>, the number of successes in <b>n</b> trials where the probability of a success is <b>p</b>."
   ]
  },
  {
   "cell_type": "markdown",
   "metadata": {},
   "source": [
    "Each call to <b>binom.rvs(n,p)</b> generates a count of successes as if n trials occurred with probability p of success."
   ]
  },
  {
   "cell_type": "code",
   "execution_count": 15,
   "metadata": {},
   "outputs": [
    {
     "name": "stdout",
     "output_type": "stream",
     "text": [
      "20 independent trials where p=0.3 results in 8 successes\n"
     ]
    }
   ],
   "source": [
    "print(f\"{n} independent trials where p={p} results in {binom.rvs(n,p)} successes\")"
   ]
  },
  {
   "cell_type": "markdown",
   "metadata": {},
   "source": [
    "For example, below, we'll call the same function over and over, <b>m</b> times, and then graph a histogram of the results.  It should have a similar shape to the PMF above, except that it's not scaled to be a density function."
   ]
  },
  {
   "cell_type": "code",
   "execution_count": 20,
   "metadata": {},
   "outputs": [
    {
     "data": {
      "image/png": "[encoded data removed]",
      "text/plain": [
       "<Figure size 720x360 with 1 Axes>"
      ]
     },
     "metadata": {
      "needs_background": "light"
     },
     "output_type": "display_data"
    }
   ],
   "source": [
    "m = 100_000  # Number of simulated values\n",
    "binom_sample = list(map(lambda x: binom.rvs(n,p), range(m)))\n",
    "_ = plt.hist(binom_sample, bins=2*n+1, alpha=0.55)"
   ]
  },
  {
   "cell_type": "markdown",
   "metadata": {},
   "source": [
    "If we conduct $i=1,...,m$ trials,\n",
    "<p>where $k_i$ is the number of successes on the $i^{th}$ trial,</p>\n",
    "<p>then the Maximum Likelihood Estimator (MLE) of $p$ for each individual trial is $\\hat{p}_i = {k_i \\over n}$</p>\n",
    "<p>and the MLE for $p$ using the entire set of trials is</p>\n",
    "<p><center>$\\hat{p} = {1 \\over m}\\left( \\sum_{i=1}^{m} \\hat{p}_i \\right) = {1 \\over m}\\left( \\sum_{i=1}^{m} {k_i \\over n} \\right)$,</center></p>"
   ]
  },
  {
   "cell_type": "code",
   "execution_count": 21,
   "metadata": {},
   "outputs": [
    {
     "name": "stdout",
     "output_type": "stream",
     "text": [
      "Using the data just generated, the MLE for p is 0.3000905\n"
     ]
    }
   ],
   "source": [
    "sum = reduce((lambda x, y: x + y), binom_sample)\n",
    "print(f\"Using the data just generated, the MLE for p is {sum/(m*n)}\")"
   ]
  },
  {
   "cell_type": "markdown",
   "metadata": {},
   "source": [
    "## Bayesian Method"
   ]
  },
  {
   "cell_type": "markdown",
   "metadata": {},
   "source": [
    "Suppose we've run a real-world experiment consisting of a series of $n$ independent trials, where each trial has an unknown probability, $p$, of success, and we've observed a total of $k$ successes.\n",
    "\n",
    "Then initialize an empty list called <i>posteriors</i>, and do the following:\n",
    "\n",
    "1. Since we don't know $p$, randomly choose a value, $p_i$, from the Uniform(0,1) distribution\n",
    "1. Using $p_i$, compute a random value, $k_i$, from a Binomial($n$,$p_i$) distribution\n",
    "1. If $k_i = k$ save $k_i$ in <i>posteriors</i>, otherwise discard $k_i$."
   ]
  },
  {
   "cell_type": "code",
   "execution_count": 22,
   "metadata": {},
   "outputs": [],
   "source": [
    "m = 1_000_000  # Number of priors to use\n",
    "hbins = 25  # Number of bins for histograms\n",
    "n = 20  # Number of trials in our real-world experiment\n",
    "k = 6  # Number of observed successes in our real-world experiment"
   ]
  },
  {
   "cell_type": "markdown",
   "metadata": {},
   "source": [
    "The way we'll code this is very simple and succinct for pedigogical purposes.\n",
    "\n",
    "Let's first compute a list of priors, as described in Step 1, above:"
   ]
  },
  {
   "cell_type": "code",
   "execution_count": 23,
   "metadata": {},
   "outputs": [
    {
     "name": "stdout",
     "output_type": "stream",
     "text": [
      "First three priors: [0.5681425100647833, 0.26336624990784896, 0.8574851010660728]\n"
     ]
    },
    {
     "data": {
      "image/png": "[encoded data removed]",
      "text/plain": [
       "<Figure size 720x360 with 1 Axes>"
      ]
     },
     "metadata": {
      "needs_background": "light"
     },
     "output_type": "display_data"
    }
   ],
   "source": [
    "priors = list(uniform.rvs(size=m))\n",
    "\n",
    "print(f\"First three priors: {priors[:3]}\")\n",
    "\n",
    "_ = plt.hist(priors, bins=hbins, density=True, alpha=0.55)"
   ]
  },
  {
   "cell_type": "markdown",
   "metadata": {},
   "source": [
    "### Here's the key thing we want to do..."
   ]
  },
  {
   "cell_type": "markdown",
   "metadata": {},
   "source": [
    "Go through the priors, using each one (p) to simulate Binomial(n,p) observations, keeping only those that match the observed number of successes.\n",
    "\n",
    "The result, will be the distribution of priors that yielded matches to our actual data (i.e., k = 6)."
   ]
  },
  {
   "cell_type": "code",
   "execution_count": 24,
   "metadata": {},
   "outputs": [
    {
     "name": "stdout",
     "output_type": "stream",
     "text": [
      "CPU times: user 34.2 s, sys: 537 ms, total: 34.7 s\n",
      "Wall time: 34.3 s\n",
      "Number of matches = 47564\n"
     ]
    },
    {
     "data": {
      "image/png": "[encoded data removed]",
      "text/plain": [
       "<Figure size 720x360 with 1 Axes>"
      ]
     },
     "metadata": {
      "needs_background": "light"
     },
     "output_type": "display_data"
    }
   ],
   "source": [
    "%time posteriors = [p for p in priors if binom.rvs(n,p)==6]\n",
    "\n",
    "print(\"Number of matches = {}\".format(len(posteriors)))\n",
    "_ = plt.hist(posteriors, bins=hbins, density=True, alpha=0.55)"
   ]
  },
  {
   "cell_type": "markdown",
   "metadata": {},
   "source": [
    "## Best Fitting Distribution"
   ]
  },
  {
   "cell_type": "code",
   "execution_count": 25,
   "metadata": {},
   "outputs": [
    {
     "name": "stderr",
     "output_type": "stream",
     "text": [
      "/Users/alfredreich/anaconda3/envs/bayes/lib/python3.7/site-packages/scipy/stats/_distn_infrastructure.py:1682: RuntimeWarning: divide by zero encountered in log\n",
      "  return log(self._pdf(x, *args))\n",
      "/Users/alfredreich/anaconda3/envs/bayes/lib/python3.7/site-packages/scipy/stats/_continuous_distns.py:6470: RuntimeWarning: divide by zero encountered in power\n",
      "  Px = Fx**(lam-1.0) + (np.asarray(1-Fx))**(lam-1.0)\n",
      "/Users/alfredreich/anaconda3/envs/bayes/lib/python3.7/site-packages/scipy/stats/_distn_infrastructure.py:2381: RuntimeWarning: invalid value encountered in double_scalars\n",
      "  Lhat = muhat - Shat*mu\n"
     ]
    }
   ],
   "source": [
    "fit_results = fd.find_best_fit_distributions(posteriors,\n",
    "                                             dist_names = fd.common_cont_dist_names,\n",
    "                                             goodness_of_fit_pvalue = 0.25,\n",
    "                                             drop_dist_names = []\n",
    "                                            )"
   ]
  },
  {
   "cell_type": "code",
   "execution_count": 26,
   "metadata": {},
   "outputs": [
    {
     "data": {
      "text/plain": [
       "[['beta',\n",
       "  (7.101931564964702,\n",
       "   15.949316825245182,\n",
       "   -0.00037698998075126107,\n",
       "   1.035430883185067),\n",
       "  0.6487363773139669]]"
      ]
     },
     "execution_count": 26,
     "metadata": {},
     "output_type": "execute_result"
    }
   ],
   "source": [
    "fit_results"
   ]
  },
  {
   "cell_type": "code",
   "execution_count": 38,
   "metadata": {},
   "outputs": [
    {
     "data": {
      "image/png": "[encoded data removed]",
      "text/plain": [
       "<Figure size 720x360 with 1 Axes>"
      ]
     },
     "metadata": {
      "needs_background": "light"
     },
     "output_type": "display_data"
    }
   ],
   "source": [
    "from scipy.stats import beta\n",
    "\n",
    "pos = 0\n",
    "mle = fit_results[pos][1]\n",
    "dist_name = \"beta\"\n",
    "\n",
    "x = np.linspace(beta.ppf(0.001, *mle), beta.ppf(0.999, *mle), 100)\n",
    "\n",
    "plt.plot(x, beta.pdf(x, *mle), 'r-', lw=3, alpha=0.6, label=dist_name)\n",
    "\n",
    "_, _, _ = plt.hist(posteriors, hbins, density=True, alpha=0.55)"
   ]
  },
  {
   "cell_type": "code",
   "execution_count": 44,
   "metadata": {},
   "outputs": [
    {
     "name": "stdout",
     "output_type": "stream",
     "text": [
      "The red line is approximately a beta(7,16) distribution\n"
     ]
    }
   ],
   "source": [
    "print(f\"The red line is approximately a {dist_name}({int(round(mle[0]))},{int(round(mle[1]))}) distribution\")"
   ]
  },
  {
   "cell_type": "markdown",
   "metadata": {},
   "source": [
    "### The result matches the theory very well..."
   ]
  },
  {
   "cell_type": "markdown",
   "metadata": {},
   "source": [
    "The <b>Uniform(0,1)</b> prior, used above, is equivalent to a <b>Beta(1,1)</b> prior.  And, since the beta prior is conjugate with binomial likelihoods, the posterior should be a <b>Beta( 6 + 1, 20 - 6 + 1 ) = Beta(7,15)</b> which is close to what we obtained above.\n",
    "\n",
    "Here's the math:\n",
    "\n",
    "First of all, the Uniform distribution is equivalent to a Beta distribution:\n",
    "<p><center>$U(0,1) \\equiv Beta(1,1)$</center></p>\n",
    "<p>Then, assuming the <i>prior</i> and the <i>likelihood</i> are as follows:</p>\n",
    "<p><center><u>Prior</u>:  $\\pi(\\theta) \\sim Beta(\\alpha, \\beta) \\equiv \\frac{\\Gamma(\\alpha)\\Gamma(\\beta)}{\\Gamma(\\alpha + \\beta)} \\theta^{\\alpha - 1} (1-\\theta)^{\\beta - 1}$</center></p>\n",
    "<p><center><u>Likelihood</u>:  $Y \\sim Binomial(n,k,\\theta) \\equiv \\binom{n}{k} \\theta^k(1-\\theta)^{n-k}$</center></p>\n",
    "<p>So, multiplying the two, followed by some algebraic manipulation, we arrive at:</p>\n",
    "<p><center><u>Posterior</u>:  $\\pi(\\theta \\mid Y=k) \\sim Beta(k+\\alpha, n-k+\\beta)$</center></p>"
   ]
  },
  {
   "cell_type": "markdown",
   "metadata": {},
   "source": [
    "## Bibliography"
   ]
  },
  {
   "cell_type": "markdown",
   "metadata": {},
   "source": [
    "1. <u>Introduction to Mathematical Statistics</u> ...\n",
    "1. A discussion about the ambiguity of commonly used probability notations: [What’s Wrong with Probability Notation?](https://lingpipe-blog.com/2009/10/13/whats-wrong-with-probability-notation/)"
   ]
  },
  {
   "cell_type": "code",
   "execution_count": null,
   "metadata": {},
   "outputs": [],
   "source": []
  }
 ],
 "metadata": {
  "kernelspec": {
   "display_name": "Python 3",
   "language": "python",
   "name": "python3"
  },
  "language_info": {
   "codemirror_mode": {
    "name": "ipython",
    "version": 3
   },
   "file_extension": ".py",
   "mimetype": "text/x-python",
   "name": "python",
   "nbconvert_exporter": "python",
   "pygments_lexer": "ipython3",
   "version": "3.7.4"
  }
 },
 "nbformat": 4,
 "nbformat_minor": 2
}
