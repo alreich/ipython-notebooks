{
 "cells": [
  {
   "cell_type": "markdown",
   "metadata": {},
   "source": [
    "# Introduction to Bayesian Data Analysis"
   ]
  },
  {
   "cell_type": "markdown",
   "metadata": {},
   "source": [
    "<i>Alfred J. Reich</i>"
   ]
  },
  {
   "cell_type": "markdown",
   "metadata": {},
   "source": [
    "### Overview"
   ]
  },
  {
   "cell_type": "markdown",
   "metadata": {},
   "source": [
    "This notebook uses a very simple simulation (inefficient, but lucid) to illustrate how the <b>Bayesian posterior</b> distribution for a <b>Binomial</b> <i>success rate</i> (i.e., a <i>parameter</i>) can be computed when a <b>Uniform prior distribution</b> on the parameter is assumed.\n",
    "\n",
    "Following that demonstration, the 90+ continuous distributions of <i>SciPy.stats</i> are searched to find the distribution that best fits the posterior distribution found, above.  (<u>Spoiler Alert</u>: The best fitting distribution closely matches the well-known theoretical answer to this problem, the <b>Beta distribution</b>.)\n",
    "\n",
    "Finally, we will do the whole thing all over again, succinctly and quickly (i.e., efficient, but less lucid), using a <b>Markov chain Monte Carlo (MCMC)</b> simulation."
   ]
  },
  {
   "cell_type": "code",
   "execution_count": 1,
   "metadata": {},
   "outputs": [],
   "source": [
    "%matplotlib inline\n",
    "import matplotlib.pyplot as plt\n",
    "from IPython.core.pylabtools import figsize"
   ]
  },
  {
   "cell_type": "code",
   "execution_count": 2,
   "metadata": {},
   "outputs": [],
   "source": [
    "import numpy as np\n",
    "import scipy.stats as ss\n",
    "from scipy.stats import binom, uniform\n",
    "from functools import reduce\n",
    "\n",
    "import fitdist as fd"
   ]
  },
  {
   "cell_type": "markdown",
   "metadata": {},
   "source": [
    "## Conditional Probability"
   ]
  },
  {
   "cell_type": "markdown",
   "metadata": {},
   "source": [
    "Let $A$ and $B$ be events from a set of possible events $\\mathcal B$.  Then the expression, $P_{\\mathcal B}(A \\mid B)$, represents the <i>conditional probability</i> of the event $A$ <u>given</u> that we know that the event $B$ has already occurred.  "
   ]
  },
  {
   "cell_type": "markdown",
   "metadata": {},
   "source": [
    "Example:\n",
    "* Choose a card at random from a deck of 52 playing cards\n",
    "* What is the probability that the card is a <i>Heart</i>? <b>P(Heart) = 1/4</b>\n",
    "* What is the probability that the card is a <i>Heart</i>, given that we know the card is <i>red</i>?  <b>P(Heart | Red) = 1/2</b>"
   ]
  },
  {
   "cell_type": "markdown",
   "metadata": {},
   "source": [
    "A conditional probability can be calculated as follows:"
   ]
  },
  {
   "cell_type": "markdown",
   "metadata": {},
   "source": [
    "$P_{\\mathcal B}(A \\mid B) = \\dfrac {P_{\\mathcal B}(A \\cap B)} {P_{\\mathcal B}(B)}$"
   ]
  },
  {
   "cell_type": "markdown",
   "metadata": {},
   "source": [
    "So, P( Heart | Red ) = P( Heart & Red ) / P( Red ) = (1/4) / (1/2) = 1/2"
   ]
  },
  {
   "cell_type": "markdown",
   "metadata": {},
   "source": [
    "##  Bayes Theorem"
   ]
  },
  {
   "cell_type": "markdown",
   "metadata": {},
   "source": [
    "By using the definition of conditional probability, above, and the fact that set intersection is symmetric, i.e., ${P_{\\mathcal B}(A \\cap B)} = {P_{\\mathcal B}(B \\cap A)}$, we can also write an expression for the probability of $B$ given $A$:"
   ]
  },
  {
   "cell_type": "markdown",
   "metadata": {},
   "source": [
    "$P_{\\mathcal B}(B \\mid A) = \\dfrac {P_{\\mathcal B}(A \\cap B)} {P_{\\mathcal B}(A)}$"
   ]
  },
  {
   "cell_type": "markdown",
   "metadata": {},
   "source": [
    "Combining the last two expessions for conditional probabilities, we obtain <i>Bayes Theorem</i>:"
   ]
  },
  {
   "cell_type": "markdown",
   "metadata": {},
   "source": [
    "$P_{\\mathcal B}(B \\mid A) = \\dfrac {P_{\\mathcal B}(A \\mid B) P_{\\mathcal B}(B)} {P_{\\mathcal B}(A)}$"
   ]
  },
  {
   "cell_type": "markdown",
   "metadata": {},
   "source": [
    "Note that Bayes Theorem is a statement about probabilities.  Bayes Theorem is at the heart of <i>Bayesian Statistical Analysis</i>, but at this point, we have not yet defined <i>statistics</i>.  So, using Bayes Theorem, as defined above, does not mean that we are \"doing\" Bayesian Statistical Analysis.\n",
    "\n",
    "To actually *do* Bayesian Statistical Analysis, or any kind of statistics, for that matter, we need some more definitions and results."
   ]
  },
  {
   "cell_type": "markdown",
   "metadata": {},
   "source": [
    "First, we provide a short refresher on the binomial distribution."
   ]
  },
  {
   "cell_type": "markdown",
   "metadata": {},
   "source": [
    "## Binomial Distribution"
   ]
  },
  {
   "cell_type": "markdown",
   "metadata": {},
   "source": [
    "A discrete distribution representing the probability of <b>k</b> successes in <b>n</b> independent trials, where the probability of success on each individual trial is <b>p</b>."
   ]
  },
  {
   "cell_type": "markdown",
   "metadata": {},
   "source": [
    "### Example 1"
   ]
  },
  {
   "cell_type": "markdown",
   "metadata": {},
   "source": [
    "<u>Question</u>:\n",
    "\n",
    "* Toss a fair coin 4 times.\n",
    "* What is the probability that we will see exactly 2 heads (H) in the 4 tosses?"
   ]
  },
  {
   "cell_type": "markdown",
   "metadata": {},
   "source": [
    "<u>Answer</u>:\n",
    "\n",
    "* There are $2^4 = 16$ ways, in sequential order, that the 4 tosses can occur (HHHH, HHHT, HHTH, ..., TTTT).\n",
    "* Each is equally likely, so each has probability 1/16 of occurring.\n",
    "* Only 6 of the ways contain exactly 2 heads: HHTT, HTHT, HTTH, THHT, THTH, TTHH.\n",
    "* So the probability of getting 2 heads in 4 coin tosses is $6*(1/16) = 0.375$."
   ]
  },
  {
   "cell_type": "markdown",
   "metadata": {},
   "source": [
    "Or, we can just use SciPy's binomial <b>probability mass function (PMF)</b> as follows:"
   ]
  },
  {
   "cell_type": "code",
   "execution_count": 3,
   "metadata": {},
   "outputs": [
    {
     "data": {
      "text/plain": [
       "0.3750000000000001"
      ]
     },
     "execution_count": 3,
     "metadata": {},
     "output_type": "execute_result"
    }
   ],
   "source": [
    "binom.pmf(2, 4, 1/2)  # 2 successes in 4 trials with p = 1/2"
   ]
  },
  {
   "cell_type": "markdown",
   "metadata": {},
   "source": [
    "### General Form of the Binomial PMF"
   ]
  },
  {
   "cell_type": "markdown",
   "metadata": {},
   "source": [
    "In general, the form of the binomial PMF is the following."
   ]
  },
  {
   "cell_type": "markdown",
   "metadata": {},
   "source": [
    "$f(k;p,n) =  \\binom{n}{k} p^k(1-p)^{n-k}$, for $k \\in \\{0,1,2,...,n\\}$ and where $\\binom{n}{k} = \\frac{n!}{k!(n-k)!}$"
   ]
  },
  {
   "cell_type": "markdown",
   "metadata": {},
   "source": [
    "The $\\binom{n}{k}$ in the formula above provides the number of ways <b>k</b> successes can occur in <b>n</b> trials. So, for the example here: $\\binom{4}{2} = \\frac{4!}{2!(4-2)!} = 6$."
   ]
  },
  {
   "cell_type": "markdown",
   "metadata": {},
   "source": [
    "Just FYI, the theoretical <b>mean</b> and <b>variance</b> of a <b>binom(n,k)</b> are as follows:\n",
    "\n",
    "$E(X) = np$\n",
    "<p>$Var(X) = np(1−p)$</p>"
   ]
  },
  {
   "cell_type": "markdown",
   "metadata": {},
   "source": [
    "### Example 2"
   ]
  },
  {
   "cell_type": "markdown",
   "metadata": {},
   "source": [
    "Consider the probability of <b>k</b> successes in 20 independent trials, where the probability of success on each individual trial is <b>30%</b>."
   ]
  },
  {
   "cell_type": "markdown",
   "metadata": {},
   "source": [
    "That is,\n",
    "\n",
    "* n = 20\n",
    "* p = 0.3\n",
    "* Possible values of k are 0, 1, 2, ... , 20"
   ]
  },
  {
   "cell_type": "code",
   "execution_count": 4,
   "metadata": {},
   "outputs": [],
   "source": [
    "n = 20\n",
    "p = 0.3"
   ]
  },
  {
   "cell_type": "code",
   "execution_count": 5,
   "metadata": {},
   "outputs": [
    {
     "name": "stdout",
     "output_type": "stream",
     "text": [
      "So, theoretically, we should see np = 20 x 0.3 = 6.0 successes.\n"
     ]
    }
   ],
   "source": [
    "print(f\"So, theoretically, we should see np = {n} x {p} = {n*p} successes.\")"
   ]
  },
  {
   "cell_type": "code",
   "execution_count": 6,
   "metadata": {},
   "outputs": [
    {
     "name": "stdout",
     "output_type": "stream",
     "text": [
      "Or, using SciPy.stat's binomial random variable: 6.0 successes\n"
     ]
    }
   ],
   "source": [
    "print(f\"Or, using SciPy.stat's binomial random variable: {binom(n,p).mean()} successes\")"
   ]
  },
  {
   "cell_type": "markdown",
   "metadata": {},
   "source": [
    "Of course, other outcomes are possible.  We can get anywhere from 0 to 20 successes in 20 trials.  The probabilities for each of the 21 possible outcomes (values of k) are shown in the graph below.  The <b>Binomial(20, 0.3)</b> PMF is graphed below."
   ]
  },
  {
   "cell_type": "code",
   "execution_count": 7,
   "metadata": {
    "scrolled": true
   },
   "outputs": [
    {
     "data": {
      "image/png": "[encoded data removed]",
      "text/plain": [
       "<Figure size 720x360 with 1 Axes>"
      ]
     },
     "metadata": {
      "needs_background": "light"
     },
     "output_type": "display_data"
    }
   ],
   "source": [
    "x = np.arange(0, n + 1)\n",
    "\n",
    "figsize(10,5)\n",
    "plt.plot(x, binom.pmf(x,n,p), 'ko')\n",
    "plt.vlines(x, 0, binom.pmf(x,n,p), colors='k', lw=2, alpha=0.2)\n",
    "plt.title('Binomial probability mass function (PMF) for n={} and p={}'.format(n, p))\n",
    "plt.xlabel('Number of Successes (k)')\n",
    "plt.ylabel('Probability')\n",
    "plt.show()"
   ]
  },
  {
   "cell_type": "markdown",
   "metadata": {},
   "source": [
    "## Maximum Likelihood Method"
   ]
  },
  {
   "cell_type": "markdown",
   "metadata": {},
   "source": [
    "We can also use the <b>binom</b> function in <i>scipy.stats</i> to generate <b>simulated values</b> for <b>k</b>, the number of successes in <b>n</b> trials where the probability of a success is <b>p</b>.\n",
    "\n",
    "For example, below, we generate a large number, <b>m</b>, of pseudo-random observations from a <b>binom(n,p)</b> distibution, and, as expected, it looks like the binomial PMF, above"
   ]
  },
  {
   "cell_type": "code",
   "execution_count": 8,
   "metadata": {},
   "outputs": [
    {
     "data": {
      "image/png": "[encoded data removed]",
      "text/plain": [
       "<Figure size 720x360 with 1 Axes>"
      ]
     },
     "metadata": {
      "needs_background": "light"
     },
     "output_type": "display_data"
    }
   ],
   "source": [
    "m = 100_000  # Number of simulated values\n",
    "binom_sample = list(map(lambda x: binom.rvs(n,p), range(m)))\n",
    "_ = plt.hist(binom_sample, bins=2*n+1, alpha=0.55)"
   ]
  },
  {
   "cell_type": "markdown",
   "metadata": {},
   "source": [
    "If we conduct $i=1,...,m$ trials,\n",
    "<p>where $k_i$ is the number of successes on the $i^{th}$ trial,</p>\n",
    "<p>then the Maximum Likelihood Estimator (MLE) of p for each individual trial is $k_i \\over n$</p>\n",
    "<p>and the MLE for p using the entire set of trials is</p>\n",
    "<p><center>$\\hat{p} = {1 \\over m}\\left( \\sum_{i=1}^{m} {k_i \\over n} \\right)$,</center></p>"
   ]
  },
  {
   "cell_type": "code",
   "execution_count": 9,
   "metadata": {},
   "outputs": [
    {
     "name": "stdout",
     "output_type": "stream",
     "text": [
      "Using the data just generated, the MLE for p is 0.3002695\n"
     ]
    }
   ],
   "source": [
    "sum = reduce((lambda x, y: x + y), binom_sample)\n",
    "print(f\"Using the data just generated, the MLE for p is {sum/(m*n)}\")"
   ]
  },
  {
   "cell_type": "markdown",
   "metadata": {},
   "source": [
    "## Bayesian Method"
   ]
  },
  {
   "cell_type": "markdown",
   "metadata": {},
   "source": [
    "In the calculations, above, we determined the "
   ]
  },
  {
   "cell_type": "markdown",
   "metadata": {},
   "source": [
    "Suppose we've run a real-world experiment consisting of a series of $n$ independent trials, where each trial has an unknown probability, $p$, of success, and we've observed a total of $k$ successes.\n",
    "\n",
    "Then initialize an empty list called <i>posteriors</i>, and do the following:\n",
    "\n",
    "1. Since we don't know $p$, randomly choose a value, $p_i$, from the Uniform(0,1) distribution\n",
    "1. Using $p_i$, compute a random value, $k_i$, from a Binomial($n$,$p_i$) distribution\n",
    "1. If $k_i = k$ save $k_i$ in <i>posteriors</i>, otherwise discard $k_i$."
   ]
  },
  {
   "cell_type": "code",
   "execution_count": null,
   "metadata": {},
   "outputs": [],
   "source": [
    "m = 1_000_000  # Number of priors to use\n",
    "hbins = 25  # Number of bins for histograms\n",
    "n = 20  # Number of trials in our real-world experiment\n",
    "k = 6  # Number of observed successes in our real-world experiment"
   ]
  },
  {
   "cell_type": "markdown",
   "metadata": {},
   "source": [
    "The way we'll code this is very simple and succinct for pedigogical purposes.\n",
    "\n",
    "Let's first compute a list of priors, as described in Step 1, above:"
   ]
  },
  {
   "cell_type": "code",
   "execution_count": null,
   "metadata": {},
   "outputs": [],
   "source": [
    "priors = list(uniform.rvs(size=m))\n",
    "\n",
    "print(f\"First three priors: {priors[:3]}\")\n",
    "\n",
    "_ = plt.hist(priors, bins=hbins, density=True, alpha=0.55)"
   ]
  },
  {
   "cell_type": "markdown",
   "metadata": {},
   "source": [
    "### Here's the key thing we want to do..."
   ]
  },
  {
   "cell_type": "markdown",
   "metadata": {},
   "source": [
    "Go through the priors, using each one (p) to simulate Binomial(n,p) observations, keeping only those that match the observed number of successes.\n",
    "\n",
    "The result, will be the distribution of priors that yielded matches to our actual data (i.e., k = 6)."
   ]
  },
  {
   "cell_type": "code",
   "execution_count": null,
   "metadata": {},
   "outputs": [],
   "source": [
    "%time posteriors = [p for p in priors if binom.rvs(n,p)==6]\n",
    "\n",
    "print(\"Number of matches = {}\".format(len(posteriors)))\n",
    "_ = plt.hist(posteriors, bins=hbins, density=True, alpha=0.55)"
   ]
  },
  {
   "cell_type": "markdown",
   "metadata": {},
   "source": [
    "## Best Fitting Distribution"
   ]
  },
  {
   "cell_type": "code",
   "execution_count": null,
   "metadata": {},
   "outputs": [],
   "source": [
    "fit_results = fd.find_best_fit_distributions(posteriors,\n",
    "                                             dist_names = fd.common_cont_dist_names,\n",
    "                                             goodness_of_fit_pvalue = 0.25,\n",
    "                                             drop_dist_names = []\n",
    "                                            )"
   ]
  },
  {
   "cell_type": "code",
   "execution_count": null,
   "metadata": {},
   "outputs": [],
   "source": [
    "fit_results"
   ]
  },
  {
   "cell_type": "code",
   "execution_count": null,
   "metadata": {},
   "outputs": [],
   "source": [
    "from scipy.stats import beta\n",
    "\n",
    "pos = 0\n",
    "mle = fit_results[pos][1]\n",
    "dist_name = \"beta\"\n",
    "\n",
    "x = np.linspace(beta.ppf(0.001, *mle), beta.ppf(0.999, *mle), 100)\n",
    "\n",
    "plt.plot(x, beta.pdf(x, *mle), 'r-', lw=3, alpha=0.6, label=dist_name)\n",
    "\n",
    "_, _, _ = plt.hist(posteriors, hbins, density=True, alpha=0.55)"
   ]
  },
  {
   "cell_type": "code",
   "execution_count": null,
   "metadata": {
    "scrolled": true
   },
   "outputs": [],
   "source": [
    "print('{} density function (red) for parameters:\\n{}'\n",
    "      .format(dist_name, mle))"
   ]
  },
  {
   "cell_type": "markdown",
   "metadata": {},
   "source": [
    "### The result matches the theory very well..."
   ]
  },
  {
   "cell_type": "markdown",
   "metadata": {},
   "source": [
    "The <b>Uniform(0,1)</b> prior, used above, is equivalent to a <b>Beta(1,1)</b> prior.  And, since the beta prior is conjugate with binomial likelihoods, the posterior should be a <b>Beta( 6 + 1, 20 - 6 + 1 ) = Beta(7,15)</b> which is close to what we obtained above.\n",
    "\n",
    "Here's the math:\n",
    "\n",
    "First of all, the Uniform distribution is equivalent to a Beta distribution:\n",
    "<p><center>$U(0,1) \\equiv Beta(1,1)$</center></p>\n",
    "<p>Then, assuming the <i>prior</i> and the <i>likelihood</i> are as follows:</p>\n",
    "<p><center><u>Prior</u>:  $\\pi(\\theta) \\sim Beta(\\alpha, \\beta) \\equiv \\frac{\\Gamma(\\alpha)\\Gamma(\\beta)}{\\Gamma(\\alpha + \\beta)} \\theta^{\\alpha - 1} (1-\\theta)^{\\beta - 1}$</center></p>\n",
    "<p><center><u>Likelihood</u>:  $Y \\sim Binomial(n,k,\\theta) \\equiv \\binom{n}{k} \\theta^k(1-\\theta)^{n-k}$</center></p>\n",
    "<p>So, multiplying the two, followed by some algebraic manipulation, we arrive at:</p>\n",
    "<p><center><u>Posterior</u>:  $\\pi(\\theta \\mid Y=k) \\sim Beta(k+\\alpha, n-k+\\beta)$</center></p>"
   ]
  },
  {
   "cell_type": "markdown",
   "metadata": {},
   "source": [
    "## Bibliography"
   ]
  },
  {
   "cell_type": "markdown",
   "metadata": {},
   "source": [
    "1. <u>Introduction to Mathematical Statistics</u> ...\n",
    "1. A discussion about the ambiguity of commonly used probability notations: [What’s Wrong with Probability Notation?](https://lingpipe-blog.com/2009/10/13/whats-wrong-with-probability-notation/)"
   ]
  },
  {
   "cell_type": "code",
   "execution_count": null,
   "metadata": {},
   "outputs": [],
   "source": []
  }
 ],
 "metadata": {
  "kernelspec": {
   "display_name": "Python 3",
   "language": "python",
   "name": "python3"
  },
  "language_info": {
   "codemirror_mode": {
    "name": "ipython",
    "version": 3
   },
   "file_extension": ".py",
   "mimetype": "text/x-python",
   "name": "python",
   "nbconvert_exporter": "python",
   "pygments_lexer": "ipython3",
   "version": "3.7.5"
  }
 },
 "nbformat": 4,
 "nbformat_minor": 2
}
