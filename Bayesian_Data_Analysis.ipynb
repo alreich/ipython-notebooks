{
 "cells": [
  {
   "cell_type": "markdown",
   "metadata": {},
   "source": [
    "# WORK IN PROGRESS"
   ]
  },
  {
   "cell_type": "markdown",
   "metadata": {},
   "source": [
    "# Simple Example of Bayesian Modeling"
   ]
  },
  {
   "cell_type": "markdown",
   "metadata": {},
   "source": [
    "<i><center>Alfred J. Reich, Ph.D.</center></i>"
   ]
  },
  {
   "cell_type": "markdown",
   "metadata": {},
   "source": [
    "The focus here is on the structure of a Bayesian data model, without attempting to interpret what it means.\n",
    "\n",
    "It is assumed that the reader has knowledge of elementary probability theory, including discrete and continuous probability distributions and densities, as well as expectations of random variables."
   ]
  },
  {
   "cell_type": "markdown",
   "metadata": {},
   "source": [
    "## Modeling Assumptions\n",
    "\n",
    "> <i>\"All models are wrong, but some are useful\"</i>\n",
    "> <p>-- George Box</p>\n",
    "\n",
    "Data analyses can be categorized in terms of the assumptions made about how the data being analyzed are probabilistically modeled. Broadly speaking, there are three categories, or levels, of assumptions (listed below) where, at each level, assumptions increase -- and so does the possibility that the added assumptions are wrong.\n",
    "\n",
    "<b>1. Exploratory Data Analysis</b> -- No probability model; just descriptive statistics\n",
    "> Examples include: Average, Median, Quantiles, Range, Variance, Minimum/Maximum, Histogram, and various other plots and charts\n",
    "\n",
    "<b>2. Classical Data Analysis</b> -- Probability model with fixed parameter\n",
    "\n",
    ">$$X \\sim F(x;\\theta)$$\n",
    "><p>Assumes a random variable, $X$, with a probability distribution, $F$, and a fixed parameter, $\\theta$. (The quantities here can be scalars or vectors.)\n",
    "\n",
    "<b>3. Bayesian Data Analysis</b> -- Probability model with random parameter that has its own model\n",
    "\n",
    ">$$X \\sim F(x;\\Theta)$$\n",
    "><p>$$\\Theta \\sim G(\\theta;\\gamma)$$</p>\n",
    "><p>Assumes a random variable, $X$, with a probability distribution, $F$, and\n",
    ">random parameter, $\\Theta$, with its own distribution, $G$, and (usually) fixed parameter, $\\gamma$, called a hyperparameter. (Again, the quantities here can be scalars or vectors.)\n",
    "><p>$G$ is called a <b><i>prior</i></b> distribution.</p>"
   ]
  },
  {
   "cell_type": "markdown",
   "metadata": {},
   "source": [
    "## An Example"
   ]
  },
  {
   "cell_type": "markdown",
   "metadata": {},
   "source": [
    "Suppose we conduct a real-world experiment consisting of:\n",
    "* a series of $n$ independent trials,\n",
    "* where each trial results in either a <i>Success</i> or <i>Failure</i>,\n",
    "* and the probability of a Success on any one trial is an unknown value, $\\theta$, where $0 \\le \\theta \\le 1$,\n",
    "* and the outcome of the experiment is the total number of successful trials, $K$, out of $n$ trials.\n",
    "\n",
    "This type of experiment follows a <b>Binomial</b> probability model. Also, $n$ is not a parameter; it is a known, fixed value that represents the number of observations (trials) we make.\n",
    "\n",
    ">$$K \\sim Binomial_n(k; \\theta) = \\binom{n}{k} \\theta^k(1-\\theta)^{n-k}$$\n",
    "><p>where</p>\n",
    "><p>$k \\in \\{0,1,2,...,n\\}$ -- Number of successes in n trials (the outcome)</p>\n",
    "><p>$\\theta \\in [0,1]$ -- The probability of success for each trial</p>\n",
    "><p>$n \\in \\{1,2,3,...\\}$ -- The fixed number of trials conducted</p>\n",
    "\n",
    "Suppose further that, after conducting the $n$ trials, we observed a total of $K=k_{obs}$ successes. $0 \\le k_{obs} \\le n$."
   ]
  },
  {
   "cell_type": "markdown",
   "metadata": {},
   "source": [
    "We don't know the value of $\\theta$, but let's assume, for this example, that $n$ and $k_{obs}$ have the following values:"
   ]
  },
  {
   "cell_type": "code",
   "execution_count": 5,
   "metadata": {},
   "outputs": [],
   "source": [
    "n = 20  # Number of trials in our real-world experiment\n",
    "k_obs = 6  # Number of observed successes in our real-world experiment"
   ]
  },
  {
   "cell_type": "code",
   "execution_count": 6,
   "metadata": {},
   "outputs": [
    {
     "name": "stdout",
     "output_type": "stream",
     "text": [
      "Then, a \"reasonable\" estimate of p is k_obs/n = 6/20 = 0.3\n"
     ]
    }
   ],
   "source": [
    "print(f\"Then, a \\\"reasonable\\\" estimate of p is k_obs/n = {k_obs}/{n} = {k_obs/n}\")"
   ]
  },
  {
   "cell_type": "markdown",
   "metadata": {},
   "source": [
    "In <i>Classical</i> (<i>Frequentist</i>) data analysis, this estimate is the <i>Maximum Likelihood Estimate (MLE)</i> of $\\theta$.  We won't go into MLEs here, but let's just say that the MLE provides us with, in a Frequentist sense, an optimal estimate of a deterministic parameter."
   ]
  },
  {
   "cell_type": "markdown",
   "metadata": {},
   "source": [
    "### A Single Simulation Experiment"
   ]
  },
  {
   "cell_type": "markdown",
   "metadata": {},
   "source": [
    "Since we're dealing with random behavior here, any value of $\\theta$, where $0 \\lt \\theta \\lt 1$, could result in $k_{obs}$ successes.\n",
    "\n",
    "Some values of $\\theta$ will be more likely to produce $k_{obs}$ successes than other values.\n",
    "\n",
    "So, let's see what happens when we generate a single <i>Uniform(0,1)</i> random value, $\\theta$, and then use it to generate a single $Binomial_n(k; \\theta)$ random value, $k$, which should approximate the expectation of $K$:\n",
    "<p>$$E[K]=n\\theta$$\n",
    "\n",
    "Here are the calculations:"
   ]
  },
  {
   "cell_type": "code",
   "execution_count": 7,
   "metadata": {},
   "outputs": [
    {
     "name": "stdout",
     "output_type": "stream",
     "text": [
      "\n",
      "Random Uniform(0,1) ==> 0.814\n",
      "                          |\n",
      "                          |\n",
      "                          |\n",
      "    Random Binomial(20, 0.814) ==> k = 19 successes; expected 16 (0.814 x 20)\n"
     ]
    }
   ],
   "source": [
    "from scipy.stats import uniform, binom\n",
    "\n",
    "theta = uniform.rvs()  # generates a single Uniform(0,1) random value, theta\n",
    "k = binom.rvs(n, theta) # uses theta to generate a single Binomial(n, theta) random value\n",
    "\n",
    "print(f\"\\nRandom Uniform(0,1) ==> {theta:0.3f}\")\n",
    "print(\"                          |\")\n",
    "print(\"                          |\")\n",
    "print(\"                          |\")\n",
    "print(f\"    Random Binomial({n}, {theta:0.3f}) ==> k = {k} successes; expected {int(round(n*theta))} ({theta:0.3f} x {n})\")"
   ]
  },
  {
   "cell_type": "markdown",
   "metadata": {},
   "source": [
    "But, what we're really interested in are values of $\\theta$ that, when used in a $Binomial_n(k;\\theta)$ trial, yield a result that matches $K = k_{obs}$, our previously observed number of successes.\n",
    "\n",
    "So, we'll repeat what we just did, except that we'll do it many times over."
   ]
  },
  {
   "cell_type": "markdown",
   "metadata": {},
   "source": [
    "### Approximating a Conditional Probability using Simulation"
   ]
  },
  {
   "cell_type": "markdown",
   "metadata": {},
   "source": [
    "> <i>\"We could call Bayesian data analysis 'statistics using conditional probability', but that wouldn’t put the butts in the seats.\"</i>  \n",
    "> <p>-- Andrew Gelman</p>"
   ]
  },
  {
   "cell_type": "markdown",
   "metadata": {},
   "source": [
    "Now, we'll try more values of $\\theta$ -- a lot more values -- and keep track of the ones that result in $k_{obs}$ successes.  Essentially, we're assuming that our <i>Prior</i> model is the <i>Uniform(0,1)</i> distribution, and what we'll obtain is an approximation to the conditional probability density of $\\Theta$ given that $K=k_{obs}$ (i.e., the <i>Posterior</i>):\n",
    "\n",
    "$$P(\\theta | K = k_{obs})$$\n",
    "\n",
    "To do this, we'll work with two lists of $\\theta$'s:\n",
    "\n",
    "* <b><i>priors</i></b>: a list of $m$ independent <i>Uniform(0,1)</i> random numbers\n",
    "\n",
    "* <b><i>posteriors</i></b>: the subset of priors that, when used in a $Binomial_n(k;\\theta)$ trial, result in $k_{obs}$ successes\n",
    "\n",
    "The code that calculates these two lists is below. (<i>Note: The code is pedagogical, not practical.  Farther below, we'll show how to use a more efficient simulation method.)</i>"
   ]
  },
  {
   "cell_type": "markdown",
   "metadata": {},
   "source": [
    "#### Computing the Priors and Posteriors"
   ]
  },
  {
   "cell_type": "markdown",
   "metadata": {},
   "source": [
    "Effectively, only 2 lines of code are required.  One to compute the priors and one to compute the posteriors.  The 2nd line of code is the key calculation in this example."
   ]
  },
  {
   "cell_type": "code",
   "execution_count": 8,
   "metadata": {},
   "outputs": [
    {
     "name": "stdout",
     "output_type": "stream",
     "text": [
      "CPU times: user 15.8 s, sys: 193 ms, total: 16 s\n",
      "Wall time: 15.8 s\n",
      "\n",
      "There were 24114 matches out of 500000 priors. (Only 4.8% matched)\n"
     ]
    }
   ],
   "source": [
    "from scipy.stats import uniform, binom\n",
    "\n",
    "m = 500_000  # Number of priors\n",
    "priors = uniform.rvs(size=m)\n",
    "\n",
    "# If the number of priors is high, then the calculation of the posteriors\n",
    "# could take some time, so we'll time it.\n",
    "%time posteriors = [theta for theta in priors if binom.rvs(n,theta)==k_obs]\n",
    "\n",
    "print(f\"\\nThere were {len(posteriors)} matches out of {m} priors. (Only {100*len(posteriors)/m:0.2}% matched)\")"
   ]
  },
  {
   "cell_type": "markdown",
   "metadata": {},
   "source": [
    "Now, let's look at the two lists, plotted as histograms and scaled to be density functions."
   ]
  },
  {
   "cell_type": "markdown",
   "metadata": {},
   "source": [
    "#### Priors Histogram"
   ]
  },
  {
   "cell_type": "markdown",
   "metadata": {},
   "source": [
    "The histogram of the priors list should look like the Uniform(0,1) probabilty density function; and it does."
   ]
  },
  {
   "cell_type": "code",
   "execution_count": 9,
   "metadata": {},
   "outputs": [
    {
     "data": {
      "image/png": "[encoded data removed]",
      "text/plain": [
       "<Figure size 800x400 with 1 Axes>"
      ]
     },
     "metadata": {},
     "output_type": "display_data"
    }
   ],
   "source": [
    "import matplotlib.pyplot as plt\n",
    "%matplotlib inline\n",
    "\n",
    "hbins = 25  # Number of bins for histograms\n",
    "fig=plt.figure(figsize=(10, 5), dpi= 80, facecolor='w', edgecolor='k')\n",
    "plt.xlabel(r\"$\\theta$\")\n",
    "plt.title(\"Histogram of the Priors\")\n",
    "_ = plt.hist(priors, bins=hbins, density=True, range=[0.0, 1.0], alpha=0.55)"
   ]
  },
  {
   "cell_type": "markdown",
   "metadata": {},
   "source": [
    "#### Posteriors Histogram"
   ]
  },
  {
   "cell_type": "markdown",
   "metadata": {},
   "source": [
    "The histogram of the posteriors list more interesting.  It approximates the probability density of the conditional random variable, $\\Theta | K=k_{obs}$."
   ]
  },
  {
   "cell_type": "code",
   "execution_count": 10,
   "metadata": {},
   "outputs": [
    {
     "data": {
      "image/png": "[encoded data removed]",
      "text/plain": [
       "<Figure size 800x400 with 1 Axes>"
      ]
     },
     "metadata": {},
     "output_type": "display_data"
    }
   ],
   "source": [
    "fig=plt.figure(figsize=(10, 5), dpi= 80, facecolor='w', edgecolor='k')\n",
    "plt.xlabel(r\"$\\theta | K = k_{obs}$\")\n",
    "plt.title(f\"Histogram of the Posteriors\")\n",
    "_ = plt.hist(posteriors, bins=hbins, density=True, range=[0.0, 1.0], alpha=0.5)"
   ]
  },
  {
   "cell_type": "markdown",
   "metadata": {},
   "source": [
    "In the histogram, above, we can see that the posterior values of $\\theta$ concentrate near the MLE value we computed earlier.\n",
    "\n",
    "But, unlike the MLE, which is a point estimate of $\\theta$, here we see a probability density for $\\theta$.\n",
    "\n",
    "And we should, because we assumed that $\\theta$ is a random variable."
   ]
  },
  {
   "cell_type": "markdown",
   "metadata": {},
   "source": [
    "### A Closer Look at the Posterior"
   ]
  },
  {
   "cell_type": "markdown",
   "metadata": {},
   "source": [
    "The prior values, above, came from the Uniform(0,1) distribution, a continuous distribution.  So, the posterior values are also from a continuous distribution.  The <i>SciPy.stats</i> library supports over 90 continuous distributions.  In this section we'll \"sift\" through a subset of those 90 distributions to find one that best fits the posterior data. We can do that by using a module that I wrote called <i>fitdist</i>.  It returns an ordered list of sublists, where each sublist consists of a distribution name, it's MLE parameters values for the input data, and a goodness of fit p-value. The p-values are used to sort the list from best to worst fitting distribution. Only the top few are returned."
   ]
  },
  {
   "cell_type": "code",
   "execution_count": 11,
   "metadata": {},
   "outputs": [
    {
     "data": {
      "text/plain": [
       "[['beta',\n",
       "  (8.011507144616559,\n",
       "   18.558183337533208,\n",
       "   -0.017384465867395327,\n",
       "   1.1131730113120129),\n",
       "  0.8497446000766494],\n",
       " ['powernorm',\n",
       "  (0.1472779190478713, 0.19569472325506315, 0.0492755080042131),\n",
       "  0.5503279365802047],\n",
       " ['genextreme',\n",
       "  (0.17561190761107792, 0.27939444438558814, 0.09097343201810747),\n",
       "  0.5067025710130266],\n",
       " ['exponweib',\n",
       "  (1.9389537144261537,\n",
       "   2.4055574831513704,\n",
       "   0.015313487415693662,\n",
       "   0.2756579611507427),\n",
       "  0.4153622843694954]]"
      ]
     },
     "execution_count": 11,
     "metadata": {},
     "output_type": "execute_result"
    }
   ],
   "source": [
    "import fitdist as fd  # https://github.com/alreich/fitdist\n",
    "import warnings\n",
    "warnings.simplefilter('ignore')\n",
    "\n",
    "best_fit_results = fd.find_best_fit_distributions(posteriors,\n",
    "                                                  dist_names = fd.common_cont_dist_names,\n",
    "                                                  goodness_of_fit_pvalue = 0.10,\n",
    "                                                  drop_dist_names = []\n",
    "                                                 )\n",
    "\n",
    "best_fit_results"
   ]
  },
  {
   "cell_type": "markdown",
   "metadata": {},
   "source": [
    "As we can see from the <i>best_fit_results</i> returned, above, the <b>beta</b> distribution best fits the posterior data.  Specifically, we can pull out the following best-fitting parameter values, and round them a bit for readability:"
   ]
  },
  {
   "cell_type": "code",
   "execution_count": 45,
   "metadata": {},
   "outputs": [
    {
     "name": "stdout",
     "output_type": "stream",
     "text": [
      "Best fit to posterior values: beta(8.01,18.56) over the interval [-0.02, 1.11])\n"
     ]
    }
   ],
   "source": [
    "best_index = 0\n",
    "best_name = best_fit_results[best_index][0]\n",
    "best_mle = best_fit_results[best_index][1]\n",
    "best_mle = tuple(map(lambda x: round(x,2), best_mle))\n",
    "best_shape_a, best_shape_b, best_location, best_scale = best_mle\n",
    "print(f\"Best fit to posterior values: {best_name}({best_shape_a},{best_shape_b}) over the interval [{best_location}, {best_scale}])\")"
   ]
  },
  {
   "cell_type": "markdown",
   "metadata": {},
   "source": [
    "Here are the posterior histogram and the best fitting distribution, plotted together:"
   ]
  },
  {
   "cell_type": "code",
   "execution_count": 50,
   "metadata": {},
   "outputs": [
    {
     "data": {
      "image/png": "[encoded data removed]",
      "text/plain": [
       "<Figure size 800x400 with 1 Axes>"
      ]
     },
     "metadata": {},
     "output_type": "display_data"
    }
   ],
   "source": [
    "from scipy.stats import beta\n",
    "import numpy as np\n",
    "\n",
    "x = np.linspace(beta.ppf(0.001, *best_mle), beta.ppf(0.999, *best_mle), 100)\n",
    "fig=plt.figure(figsize=(10, 5), dpi= 80, facecolor='w', edgecolor='k')\n",
    "plt.xlabel(r\"$\\theta | K = k_{obs}$\")\n",
    "plt.title(f\"Histogram of the Posteriors (blue) & Best-Fitting Distribution (red)\")\n",
    "plt.plot(x, beta.pdf(x, *best_mle), 'r-', lw=3, alpha=0.6, label=best_name)\n",
    "_ = plt.hist(posteriors, bins=hbins, density=True, range=[0.0, 1.0], alpha=0.5)"
   ]
  },
  {
   "cell_type": "code",
   "execution_count": null,
   "metadata": {},
   "outputs": [],
   "source": []
  },
  {
   "cell_type": "code",
   "execution_count": null,
   "metadata": {},
   "outputs": [],
   "source": []
  },
  {
   "cell_type": "code",
   "execution_count": null,
   "metadata": {},
   "outputs": [],
   "source": []
  },
  {
   "cell_type": "code",
   "execution_count": null,
   "metadata": {},
   "outputs": [],
   "source": []
  },
  {
   "cell_type": "code",
   "execution_count": null,
   "metadata": {},
   "outputs": [],
   "source": []
  },
  {
   "cell_type": "markdown",
   "metadata": {},
   "source": [
    "><i>(Note: For this specific example, simulation is not needed at all, because the posterior density can be computed analytically.)</i>"
   ]
  },
  {
   "cell_type": "markdown",
   "metadata": {},
   "source": [
    "SPOILER ALERT: According to theoretical results, that we haven't spoken about yet, the best fitting distribution should be the <b>beta</b> distribution.\n",
    "\n",
    "More on the beta distribution can be found at the [SciPy beta distribution documentation](https://docs.scipy.org/doc/scipy/reference/generated/scipy.stats.beta.html) or on [Wikipedia's beta distribution page](https://en.wikipedia.org/wiki/Beta_distribution).\n",
    "\n",
    "The <b>Uniform(0,1)</b> prior, used above, is equivalent to a <b>Beta(1,1)</b> prior.  And, since the beta prior is conjugate with binomial likelihoods, the posterior should be a <b>Beta( 6 + 1, 20 - 6 + 1 ) = Beta(7,15)</b> which is close to what we obtained above.\n",
    "\n",
    "Here's the math:\n",
    "\n",
    "First of all, the Uniform distribution is equivalent to a Beta distribution:\n",
    "<p><center>$U(0,1) \\equiv Beta(1,1)$</center></p>\n",
    "<p>Then, assuming the <i>prior</i> and the <i>likelihood</i> are as follows:</p>\n",
    "<p><center><u>Prior</u>:  $\\pi(\\theta) \\sim Beta(\\alpha, \\beta) \\equiv \\frac{\\Gamma(\\alpha)\\Gamma(\\beta)}{\\Gamma(\\alpha + \\beta)} \\theta^{\\alpha - 1} (1-\\theta)^{\\beta - 1}$</center></p>\n",
    "<p><center><u>Likelihood</u>:  $Y \\sim Binomial(n,k,\\theta) \\equiv \\binom{n}{k} \\theta^k(1-\\theta)^{n-k}$</center></p>\n",
    "<p>So, multiplying the two, followed by some algebraic manipulation, we arrive at:</p>\n",
    "<p><center><u>Posterior</u>:  $\\pi(\\theta \\mid Y=k) \\sim Beta(k+\\alpha, n-k+\\beta)$</center></p>"
   ]
  },
  {
   "cell_type": "code",
   "execution_count": null,
   "metadata": {},
   "outputs": [],
   "source": []
  },
  {
   "cell_type": "markdown",
   "metadata": {},
   "source": [
    "### Using PyMC3"
   ]
  },
  {
   "cell_type": "code",
   "execution_count": 23,
   "metadata": {},
   "outputs": [
    {
     "name": "stderr",
     "output_type": "stream",
     "text": [
      "Multiprocess sampling (4 chains in 4 jobs)\n",
      "Metropolis: [theta]\n",
      "Sampling 4 chains, 0 divergences: 100%|██████████| 42000/42000 [00:03<00:00, 11859.48draws/s]\n",
      "The number of effective samples is smaller than 25% for some parameters.\n",
      "/Users/alfredreich/anaconda3/lib/python3.7/site-packages/arviz/plots/backends/matplotlib/distplot.py:38: UserWarning: Argument backend_kwargs has not effect in matplotlib.plot_distSupplied value won't be used\n",
      "  \"Argument backend_kwargs has not effect in matplotlib.plot_dist\"\n",
      "/Users/alfredreich/anaconda3/lib/python3.7/site-packages/arviz/plots/backends/matplotlib/distplot.py:38: UserWarning: Argument backend_kwargs has not effect in matplotlib.plot_distSupplied value won't be used\n",
      "  \"Argument backend_kwargs has not effect in matplotlib.plot_dist\"\n",
      "/Users/alfredreich/anaconda3/lib/python3.7/site-packages/arviz/plots/backends/matplotlib/distplot.py:38: UserWarning: Argument backend_kwargs has not effect in matplotlib.plot_distSupplied value won't be used\n",
      "  \"Argument backend_kwargs has not effect in matplotlib.plot_dist\"\n",
      "/Users/alfredreich/anaconda3/lib/python3.7/site-packages/arviz/plots/backends/matplotlib/distplot.py:38: UserWarning: Argument backend_kwargs has not effect in matplotlib.plot_distSupplied value won't be used\n",
      "  \"Argument backend_kwargs has not effect in matplotlib.plot_dist\"\n"
     ]
    },
    {
     "data": {
      "text/plain": [
       "array([[<matplotlib.axes._subplots.AxesSubplot object at 0x7fe4c92a6b50>,\n",
       "        <matplotlib.axes._subplots.AxesSubplot object at 0x7fe4e9144290>]],\n",
       "      dtype=object)"
      ]
     },
     "execution_count": 23,
     "metadata": {},
     "output_type": "execute_result"
    },
    {
     "data": {
      "image/png": "[encoded data removed]",
      "text/plain": [
       "<Figure size 864x144 with 2 Axes>"
      ]
     },
     "metadata": {
      "needs_background": "light"
     },
     "output_type": "display_data"
    }
   ],
   "source": [
    "import pymc3 as pm\n",
    "\n",
    "model = pm.Model()\n",
    "\n",
    "with model:\n",
    "    theta = pm.Beta(\"theta\", alpha=1, beta=1 )\n",
    "    k = pm.Binomial(\"k\", p=theta, n=n, observed=k_obs)\n",
    "    num_samples = 10_000\n",
    "    tr = pm.sample(num_samples, step=pm.Metropolis(), progressbar=True )\n",
    "    #tr = pm.sample(num_samples, progressbar=True )\n",
    "\n",
    "pm.traceplot(tr)"
   ]
  },
  {
   "cell_type": "code",
   "execution_count": 24,
   "metadata": {},
   "outputs": [
    {
     "data": {
      "text/latex": [
       "$$\n",
       "            \\begin{array}{rcl}\n",
       "            \\text{theta} &\\sim & \\text{Beta}(\\mathit{alpha}=1.0,~\\mathit{beta}=1.0)\\\\\\text{k} &\\sim & \\text{Binomial}(\\mathit{n}=20,~\\mathit{p}=\\text{theta})\n",
       "            \\end{array}\n",
       "            $$"
      ],
      "text/plain": [
       "<pymc3.model.Model at 0x7fe50c16c550>"
      ]
     },
     "execution_count": 24,
     "metadata": {},
     "output_type": "execute_result"
    }
   ],
   "source": [
    "model"
   ]
  },
  {
   "cell_type": "code",
   "execution_count": 25,
   "metadata": {},
   "outputs": [
    {
     "data": {
      "text/plain": [
       "8000"
      ]
     },
     "execution_count": 25,
     "metadata": {},
     "output_type": "execute_result"
    }
   ],
   "source": [
    "frac = 0.8\n",
    "int(frac * num_samples)"
   ]
  },
  {
   "cell_type": "code",
   "execution_count": 26,
   "metadata": {},
   "outputs": [
    {
     "data": {
      "text/plain": [
       "40000"
      ]
     },
     "execution_count": 26,
     "metadata": {},
     "output_type": "execute_result"
    }
   ],
   "source": [
    "len(tr['theta'])"
   ]
  },
  {
   "cell_type": "code",
   "execution_count": 27,
   "metadata": {},
   "outputs": [],
   "source": [
    "theta_samples = tr['theta', 2000:]"
   ]
  },
  {
   "cell_type": "code",
   "execution_count": 28,
   "metadata": {},
   "outputs": [
    {
     "data": {
      "image/png": "[encoded data removed]",
      "text/plain": [
       "<Figure size 800x400 with 1 Axes>"
      ]
     },
     "metadata": {},
     "output_type": "display_data"
    }
   ],
   "source": [
    "fig=plt.figure(figsize=(10, 5), dpi= 80, facecolor='w', edgecolor='k')\n",
    "_, _, _ = plt.hist(theta_samples, hbins, density=True, range=[0.0, 1.0], alpha=0.5)"
   ]
  },
  {
   "cell_type": "code",
   "execution_count": 29,
   "metadata": {},
   "outputs": [
    {
     "name": "stderr",
     "output_type": "stream",
     "text": [
      "logp = -3.2978, ||grad|| = 4: 100%|██████████| 6/6 [00:00<00:00, 1690.12it/s]\n"
     ]
    },
    {
     "data": {
      "text/plain": [
       "array(0.29999954)"
      ]
     },
     "execution_count": 29,
     "metadata": {},
     "output_type": "execute_result"
    }
   ],
   "source": [
    "map_estimate = pm.find_MAP(model=model)\n",
    "map_estimate['theta']"
   ]
  },
  {
   "cell_type": "code",
   "execution_count": 30,
   "metadata": {},
   "outputs": [
    {
     "data": {
      "text/plain": [
       "[]"
      ]
     },
     "execution_count": 30,
     "metadata": {},
     "output_type": "execute_result"
    }
   ],
   "source": [
    "import fitdist as fd\n",
    "\n",
    "pymc3_fit_results = fd.find_best_fit_distributions(theta_samples,\n",
    "                                                   dist_names = fd.common_cont_dist_names,\n",
    "                                                   goodness_of_fit_pvalue = 0.10,\n",
    "                                                   drop_dist_names = []\n",
    "                                                  )\n",
    "\n",
    "pymc3_fit_results"
   ]
  },
  {
   "cell_type": "code",
   "execution_count": 31,
   "metadata": {},
   "outputs": [
    {
     "ename": "IndexError",
     "evalue": "list index out of range",
     "output_type": "error",
     "traceback": [
      "\u001b[0;31m---------------------------------------------------------------------------\u001b[0m",
      "\u001b[0;31mIndexError\u001b[0m                                Traceback (most recent call last)",
      "\u001b[0;32m<ipython-input-31-ddf068abdb34>\u001b[0m in \u001b[0;36m<module>\u001b[0;34m\u001b[0m\n\u001b[1;32m      1\u001b[0m \u001b[0mpm_index\u001b[0m \u001b[0;34m=\u001b[0m \u001b[0;36m0\u001b[0m\u001b[0;34m\u001b[0m\u001b[0;34m\u001b[0m\u001b[0m\n\u001b[0;32m----> 2\u001b[0;31m \u001b[0mpm_name\u001b[0m \u001b[0;34m=\u001b[0m \u001b[0mpymc3_fit_results\u001b[0m\u001b[0;34m[\u001b[0m\u001b[0mpm_index\u001b[0m\u001b[0;34m]\u001b[0m\u001b[0;34m[\u001b[0m\u001b[0;36m0\u001b[0m\u001b[0;34m]\u001b[0m\u001b[0;34m\u001b[0m\u001b[0;34m\u001b[0m\u001b[0m\n\u001b[0m\u001b[1;32m      3\u001b[0m \u001b[0mpm_mle\u001b[0m \u001b[0;34m=\u001b[0m \u001b[0mpymc3_fit_results\u001b[0m\u001b[0;34m[\u001b[0m\u001b[0mpm_index\u001b[0m\u001b[0;34m]\u001b[0m\u001b[0;34m[\u001b[0m\u001b[0;36m1\u001b[0m\u001b[0;34m]\u001b[0m\u001b[0;34m\u001b[0m\u001b[0;34m\u001b[0m\u001b[0m\n\u001b[1;32m      4\u001b[0m \u001b[0mpm_mle_rounded\u001b[0m \u001b[0;34m=\u001b[0m \u001b[0mtuple\u001b[0m\u001b[0;34m(\u001b[0m\u001b[0mmap\u001b[0m\u001b[0;34m(\u001b[0m\u001b[0;32mlambda\u001b[0m \u001b[0mx\u001b[0m\u001b[0;34m:\u001b[0m \u001b[0mint\u001b[0m\u001b[0;34m(\u001b[0m\u001b[0mround\u001b[0m\u001b[0;34m(\u001b[0m\u001b[0mx\u001b[0m\u001b[0;34m)\u001b[0m\u001b[0;34m)\u001b[0m\u001b[0;34m,\u001b[0m \u001b[0mpm_mle\u001b[0m\u001b[0;34m)\u001b[0m\u001b[0;34m)\u001b[0m\u001b[0;34m\u001b[0m\u001b[0;34m\u001b[0m\u001b[0m\n\u001b[1;32m      5\u001b[0m \u001b[0mpm_shape_a\u001b[0m\u001b[0;34m,\u001b[0m \u001b[0mpm_shape_b\u001b[0m\u001b[0;34m,\u001b[0m \u001b[0mpm_location\u001b[0m\u001b[0;34m,\u001b[0m \u001b[0mpm_scale\u001b[0m \u001b[0;34m=\u001b[0m \u001b[0mpm_mle_rounded\u001b[0m\u001b[0;34m\u001b[0m\u001b[0;34m\u001b[0m\u001b[0m\n",
      "\u001b[0;31mIndexError\u001b[0m: list index out of range"
     ]
    }
   ],
   "source": [
    "pm_index = 0\n",
    "pm_name = pymc3_fit_results[pm_index][0]\n",
    "pm_mle = pymc3_fit_results[pm_index][1]\n",
    "pm_mle_rounded = tuple(map(lambda x: int(round(x)), pm_mle))\n",
    "pm_shape_a, pm_shape_b, pm_location, pm_scale = pm_mle_rounded\n",
    "print(f\"PyMC3 Fit to sampled data: {pm_name}({pm_shape_a},{pm_shape_b}) over the interval [{pm_location}, {pm_scale}])\")"
   ]
  },
  {
   "cell_type": "code",
   "execution_count": null,
   "metadata": {},
   "outputs": [],
   "source": []
  },
  {
   "cell_type": "code",
   "execution_count": null,
   "metadata": {},
   "outputs": [],
   "source": []
  },
  {
   "cell_type": "markdown",
   "metadata": {},
   "source": [
    "# Scratch Work Below"
   ]
  },
  {
   "cell_type": "code",
   "execution_count": null,
   "metadata": {},
   "outputs": [],
   "source": []
  },
  {
   "cell_type": "markdown",
   "metadata": {},
   "source": [
    "$\\theta$, here it is assumed to be a random variable, $\\Theta$, with its own distribution, a <b>Beta distribution</b>, $Beta(\\theta; \\alpha, \\beta)$, where $\\theta \\in [0,1]$, $\\alpha > 0$, and $\\beta > 0.$\n",
    "\n",
    "$\\Theta \\sim Beta(\\theta; \\alpha, \\beta) \\equiv \\frac{\\Gamma(\\alpha)\\Gamma(\\beta)}{\\Gamma(\\alpha + \\beta)} \\theta^{\\alpha - 1} (1-\\theta)^{\\beta - 1}$\n",
    "\n",
    "$K \\sim Binomial_n(k; \\theta) \\equiv \\binom{n}{k} \\theta^k(1-\\theta)^{n-k}$\n",
    "\n",
    "> <p>where</p>\n",
    "> <p>$n \\in \\{1,2,3,...\\}$ -- Number of trials (a fixed value)</p>\n",
    "> <p>$k \\in \\{0,1,2,...,n\\}$ -- Number of successes</p>\n",
    "> <p>$\\theta \\in [0,1]$ -- The fixed probability of success for each trial\n",
    "> <p>$\\alpha > 0$ and $\\beta > 0$</p>"
   ]
  },
  {
   "cell_type": "code",
   "execution_count": null,
   "metadata": {},
   "outputs": [],
   "source": []
  },
  {
   "cell_type": "code",
   "execution_count": 4,
   "metadata": {},
   "outputs": [
    {
     "data": {
      "text/html": [
       "<style>\n",
       "    @font-face {\n",
       "        font-family: \"Computer Modern\";\n",
       "        src: url('http://9dbb143991406a7c655e-aa5fcb0a5a4ec34cff238a2d56ca4144.r56.cf5.rackcdn.com/cmunss.otf');\n",
       "    }\n",
       "    @font-face {\n",
       "        font-family: \"Computer Modern\";\n",
       "        font-weight: bold;\n",
       "        src: url('http://9dbb143991406a7c655e-aa5fcb0a5a4ec34cff238a2d56ca4144.r56.cf5.rackcdn.com/cmunsx.otf');\n",
       "    }\n",
       "    @font-face {\n",
       "        font-family: \"Computer Modern\";\n",
       "        font-style: oblique;\n",
       "        src: url('http://9dbb143991406a7c655e-aa5fcb0a5a4ec34cff238a2d56ca4144.r56.cf5.rackcdn.com/cmunsi.otf');\n",
       "    }\n",
       "    @font-face {\n",
       "        font-family: \"Computer Modern\";\n",
       "        font-weight: bold;\n",
       "        font-style: oblique;\n",
       "        src: url('http://9dbb143991406a7c655e-aa5fcb0a5a4ec34cff238a2d56ca4144.r56.cf5.rackcdn.com/cmunso.otf');\n",
       "    }\n",
       "    div.cell{\n",
       "        width:800px;\n",
       "        margin-left:8% !important;\n",
       "        margin-right:auto;\n",
       "    }\n",
       "    h1 {\n",
       "        font-family: Helvetica, serif;\n",
       "    }\n",
       "    h4{\n",
       "        margin-top:12px;\n",
       "        margin-bottom: 3px;\n",
       "       }\n",
       "    div.text_cell_render{\n",
       "        font-family: Computer Modern, \"Helvetica Neue\", Arial, Helvetica, Geneva, sans-serif;\n",
       "        line-height: 145%;\n",
       "        font-size: 130%;\n",
       "        width:800px;\n",
       "        margin-left:auto;\n",
       "        margin-right:auto;\n",
       "    }\n",
       "    .CodeMirror{\n",
       "            font-family: \"Source Code Pro\", source-code-pro,Consolas, monospace;\n",
       "    }\n",
       "    .prompt{\n",
       "        display: None;\n",
       "    }\n",
       "    .text_cell_render h5 {\n",
       "        font-weight: 300;\n",
       "        font-size: 22pt;\n",
       "        color: #4057A1;\n",
       "        font-style: italic;\n",
       "        margin-bottom: .5em;\n",
       "        margin-top: 0.5em;\n",
       "        display: block;\n",
       "    }\n",
       "    \n",
       "    .warning{\n",
       "        color: rgb( 240, 20, 20 )\n",
       "        }  \n",
       "</style>\n",
       "<script>\n",
       "    MathJax.Hub.Config({\n",
       "                        TeX: {\n",
       "                           extensions: [\"AMSmath.js\"]\n",
       "                           },\n",
       "                tex2jax: {\n",
       "                    inlineMath: [ ['$','$'], [\"\\\\(\",\"\\\\)\"] ],\n",
       "                    displayMath: [ ['$$','$$'], [\"\\\\[\",\"\\\\]\"] ]\n",
       "                },\n",
       "                displayAlign: 'center', // Change this to 'center' to center equations.\n",
       "                \"HTML-CSS\": {\n",
       "                    styles: {'.MathJax_Display': {\"margin\": 4}}\n",
       "                }\n",
       "        });\n",
       "</script>\n"
      ],
      "text/plain": [
       "<IPython.core.display.HTML object>"
      ]
     },
     "execution_count": 4,
     "metadata": {},
     "output_type": "execute_result"
    }
   ],
   "source": [
    "from IPython.core.display import HTML\n",
    "\n",
    "def css_styling():\n",
    "    styles = open(\"styles/custom.css\", \"r\").read()\n",
    "    return HTML(styles)\n",
    "css_styling()"
   ]
  },
  {
   "cell_type": "code",
   "execution_count": null,
   "metadata": {},
   "outputs": [],
   "source": []
  }
 ],
 "metadata": {
  "kernelspec": {
   "display_name": "Python 3",
   "language": "python",
   "name": "python3"
  },
  "language_info": {
   "codemirror_mode": {
    "name": "ipython",
    "version": 3
   },
   "file_extension": ".py",
   "mimetype": "text/x-python",
   "name": "python",
   "nbconvert_exporter": "python",
   "pygments_lexer": "ipython3",
   "version": "3.7.7"
  }
 },
 "nbformat": 4,
 "nbformat_minor": 4
}
