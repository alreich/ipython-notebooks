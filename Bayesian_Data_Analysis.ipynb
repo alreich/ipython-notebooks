{
 "cells": [
  {
   "cell_type": "markdown",
   "metadata": {},
   "source": [
    "# WORK IN PROGRESS"
   ]
  },
  {
   "cell_type": "markdown",
   "metadata": {},
   "source": [
    "# Brief Intro to Bayesian Data Analysis"
   ]
  },
  {
   "cell_type": "markdown",
   "metadata": {},
   "source": [
    "<i><center>Alfred J. Reich, Ph.D.</center></i>"
   ]
  },
  {
   "cell_type": "markdown",
   "metadata": {},
   "source": [
    "> <i>\"We could call Bayesian data analysis 'statistics using conditional probability', but that wouldn’t put the butts in the seats.\"</i>  \n",
    "> <p>-- Andrew Gelman</p>"
   ]
  },
  {
   "cell_type": "markdown",
   "metadata": {},
   "source": [
    "<b><i>Probability Theory</i></b> is a subfield of Mathematics that is concerned with mathematical models of random phenomena.  <i><b>Mathematical Statistics</b></i> is a subfield of Probability Theory concerned with the derivation of features of a probability model based on a set of <b>Random Variables (RV)</b>, usually <b>independent and identically distributed (i.i.d.)</b>, from the model.  <i><b>Applied Statistics</b></i> utilizes the results of Mathematical Statistics by replacing the set of RVs with actual observed data to make <b>statistical inferences</b>.\n",
    "\n",
    "This notebook provides a very brief look at the Bayesian approach to statistical inference, <b>Bayesian Data Analysis (BDA)</b>.\n",
    "\n",
    "The interpretation and subsequent conduct of statistical analyses has been the subject of debate for many decades, even centuries.  In the 20th century, the debate was mostly over the <b>Frequentist</b> vs. <b>Fisherian</b> approaches. Here, I'll refer to both of these approaches, together, as the <b>Classical</b> approach.\n",
    "\n",
    "The <b>Bayesian</b> approach was also around during that time, but did not become practical until the 1990s with the advent of efficient simulation methods, such as <b>Markov Chain Monte Carlo (MCMC)</b>, and widespread access to powerful computers. Today, the debate goes on, but now it is more often between the Classical and Bayesian approaches."
   ]
  },
  {
   "cell_type": "markdown",
   "metadata": {},
   "source": [
    "## Making Assumptions\n",
    "\n",
    "> <i>\"All models are wrong, but some are useful\"</i>\n",
    "> <p>-- George Box</p>\n",
    "\n",
    "Data analyses can be viewed in terms of the assumptions made about the nature of the data being analyzed. Broadly speaking, there are three levels of assumptions (listed below) where each level increases the assumptions made, and correspondingly increases the possibility that the assumptions are wrong.\n",
    "\n",
    "<b>1. Exploratory Data Analysis</b> -- No probability model; just descriptive statistics\n",
    "> Examples include: Average, Median, Quantiles, Range, Variance, Minimum/Maximum, Histogram, and various other plots and charts\n",
    "\n",
    "<b>2. Classical Data Analysis</b> -- Probability model with fixed parameters\n",
    "\n",
    ">$$X \\sim F(x;\\theta)$$\n",
    "><p>Assumes a random variable, $X$, with a probability distribution, $F$ and a fixed parameter $\\theta$:\n",
    "><p><i>(Note: $x$, $X$, and $\\theta$ can be scalars or vectors.)</i></p>\n",
    "\n",
    "<b>3. Bayesian Data Analysis</b> -- Probability model with random parameters and their own models\n",
    "\n",
    ">$$X \\sim F(x;\\Theta)$$\n",
    "><p>$$\\Theta \\sim G(\\theta;\\gamma)$$</p>\n",
    "><p>Assumes a random variable, $X$, with a probability distribution, $F$, and\n",
    ">random parameter, $\\Theta$, with its own distribution, $G$, and (usually) fixed parameter, $\\gamma$, sometimes called a hyper-parameter.</p>\n",
    "><p>$G$ is called a <b><i>prior</i></b> distribution.</p>"
   ]
  },
  {
   "cell_type": "markdown",
   "metadata": {},
   "source": [
    "## An Example"
   ]
  },
  {
   "cell_type": "markdown",
   "metadata": {},
   "source": [
    "Suppose we conduct a real-world experiment consisting of a series of $n$ independent trials, where each trial results in either a <i>Success</i> or <i>Failure</i>, and the probability of a Success on any one trial is an unknown value, $\\theta$, where $0 \\le \\theta \\le 1$.\n",
    "\n",
    "The outcome of the experiment is the total number of successful trials, $K$, out of $n$ tries.  This type of probability model is known as a <b>Binomial</b> model. By the way, $n$ is not a parameter; it is a known, fixed value and, and represents the number of observations (trials) we make.\n",
    "\n",
    ">$$K \\sim Binomial(n; \\theta) \\equiv f_n(k;\\theta) = \\binom{n}{k} \\theta^k(1-\\theta)^{n-k}$$\n",
    "><p>where</p>\n",
    "><p>$k \\in \\{0,1,2,...,n\\}$ -- Number of successes in n trials (the outcome)</p>\n",
    "><p>$\\theta \\in [0,1]$ -- The probability of success for each trial</p>\n",
    "><p>$n \\in \\{1,2,3,...\\}$ -- The fixed number of trials conducted</p>\n",
    "\n",
    "Suppose further that, after conducting the $n$ trials, we observed a total of $K=k_{obs}$ successes. $0 \\le k_{obs} \\le n$."
   ]
  },
  {
   "cell_type": "markdown",
   "metadata": {},
   "source": [
    "We don't know the value of $\\theta$, but let's assume that $n$ and $k_{obs}$ have the following values:"
   ]
  },
  {
   "cell_type": "code",
   "execution_count": 1,
   "metadata": {},
   "outputs": [],
   "source": [
    "n = 20  # Number of trials in our real-world experiment\n",
    "k_obs = 6  # Number of observed successes in our real-world experiment"
   ]
  },
  {
   "cell_type": "code",
   "execution_count": 2,
   "metadata": {},
   "outputs": [
    {
     "name": "stdout",
     "output_type": "stream",
     "text": [
      "Then, a reasonable estimate of p is k_obs/n = 6/20 = 0.3\n"
     ]
    }
   ],
   "source": [
    "print(f\"Then, a reasonable estimate of p is k_obs/n = {k_obs}/{n} = {k_obs/n}\")"
   ]
  },
  {
   "cell_type": "markdown",
   "metadata": {},
   "source": [
    "In <b>Frequentist</b> (or <b>Classical</b>) data analysis, this estimate is the <b>Maximum Likelihood Estimate (MLE)</b> of $\\theta$.  We won't go into MLEs here, but let's just say that the MLE provides us with, in some sense, an optimal estimate of a fixed parameter."
   ]
  },
  {
   "cell_type": "markdown",
   "metadata": {},
   "source": [
    "### Going Beyond the Classical Approach"
   ]
  },
  {
   "cell_type": "markdown",
   "metadata": {},
   "source": [
    "Since we're dealing with random behavior here, any value of $\\theta$, where $0 \\lt \\theta \\lt 1$, could result in $k_{obs}$ successes.\n",
    "\n",
    "Some values of $\\theta$ will be more likely to produce $k_{obs}$ successes than other values.\n",
    "\n",
    "Let's see what happens for a single case, where we generate a random Uniform(0,1) value, $\\theta$, and then use it to generate a $Binomial(n; \\theta)$ random value, $k$, where $n$ is defined as shown earlier.\n",
    "\n",
    "Our result should approximate the expectation of $K$:\n",
    "<p>$$E[K]=n\\theta$$"
   ]
  },
  {
   "cell_type": "code",
   "execution_count": 3,
   "metadata": {},
   "outputs": [],
   "source": [
    "%matplotlib inline\n",
    "import matplotlib.pyplot as plt\n",
    "from IPython.core.pylabtools import figsize"
   ]
  },
  {
   "cell_type": "code",
   "execution_count": 16,
   "metadata": {},
   "outputs": [
    {
     "name": "stdout",
     "output_type": "stream",
     "text": [
      "\n",
      "Random Uniform(0,1) ==> 0.202\n",
      "\n",
      "Random Binomial(20, 0.202) ==> k = 7 successes (expected 4)\n"
     ]
    },
    {
     "data": {
      "image/png": "[encoded data removed]",
      "text/plain": [
       "<Figure size 432x288 with 1 Axes>"
      ]
     },
     "metadata": {
      "needs_background": "light"
     },
     "output_type": "display_data"
    }
   ],
   "source": [
    "from scipy.stats import uniform, binom\n",
    "\n",
    "theta = uniform.rvs()  # generates a single Uniform(0,1) random value\n",
    "k = binom.rvs(n, theta) # generates a single Binomial(n, theta) random value\n",
    "result = [k, n-k]\n",
    "\n",
    "fig = plt.figure()\n",
    "ax = fig.add_axes([0,0,1,1])\n",
    "labels = ['Successes', 'Failures']\n",
    "ax.bar(labels, result, alpha=0.55)\n",
    "plt.title(f\"{n} trials with success probability theta={theta:0.3f}\")\n",
    "print(f\"\\nRandom Uniform(0,1) ==> {theta:0.3f}\")\n",
    "print(f\"\\nRandom Binomial({n}, {theta:0.3f}) ==> k = {k} successes (expected {int(round(n*theta))})\")"
   ]
  },
  {
   "cell_type": "markdown",
   "metadata": {},
   "source": [
    "But, what we're really interested in are values of $\\theta$ that result in $K = k_{obs}$, our previously observed number of successes.\n",
    "\n",
    "So, let's try some other values of $\\theta$ -- a lot of other values -- and keep track of the ones that result in $k_{obs}$ successes.  Essentially, what we'll arrive at is the conditional probability:\n",
    "\n",
    "$${Pr}(\\theta | K = k_{obs})$$\n",
    "\n",
    "To do this, we'll work with two lists of $\\theta$'s:\n",
    "\n",
    "* <b><i>priors</i></b>: a list of $m$ random numbers, chosen uniformly between 0 and 1\n",
    "\n",
    "* <b><i>posteriors</i></b>: the subset of the priors that, when used as the values of $\\theta$ in simulations of $n$ trials, result in $k_{obs}$ successes\n",
    "\n",
    "In the code below, generating the priors list is easy, but the posteriors list takes longer, so we'll time it using <i>%time</i>.\n",
    "\n",
    "And, we'll count the number of priors that result in $k_{obs}$ successes, because very few will, which is why such a large number of priors is used below.\n",
    "\n",
    "<i>NOTE: The code here is pedagogical, not practical.  Later, we'll show how to use more efficient simulation methods, such as <b>Markov Chain Monte Carlo (MCMC)</b>, a method that has made Bayesian Data Analysis (BDA) a practical tool.</i>"
   ]
  },
  {
   "cell_type": "code",
   "execution_count": 17,
   "metadata": {},
   "outputs": [
    {
     "name": "stdout",
     "output_type": "stream",
     "text": [
      "CPU times: user 17.8 s, sys: 290 ms, total: 18.1 s\n",
      "Wall time: 16.9 s\n",
      "\n",
      "There were 23773 matches out of 500000 priors. (Only 4.8% matched)\n"
     ]
    }
   ],
   "source": [
    "from scipy.stats import uniform, binom\n",
    "\n",
    "m = 500_000  # Number of priors\n",
    "\n",
    "# Generate Priors\n",
    "priors = list(uniform.rvs(size=m))\n",
    "\n",
    "# Generate Posteriors\n",
    "%time posteriors = [p for p in priors if binom.rvs(n,p)==k_obs]\n",
    "\n",
    "print(f\"\\nThere were {len(posteriors)} matches out of {m} priors. (Only {100*len(posteriors)/m:0.2}% matched)\")"
   ]
  },
  {
   "cell_type": "markdown",
   "metadata": {},
   "source": [
    "Now, let's look at the two lists, plotted as histograms and scaled to be density functions."
   ]
  },
  {
   "cell_type": "markdown",
   "metadata": {},
   "source": [
    "#### Priors Histogram"
   ]
  },
  {
   "cell_type": "markdown",
   "metadata": {},
   "source": [
    "The histogram of the priors list should look like the Uniform(0,1) probabilty density function.\n",
    "\n",
    "And it does."
   ]
  },
  {
   "cell_type": "code",
   "execution_count": 18,
   "metadata": {},
   "outputs": [
    {
     "data": {
      "image/png": "[encoded data removed]",
      "text/plain": [
       "<Figure size 720x360 with 1 Axes>"
      ]
     },
     "metadata": {
      "needs_background": "light"
     },
     "output_type": "display_data"
    }
   ],
   "source": [
    "hbins = 25  # Number of bins for histograms\n",
    "figsize(10,5)\n",
    "plt.xlabel(\"$theta$\")\n",
    "plt.title(f\"Histogram of the Priors\")\n",
    "_ = plt.hist(priors, bins=hbins, density=True, alpha=0.55)"
   ]
  },
  {
   "cell_type": "markdown",
   "metadata": {},
   "source": [
    "#### Posteriors Histogram"
   ]
  },
  {
   "cell_type": "markdown",
   "metadata": {},
   "source": [
    "The histogram of the posteriors list more interesting than the priors list.\n",
    "\n",
    "We can see that it concentrates near the MLE value we computed earlier.\n",
    "\n",
    "But, unlike the MLE, which is a point estimate of $\\theta$, here we see a probability density for $\\theta$.\n",
    "\n",
    "And we should, because, essentially, we assumed that $\\theta$ is a random variable with a Uniform(0,1) marginal distribution.  That is, $Pr(\\theta) \\equiv $ Uniform(0,1)."
   ]
  },
  {
   "cell_type": "code",
   "execution_count": 24,
   "metadata": {},
   "outputs": [
    {
     "data": {
      "image/png": "[encoded data removed]",
      "text/plain": [
       "<Figure size 720x360 with 1 Axes>"
      ]
     },
     "metadata": {
      "needs_background": "light"
     },
     "output_type": "display_data"
    }
   ],
   "source": [
    "plt.xlabel(\"Pr( theta | K = k_obs )\")\n",
    "plt.title(f\"Histogram of the Posteriors list\")\n",
    "_ = plt.hist(posteriors, bins=hbins, density=True, alpha=0.5)"
   ]
  },
  {
   "cell_type": "markdown",
   "metadata": {},
   "source": [
    "Now, the next part of our example is not something we would necessarily do as part of a BDA, but we're doing it to show that the posteriors here match theoretical results that we will describe later.\n",
    "\n",
    "So, what we'll do now is search for a continuous distribution that best matches the data in the posteriors list."
   ]
  },
  {
   "cell_type": "markdown",
   "metadata": {},
   "source": [
    "#### Posterior Distribution (Empirically Found)"
   ]
  },
  {
   "cell_type": "markdown",
   "metadata": {},
   "source": [
    "SciPy supports about 90 continuous probability distributions.  The module, <b>fitdist</b>, finds the continuous distribution that best fits an input dataset (in this case, the posteriors).  For expediency, only the most common distributions (~18) are examined in the function call below."
   ]
  },
  {
   "cell_type": "code",
   "execution_count": 25,
   "metadata": {},
   "outputs": [
    {
     "data": {
      "text/plain": [
       "[['powernorm',\n",
       "  (0.14051498284632363, 0.1932392815783172, 0.04824002686774969),\n",
       "  0.7276442039826883],\n",
       " ['beta',\n",
       "  (6.7578772722650395,\n",
       "   14.266511506402459,\n",
       "   0.003993221018784775,\n",
       "   0.9753500700662832),\n",
       "  0.7118748752846156]]"
      ]
     },
     "execution_count": 25,
     "metadata": {},
     "output_type": "execute_result"
    }
   ],
   "source": [
    "import fitdist as fd  # https://github.com/alreich/fitdist\n",
    "import warnings\n",
    "warnings.simplefilter(\"ignore\")\n",
    "\n",
    "raw_fit_results = fd.find_best_fit_distributions(posteriors,\n",
    "                                                 dist_names = fd.common_cont_dist_names,\n",
    "                                                 goodness_of_fit_pvalue = 0.50,\n",
    "                                                 drop_dist_names = []\n",
    "                                                )\n",
    "\n",
    "raw_fit_results"
   ]
  },
  {
   "cell_type": "markdown",
   "metadata": {},
   "source": [
    "The raw fit results, above, is a list of sublists, where each sublist consists of the following:\n",
    "* the distribution name\n",
    "* a list of the MLE parameter estimates (in scipy.stat's defined order)\n",
    "* and the Kolmogorov-Smirnov Goodness-of-Fit p-value\n",
    "\n",
    "The first item in the list is the best fitting distribution.\n",
    "\n",
    "We'll extract the parameters from the raw results and interpret their meaning as follows:"
   ]
  },
  {
   "cell_type": "code",
   "execution_count": 26,
   "metadata": {},
   "outputs": [
    {
     "name": "stdout",
     "output_type": "stream",
     "text": [
      "Best Fit to Posterior data: beta(7,14) over the interval [0, 1])\n"
     ]
    }
   ],
   "source": [
    "index = 1\n",
    "name = raw_fit_results[index][0]\n",
    "mle = raw_fit_results[index][1]\n",
    "mle_rounded = tuple(map(lambda x: int(round(x)), mle))\n",
    "shape_a, shape_b, location, scale = mle_rounded\n",
    "print(f\"Best Fit to Posterior data: {name}({shape_a},{shape_b}) over the interval [{location}, {scale}])\")"
   ]
  },
  {
   "cell_type": "markdown",
   "metadata": {},
   "source": [
    "Now, let's compare the empirically found beta distribution to the posteriors histogram by plotting them together."
   ]
  },
  {
   "cell_type": "code",
   "execution_count": 27,
   "metadata": {},
   "outputs": [
    {
     "data": {
      "image/png": "[encoded data removed]",
      "text/plain": [
       "<Figure size 720x360 with 1 Axes>"
      ]
     },
     "metadata": {
      "needs_background": "light"
     },
     "output_type": "display_data"
    }
   ],
   "source": [
    "from scipy.stats import beta\n",
    "from numpy import linspace\n",
    "\n",
    "plt.xlabel(\"Pr( theta | K = k_obs )\")\n",
    "plt.title(f'Posteriors Histogram (blue) and Beta({shape_a}, {shape_b}) PDF (red)')\n",
    "\n",
    "x = linspace(beta.ppf(0.001, *mle), beta.ppf(0.999, *mle), 100)\n",
    "plt.plot(x, beta.pdf(x, *mle), 'r-', lw=3, alpha=0.6)\n",
    "_, _, _ = plt.hist(posteriors, hbins, density=True, alpha=0.5)"
   ]
  },
  {
   "cell_type": "code",
   "execution_count": null,
   "metadata": {},
   "outputs": [],
   "source": []
  },
  {
   "cell_type": "code",
   "execution_count": null,
   "metadata": {},
   "outputs": [],
   "source": []
  },
  {
   "cell_type": "code",
   "execution_count": null,
   "metadata": {},
   "outputs": [],
   "source": []
  },
  {
   "cell_type": "code",
   "execution_count": null,
   "metadata": {},
   "outputs": [],
   "source": []
  },
  {
   "cell_type": "code",
   "execution_count": 28,
   "metadata": {},
   "outputs": [
    {
     "name": "stderr",
     "output_type": "stream",
     "text": [
      "Sampling 4 chains: 100%|██████████| 42000/42000 [00:03<00:00, 12865.49draws/s]\n"
     ]
    },
    {
     "data": {
      "text/plain": [
       "array([[<matplotlib.axes._subplots.AxesSubplot object at 0x7fb689c96790>,\n",
       "        <matplotlib.axes._subplots.AxesSubplot object at 0x7fb65045ae90>]],\n",
       "      dtype=object)"
      ]
     },
     "execution_count": 28,
     "metadata": {},
     "output_type": "execute_result"
    },
    {
     "data": {
      "image/png": "[encoded data removed]",
      "text/plain": [
       "<Figure size 864x144 with 2 Axes>"
      ]
     },
     "metadata": {
      "needs_background": "light"
     },
     "output_type": "display_data"
    }
   ],
   "source": [
    "import pymc3 as pm\n",
    "\n",
    "model = pm.Model()\n",
    "\n",
    "with model:\n",
    "    theta = pm.Beta(\"theta\", alpha=1, beta=1 )\n",
    "    k = pm.Binomial(\"k\", p=theta, n=n, observed=k_obs)\n",
    "    num_samples = 10_000\n",
    "    tr = pm.sample(num_samples, step=pm.Metropolis(), progressbar=True )\n",
    "    #tr = pm.sample(num_samples, progressbar=True )\n",
    "\n",
    "pm.traceplot(tr)"
   ]
  },
  {
   "cell_type": "code",
   "execution_count": 29,
   "metadata": {},
   "outputs": [
    {
     "data": {
      "text/latex": [
       "$$\n",
       "            \\begin{array}{rcl}\n",
       "            \\text{theta} &\\sim & \\text{Beta}(\\mathit{alpha}=1.0,~\\mathit{beta}=1.0)\\\\\\text{k} &\\sim & \\text{Binomial}(\\mathit{n}=20,~\\mathit{p}=\\text{theta})\n",
       "            \\end{array}\n",
       "            $$"
      ],
      "text/plain": [
       "<pymc3.model.Model at 0x7fb6487f8650>"
      ]
     },
     "execution_count": 29,
     "metadata": {},
     "output_type": "execute_result"
    }
   ],
   "source": [
    "model"
   ]
  },
  {
   "cell_type": "code",
   "execution_count": 30,
   "metadata": {},
   "outputs": [
    {
     "data": {
      "text/plain": [
       "8000"
      ]
     },
     "execution_count": 30,
     "metadata": {},
     "output_type": "execute_result"
    }
   ],
   "source": [
    "frac = 0.8\n",
    "int(frac * num_samples)"
   ]
  },
  {
   "cell_type": "code",
   "execution_count": 31,
   "metadata": {},
   "outputs": [
    {
     "data": {
      "text/plain": [
       "40000"
      ]
     },
     "execution_count": 31,
     "metadata": {},
     "output_type": "execute_result"
    }
   ],
   "source": [
    "len(tr['theta'])"
   ]
  },
  {
   "cell_type": "code",
   "execution_count": 33,
   "metadata": {},
   "outputs": [],
   "source": [
    "theta_samples = tr['theta', 6000:]"
   ]
  },
  {
   "cell_type": "code",
   "execution_count": 34,
   "metadata": {},
   "outputs": [
    {
     "data": {
      "image/png": "[encoded data removed]",
      "text/plain": [
       "<Figure size 720x360 with 1 Axes>"
      ]
     },
     "metadata": {
      "needs_background": "light"
     },
     "output_type": "display_data"
    }
   ],
   "source": [
    "_, _, _ = plt.hist(theta_samples, hbins, density=True, alpha=0.5)"
   ]
  },
  {
   "cell_type": "code",
   "execution_count": 35,
   "metadata": {},
   "outputs": [
    {
     "name": "stderr",
     "output_type": "stream",
     "text": [
      "logp = -3.2978, ||grad|| = 4: 100%|██████████| 6/6 [00:00<00:00, 2087.76it/s]\n"
     ]
    },
    {
     "data": {
      "text/plain": [
       "array(0.29999954)"
      ]
     },
     "execution_count": 35,
     "metadata": {},
     "output_type": "execute_result"
    }
   ],
   "source": [
    "map_estimate = pm.find_MAP(model=model)\n",
    "map_estimate['theta']"
   ]
  },
  {
   "cell_type": "code",
   "execution_count": 37,
   "metadata": {},
   "outputs": [
    {
     "data": {
      "text/plain": [
       "[['exponweib',\n",
       "  (1.3731192610882292,\n",
       "   2.483018690928371,\n",
       "   0.05103293538007207,\n",
       "   0.268459323327741),\n",
       "  0.35934091287507225],\n",
       " ['powerlognorm',\n",
       "  (828.5866629401403,\n",
       "   1.0813856928481012,\n",
       "   0.03635255649996609,\n",
       "   8.216786447809906),\n",
       "  0.17851254219802667],\n",
       " ['beta',\n",
       "  (5.758890774105518,\n",
       "   11.82109977908228,\n",
       "   0.022930738036206107,\n",
       "   0.8959882011480925),\n",
       "  0.1345349378525674]]"
      ]
     },
     "execution_count": 37,
     "metadata": {},
     "output_type": "execute_result"
    }
   ],
   "source": [
    "pymc3_fit_results = fd.find_best_fit_distributions(theta_samples,\n",
    "                                                   dist_names = fd.common_cont_dist_names,\n",
    "                                                   goodness_of_fit_pvalue = 0.10,\n",
    "                                                   drop_dist_names = []\n",
    "                                                  )\n",
    "\n",
    "pymc3_fit_results"
   ]
  },
  {
   "cell_type": "code",
   "execution_count": 38,
   "metadata": {},
   "outputs": [
    {
     "name": "stdout",
     "output_type": "stream",
     "text": [
      "PyMC3 Fit to sampled data: beta(6,12) over the interval [0, 1])\n"
     ]
    }
   ],
   "source": [
    "pm_index = 2\n",
    "pm_name = pymc3_fit_results[pm_index][0]\n",
    "pm_mle = pymc3_fit_results[pm_index][1]\n",
    "pm_mle_rounded = tuple(map(lambda x: int(round(x)), pm_mle))\n",
    "pm_shape_a, pm_shape_b, pm_location, pm_scale = pm_mle_rounded\n",
    "print(f\"PyMC3 Fit to sampled data: {pm_name}({pm_shape_a},{pm_shape_b}) over the interval [{pm_location}, {pm_scale}])\")"
   ]
  },
  {
   "cell_type": "code",
   "execution_count": null,
   "metadata": {},
   "outputs": [],
   "source": []
  },
  {
   "cell_type": "code",
   "execution_count": null,
   "metadata": {},
   "outputs": [],
   "source": []
  },
  {
   "cell_type": "markdown",
   "metadata": {},
   "source": [
    "# Scratch Work Below"
   ]
  },
  {
   "cell_type": "markdown",
   "metadata": {},
   "source": [
    "SPOILER ALERT: According to theoretical results, that we haven't spoken about yet, the best fitting distribution should be the <b>beta</b> distribution.\n",
    "\n",
    "More on the beta distribution can be found at the [SciPy beta distribution documentation](https://docs.scipy.org/doc/scipy/reference/generated/scipy.stats.beta.html) or on [Wikipedia's beta distribution page](https://en.wikipedia.org/wiki/Beta_distribution).\n",
    "\n",
    "The <b>Uniform(0,1)</b> prior, used above, is equivalent to a <b>Beta(1,1)</b> prior.  And, since the beta prior is conjugate with binomial likelihoods, the posterior should be a <b>Beta( 6 + 1, 20 - 6 + 1 ) = Beta(7,15)</b> which is close to what we obtained above.\n",
    "\n",
    "Here's the math:\n",
    "\n",
    "First of all, the Uniform distribution is equivalent to a Beta distribution:\n",
    "<p><center>$U(0,1) \\equiv Beta(1,1)$</center></p>\n",
    "<p>Then, assuming the <i>prior</i> and the <i>likelihood</i> are as follows:</p>\n",
    "<p><center><u>Prior</u>:  $\\pi(\\theta) \\sim Beta(\\alpha, \\beta) \\equiv \\frac{\\Gamma(\\alpha)\\Gamma(\\beta)}{\\Gamma(\\alpha + \\beta)} \\theta^{\\alpha - 1} (1-\\theta)^{\\beta - 1}$</center></p>\n",
    "<p><center><u>Likelihood</u>:  $Y \\sim Binomial(n,k,\\theta) \\equiv \\binom{n}{k} \\theta^k(1-\\theta)^{n-k}$</center></p>\n",
    "<p>So, multiplying the two, followed by some algebraic manipulation, we arrive at:</p>\n",
    "<p><center><u>Posterior</u>:  $\\pi(\\theta \\mid Y=k) \\sim Beta(k+\\alpha, n-k+\\beta)$</center></p>"
   ]
  },
  {
   "cell_type": "code",
   "execution_count": null,
   "metadata": {},
   "outputs": [],
   "source": []
  },
  {
   "cell_type": "code",
   "execution_count": null,
   "metadata": {},
   "outputs": [],
   "source": []
  },
  {
   "cell_type": "markdown",
   "metadata": {},
   "source": [
    "The following three subsections go into a bit more depth on each of these three categories."
   ]
  },
  {
   "cell_type": "markdown",
   "metadata": {},
   "source": [
    "### 1. Exploratory Data Analysis"
   ]
  },
  {
   "cell_type": "markdown",
   "metadata": {},
   "source": [
    "No probability model; just quantitative descriptions of a dataset (\"statistics\")\n",
    "\n",
    "#### Examples\n",
    "\n",
    "* Average\n",
    "* Median\n",
    "* Quantiles\n",
    "* Range\n",
    "* Minimum/Maximum\n",
    "* Histogram "
   ]
  },
  {
   "cell_type": "markdown",
   "metadata": {},
   "source": [
    "### 2. Classical Data Analysis\n",
    "\n",
    "The probability model consists of a random variable, $X$, with a probability distribution, $F$ and a fixed parameter $\\theta$:\n",
    "\n",
    "$X \\sim F(x;\\theta)$\n",
    "\n",
    "\n",
    "#### Example #2\n",
    "\n",
    "<i><u>Discrete Case</u></i>\n",
    "\n",
    "In this example the outcomes are integer values, so we'll use $K$ and $k$ instead of $X$ and $x$ for the random variable and its outcome value, resp.\n",
    "\n",
    "The <b>binomial probability distribution</b>, $Binomial_n(k;\\theta)$, is a discrete distribution representing the probability of $k$ successes in $n$ independent trials, where the probability of success on each individual trial is $\\theta$, where $0 \\le \\theta \\le 1$.\n",
    "\n",
    "then $K \\sim Binomial_n(k;\\theta) \\equiv \\binom{n}{k} \\theta^k(1-\\theta)^{n-k}$\n",
    "> <p>where</p>\n",
    "> <p>$n \\in \\{1,2,3,...\\}$ -- The fixed number of trials</p>\n",
    "> <p>$k \\in \\{0,1,2,...,n\\}$ -- Number of successes in n trials (the outcome)</p>\n",
    "> <p>$\\theta \\in [0,1]$ -- The fixed probability of success for each trial</p>\n"
   ]
  },
  {
   "cell_type": "markdown",
   "metadata": {},
   "source": [
    "### 3. Bayesian Data Analysis\n",
    "\n",
    "<i>(NOTE: This starts out like the Classical approach, except that it goes a step further by assuming that the parameter itself, $\\theta$, has a model.)</i>\n",
    "\n",
    "Assumes a random variable, $X$, with a specific probability distribution, $F$, and <b>random</b> parameter, $\\Theta$, with its own distribution, $G$, and fixed parameter, $\\gamma$, sometimes called a hyper-parameter:\n",
    "\n",
    "$X \\sim F(x;\\Theta)$ where $\\Theta \\sim G(\\theta;\\gamma)$\n",
    "\n",
    "$G$ is called a <b><i>prior</i></b> distribution.\n",
    "\n",
    "#### Example #3\n",
    "\n",
    "<i><u>Discrete Case</u></i>\n",
    "\n",
    "Building on the discrete model in Example #2, above, except that instead of a fixed success probability, $\\theta$, here it is assumed to be a random variable, $\\Theta$, with its own distribution, a <b>Beta distribution</b>, $Beta(\\theta; \\alpha, \\beta)$, where $\\theta \\in [0,1]$, $\\alpha > 0$, and $\\beta > 0.$\n",
    "\n",
    "$K \\sim Binomial_n(k; \\Theta) \\equiv \\binom{n}{k} \\Theta^k(1-\\Theta)^{n-k}$\n",
    "\n",
    "$\\Theta \\sim Beta(\\theta; \\alpha, \\beta) \\equiv \\frac{\\Gamma(\\alpha)\\Gamma(\\beta)}{\\Gamma(\\alpha + \\beta)} \\theta^{\\alpha - 1} (1-\\theta)^{\\beta - 1}$\n",
    "\n",
    "> <p>where</p>\n",
    "> <p>$n \\in \\{1,2,3,...\\}$ -- Number of trials (a fixed value)</p>\n",
    "> <p>$k \\in \\{0,1,2,...,n\\}$ -- Number of successes</p>\n",
    "> <p>$\\theta \\in [0,1]$ -- The fixed probability of success for each trial\n",
    "> <p>$\\alpha > 0$ and $\\beta > 0$</p>"
   ]
  },
  {
   "cell_type": "code",
   "execution_count": null,
   "metadata": {},
   "outputs": [],
   "source": []
  },
  {
   "cell_type": "code",
   "execution_count": null,
   "metadata": {},
   "outputs": [],
   "source": []
  },
  {
   "cell_type": "markdown",
   "metadata": {},
   "source": [
    "## Scatch Work"
   ]
  },
  {
   "cell_type": "markdown",
   "metadata": {},
   "source": [
    "<b><i>Probability Theory</i></b> is a subfield of Mathematics that is concerned with mathematical models of random phenomena.  <i><b>Mathematical Statistics</b></i> is a subfield of Probability Theory concerned with the derivation of features of a probability model based on a set of <b>Random Variables (RV)</b> from the model.  <i><b>Applied Statistics</b></i> utilizes the results of Mathematical Statistics by replacing the set of RVs with actual observed data to make <b>statistical inferences</b>."
   ]
  },
  {
   "cell_type": "code",
   "execution_count": null,
   "metadata": {},
   "outputs": [],
   "source": []
  },
  {
   "cell_type": "code",
   "execution_count": null,
   "metadata": {},
   "outputs": [],
   "source": []
  },
  {
   "cell_type": "code",
   "execution_count": 23,
   "metadata": {},
   "outputs": [
    {
     "data": {
      "text/html": [
       "<style>\n",
       "    @font-face {\n",
       "        font-family: \"Computer Modern\";\n",
       "        src: url('http://9dbb143991406a7c655e-aa5fcb0a5a4ec34cff238a2d56ca4144.r56.cf5.rackcdn.com/cmunss.otf');\n",
       "    }\n",
       "    @font-face {\n",
       "        font-family: \"Computer Modern\";\n",
       "        font-weight: bold;\n",
       "        src: url('http://9dbb143991406a7c655e-aa5fcb0a5a4ec34cff238a2d56ca4144.r56.cf5.rackcdn.com/cmunsx.otf');\n",
       "    }\n",
       "    @font-face {\n",
       "        font-family: \"Computer Modern\";\n",
       "        font-style: oblique;\n",
       "        src: url('http://9dbb143991406a7c655e-aa5fcb0a5a4ec34cff238a2d56ca4144.r56.cf5.rackcdn.com/cmunsi.otf');\n",
       "    }\n",
       "    @font-face {\n",
       "        font-family: \"Computer Modern\";\n",
       "        font-weight: bold;\n",
       "        font-style: oblique;\n",
       "        src: url('http://9dbb143991406a7c655e-aa5fcb0a5a4ec34cff238a2d56ca4144.r56.cf5.rackcdn.com/cmunso.otf');\n",
       "    }\n",
       "    div.cell{\n",
       "        width:800px;\n",
       "        margin-left:8% !important;\n",
       "        margin-right:auto;\n",
       "    }\n",
       "    h1 {\n",
       "        font-family: Helvetica, serif;\n",
       "    }\n",
       "    h4{\n",
       "        margin-top:12px;\n",
       "        margin-bottom: 3px;\n",
       "       }\n",
       "    div.text_cell_render{\n",
       "        font-family: Computer Modern, \"Helvetica Neue\", Arial, Helvetica, Geneva, sans-serif;\n",
       "        line-height: 145%;\n",
       "        font-size: 130%;\n",
       "        width:800px;\n",
       "        margin-left:auto;\n",
       "        margin-right:auto;\n",
       "    }\n",
       "    .CodeMirror{\n",
       "            font-family: \"Source Code Pro\", source-code-pro,Consolas, monospace;\n",
       "    }\n",
       "    .prompt{\n",
       "        display: None;\n",
       "    }\n",
       "    .text_cell_render h5 {\n",
       "        font-weight: 300;\n",
       "        font-size: 22pt;\n",
       "        color: #4057A1;\n",
       "        font-style: italic;\n",
       "        margin-bottom: .5em;\n",
       "        margin-top: 0.5em;\n",
       "        display: block;\n",
       "    }\n",
       "    \n",
       "    .warning{\n",
       "        color: rgb( 240, 20, 20 )\n",
       "        }  \n",
       "</style>\n",
       "<script>\n",
       "    MathJax.Hub.Config({\n",
       "                        TeX: {\n",
       "                           extensions: [\"AMSmath.js\"]\n",
       "                           },\n",
       "                tex2jax: {\n",
       "                    inlineMath: [ ['$','$'], [\"\\\\(\",\"\\\\)\"] ],\n",
       "                    displayMath: [ ['$$','$$'], [\"\\\\[\",\"\\\\]\"] ]\n",
       "                },\n",
       "                displayAlign: 'center', // Change this to 'center' to center equations.\n",
       "                \"HTML-CSS\": {\n",
       "                    styles: {'.MathJax_Display': {\"margin\": 4}}\n",
       "                }\n",
       "        });\n",
       "</script>\n"
      ],
      "text/plain": [
       "<IPython.core.display.HTML object>"
      ]
     },
     "execution_count": 23,
     "metadata": {},
     "output_type": "execute_result"
    }
   ],
   "source": [
    "from IPython.core.display import HTML\n",
    "\n",
    "def css_styling():\n",
    "    styles = open(\"styles/custom.css\", \"r\").read()\n",
    "    return HTML(styles)\n",
    "css_styling()"
   ]
  },
  {
   "cell_type": "code",
   "execution_count": null,
   "metadata": {},
   "outputs": [],
   "source": []
  }
 ],
 "metadata": {
  "kernelspec": {
   "display_name": "Python 3",
   "language": "python",
   "name": "python3"
  },
  "language_info": {
   "codemirror_mode": {
    "name": "ipython",
    "version": 3
   },
   "file_extension": ".py",
   "mimetype": "text/x-python",
   "name": "python",
   "nbconvert_exporter": "python",
   "pygments_lexer": "ipython3",
   "version": "3.7.5"
  }
 },
 "nbformat": 4,
 "nbformat_minor": 4
}
