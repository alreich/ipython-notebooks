{
 "cells": [
  {
   "cell_type": "markdown",
   "metadata": {},
   "source": [
    "# Extreme Value Statistics - An Example (v3)"
   ]
  },
  {
   "cell_type": "markdown",
   "metadata": {},
   "source": [
    "The example here is from Stuart Cole's book, <i>\"An Introduction to Statistical Modeling of Extreme Values\"</i>.\n",
    "\n",
    "<p>The same example is also featured in the R package, <i><b>ismev</b></i>, (see http://cran.r-project.org/web/packages/ismev/)."
   ]
  },
  {
   "cell_type": "code",
   "execution_count": 13,
   "metadata": {},
   "outputs": [
    {
     "name": "stdout",
     "output_type": "stream",
     "text": [
      "2.2.2\n"
     ]
    }
   ],
   "source": [
    "#import matplotlib as plt\n",
    "import matplotlib\n",
    "from matplotlib import pyplot as plt\n",
    "print(matplotlib.__version__)\n",
    "\n",
    "%matplotlib inline"
   ]
  },
  {
   "cell_type": "code",
   "execution_count": 2,
   "metadata": {},
   "outputs": [
    {
     "data": {
      "text/plain": [
       "'1.12.1'"
      ]
     },
     "execution_count": 2,
     "metadata": {},
     "output_type": "execute_result"
    }
   ],
   "source": [
    "import numpy as np\n",
    "np.__version__"
   ]
  },
  {
   "cell_type": "code",
   "execution_count": 3,
   "metadata": {},
   "outputs": [
    {
     "name": "stdout",
     "output_type": "stream",
     "text": [
      "0.20.1\n"
     ]
    }
   ],
   "source": [
    "import pandas as pd\n",
    "print(pd.__version__)"
   ]
  },
  {
   "cell_type": "code",
   "execution_count": 4,
   "metadata": {},
   "outputs": [
    {
     "data": {
      "text/plain": [
       "'0.19.0'"
      ]
     },
     "execution_count": 4,
     "metadata": {},
     "output_type": "execute_result"
    }
   ],
   "source": [
    "import scipy as sp\n",
    "from scipy.optimize import minimize\n",
    "from scipy.stats import genextreme\n",
    "sp.__version__"
   ]
  },
  {
   "cell_type": "markdown",
   "metadata": {},
   "source": [
    "## DATA: Annual maximum sea-levels at Port Pirie, South Australia"
   ]
  },
  {
   "cell_type": "markdown",
   "metadata": {},
   "source": [
    "<b>Note on modules used here:</b> Pandas is used to read the CSV file into a Pandas DataFrame, but only for convenience.  Later, when the data analysis starts, the max sea level data will be turned into a standard NumPy ndarray."
   ]
  },
  {
   "cell_type": "code",
   "execution_count": 5,
   "metadata": {},
   "outputs": [
    {
     "data": {
      "text/html": [
       "<div>\n",
       "<style>\n",
       "    .dataframe thead tr:only-child th {\n",
       "        text-align: right;\n",
       "    }\n",
       "\n",
       "    .dataframe thead th {\n",
       "        text-align: left;\n",
       "    }\n",
       "\n",
       "    .dataframe tbody tr th {\n",
       "        vertical-align: top;\n",
       "    }\n",
       "</style>\n",
       "<table border=\"1\" class=\"dataframe\">\n",
       "  <thead>\n",
       "    <tr style=\"text-align: right;\">\n",
       "      <th></th>\n",
       "      <th>SeaLevel</th>\n",
       "    </tr>\n",
       "  </thead>\n",
       "  <tbody>\n",
       "    <tr>\n",
       "      <th>count</th>\n",
       "      <td>65.000000</td>\n",
       "    </tr>\n",
       "    <tr>\n",
       "      <th>mean</th>\n",
       "      <td>3.980615</td>\n",
       "    </tr>\n",
       "    <tr>\n",
       "      <th>std</th>\n",
       "      <td>0.240513</td>\n",
       "    </tr>\n",
       "    <tr>\n",
       "      <th>min</th>\n",
       "      <td>3.570000</td>\n",
       "    </tr>\n",
       "    <tr>\n",
       "      <th>25%</th>\n",
       "      <td>3.830000</td>\n",
       "    </tr>\n",
       "    <tr>\n",
       "      <th>50%</th>\n",
       "      <td>3.960000</td>\n",
       "    </tr>\n",
       "    <tr>\n",
       "      <th>75%</th>\n",
       "      <td>4.110000</td>\n",
       "    </tr>\n",
       "    <tr>\n",
       "      <th>max</th>\n",
       "      <td>4.690000</td>\n",
       "    </tr>\n",
       "  </tbody>\n",
       "</table>\n",
       "</div>"
      ],
      "text/plain": [
       "        SeaLevel\n",
       "count  65.000000\n",
       "mean    3.980615\n",
       "std     0.240513\n",
       "min     3.570000\n",
       "25%     3.830000\n",
       "50%     3.960000\n",
       "75%     4.110000\n",
       "max     4.690000"
      ]
     },
     "execution_count": 5,
     "metadata": {},
     "output_type": "execute_result"
    }
   ],
   "source": [
    "dateparse = lambda x: pd.datetime.strptime(x, '%Y')\n",
    "\n",
    "df = pd.read_csv('port_pirie.csv', parse_dates=['Year'], date_parser=dateparse)\n",
    "df.describe()"
   ]
  },
  {
   "cell_type": "raw",
   "metadata": {},
   "source": [
    "def parse(yr):\n",
    "    return datetime.datetime(yr,1,1)\n",
    "\n",
    "df = pd.read_csv('port_pirie.csv', parse_dates=True, date_parser=parse, index_col='Year')\n",
    "df.describe()"
   ]
  },
  {
   "cell_type": "code",
   "execution_count": 6,
   "metadata": {},
   "outputs": [
    {
     "data": {
      "text/html": [
       "<div>\n",
       "<style>\n",
       "    .dataframe thead tr:only-child th {\n",
       "        text-align: right;\n",
       "    }\n",
       "\n",
       "    .dataframe thead th {\n",
       "        text-align: left;\n",
       "    }\n",
       "\n",
       "    .dataframe tbody tr th {\n",
       "        vertical-align: top;\n",
       "    }\n",
       "</style>\n",
       "<table border=\"1\" class=\"dataframe\">\n",
       "  <thead>\n",
       "    <tr style=\"text-align: right;\">\n",
       "      <th></th>\n",
       "      <th>Year</th>\n",
       "      <th>SeaLevel</th>\n",
       "    </tr>\n",
       "  </thead>\n",
       "  <tbody>\n",
       "    <tr>\n",
       "      <th>0</th>\n",
       "      <td>1923-01-01</td>\n",
       "      <td>4.03</td>\n",
       "    </tr>\n",
       "    <tr>\n",
       "      <th>1</th>\n",
       "      <td>1924-01-01</td>\n",
       "      <td>3.83</td>\n",
       "    </tr>\n",
       "    <tr>\n",
       "      <th>2</th>\n",
       "      <td>1925-01-01</td>\n",
       "      <td>3.65</td>\n",
       "    </tr>\n",
       "    <tr>\n",
       "      <th>3</th>\n",
       "      <td>1926-01-01</td>\n",
       "      <td>3.88</td>\n",
       "    </tr>\n",
       "    <tr>\n",
       "      <th>4</th>\n",
       "      <td>1927-01-01</td>\n",
       "      <td>4.01</td>\n",
       "    </tr>\n",
       "  </tbody>\n",
       "</table>\n",
       "</div>"
      ],
      "text/plain": [
       "        Year  SeaLevel\n",
       "0 1923-01-01      4.03\n",
       "1 1924-01-01      3.83\n",
       "2 1925-01-01      3.65\n",
       "3 1926-01-01      3.88\n",
       "4 1927-01-01      4.01"
      ]
     },
     "execution_count": 6,
     "metadata": {},
     "output_type": "execute_result"
    }
   ],
   "source": [
    "df.head()"
   ]
  },
  {
   "cell_type": "code",
   "execution_count": 7,
   "metadata": {},
   "outputs": [
    {
     "data": {
      "text/html": [
       "<div>\n",
       "<style>\n",
       "    .dataframe thead tr:only-child th {\n",
       "        text-align: right;\n",
       "    }\n",
       "\n",
       "    .dataframe thead th {\n",
       "        text-align: left;\n",
       "    }\n",
       "\n",
       "    .dataframe tbody tr th {\n",
       "        vertical-align: top;\n",
       "    }\n",
       "</style>\n",
       "<table border=\"1\" class=\"dataframe\">\n",
       "  <thead>\n",
       "    <tr style=\"text-align: right;\">\n",
       "      <th></th>\n",
       "      <th>Year</th>\n",
       "      <th>SeaLevel</th>\n",
       "    </tr>\n",
       "  </thead>\n",
       "  <tbody>\n",
       "    <tr>\n",
       "      <th>60</th>\n",
       "      <td>1983-01-01</td>\n",
       "      <td>4.08</td>\n",
       "    </tr>\n",
       "    <tr>\n",
       "      <th>61</th>\n",
       "      <td>1984-01-01</td>\n",
       "      <td>3.90</td>\n",
       "    </tr>\n",
       "    <tr>\n",
       "      <th>62</th>\n",
       "      <td>1985-01-01</td>\n",
       "      <td>3.88</td>\n",
       "    </tr>\n",
       "    <tr>\n",
       "      <th>63</th>\n",
       "      <td>1986-01-01</td>\n",
       "      <td>3.94</td>\n",
       "    </tr>\n",
       "    <tr>\n",
       "      <th>64</th>\n",
       "      <td>1987-01-01</td>\n",
       "      <td>4.33</td>\n",
       "    </tr>\n",
       "  </tbody>\n",
       "</table>\n",
       "</div>"
      ],
      "text/plain": [
       "         Year  SeaLevel\n",
       "60 1983-01-01      4.08\n",
       "61 1984-01-01      3.90\n",
       "62 1985-01-01      3.88\n",
       "63 1986-01-01      3.94\n",
       "64 1987-01-01      4.33"
      ]
     },
     "execution_count": 7,
     "metadata": {},
     "output_type": "execute_result"
    }
   ],
   "source": [
    "df.tail()"
   ]
  },
  {
   "cell_type": "code",
   "execution_count": 8,
   "metadata": {},
   "outputs": [
    {
     "data": {
      "text/plain": [
       "[<matplotlib.lines.Line2D at 0x111e91fd0>]"
      ]
     },
     "execution_count": 8,
     "metadata": {},
     "output_type": "execute_result"
    },
    {
     "data": {
      "image/png": "[encoded data removed]",
      "text/plain": [
       "<Figure size 864x432 with 1 Axes>"
      ]
     },
     "metadata": {},
     "output_type": "display_data"
    }
   ],
   "source": [
    "plt.figure(figsize=(12,6))\n",
    "plt.title('Port Pirie Annual Maximum Sea Level')\n",
    "plt.xlabel('Year')\n",
    "plt.ylabel('Meters')\n",
    "x = [idx.year for idx in df.Year]\n",
    "y = df.SeaLevel\n",
    "plt.plot(x,y)"
   ]
  },
  {
   "cell_type": "markdown",
   "metadata": {},
   "source": [
    "### Histogram of Data"
   ]
  },
  {
   "cell_type": "code",
   "execution_count": 9,
   "metadata": {},
   "outputs": [],
   "source": [
    "max_sea_levels = df['SeaLevel']"
   ]
  },
  {
   "cell_type": "code",
   "execution_count": 10,
   "metadata": {},
   "outputs": [
    {
     "name": "stdout",
     "output_type": "stream",
     "text": [
      "Bin Boundaries: [ 3.   3.2  3.4  3.6  3.8  4.   4.2  4.4  4.6  4.8]\n",
      "    Bin Counts: [  0.   0.   1.  15.  23.  13.  10.   2.   1.]\n"
     ]
    },
    {
     "data": {
      "image/png": "[encoded data removed]",
      "text/plain": [
       "<Figure size 864x432 with 1 Axes>"
      ]
     },
     "metadata": {},
     "output_type": "display_data"
    }
   ],
   "source": [
    "plt.figure(figsize=(12,6))\n",
    "plt.title(\"Port Pirie Annual Maximum Sea Level Histogram\")\n",
    "plt.xlabel(\"Meters\")\n",
    "plt.ylabel(\"Count per Bin\")\n",
    "result = plt.hist(max_sea_levels, bins=np.arange(3.0, 5.0, 0.2), color='LightBlue')\n",
    "print(\"Bin Boundaries: {}\".format(result[1]))\n",
    "print(\"    Bin Counts: {}\".format(result[0]))"
   ]
  },
  {
   "cell_type": "markdown",
   "metadata": {},
   "source": [
    "## The Generalized Extreme Value (GEV) Distribution"
   ]
  },
  {
   "cell_type": "markdown",
   "metadata": {},
   "source": [
    "The GEV probability density is given by: $G(z;\\mu,\\sigma,\\xi) = \\exp \\left( - \\left[ 1 + \\xi \\left( \\frac {z - \\mu} {\\sigma} \\right) \\right]^{-1/\\xi} \\right)$ where $-\\infty < \\mu < \\infty$, $\\sigma > 0$, $-\\infty < \\xi < \\infty$, and $z$ is such that $1 + \\xi(z - \\mu)/\\sigma > 0$"
   ]
  },
  {
   "cell_type": "markdown",
   "metadata": {},
   "source": [
    "<b><u>IMPORTANT NOTE</u>:</b> There does not appear to be a standard representation of the GEV distribution.  Algorithms appear to differ on how the <i><b>shape</b></i> parameter, $\\xi$, should be represented.  Specifically, the shape parameter in the <i><b>ismev</b></i> package in <b>R</b> is the <u><b>negative</b></u> of the shape parameter in <b><i>scipy.stats.genextreme</i></b>.\n",
    "\n",
    "<p>This fact will be illustrated in the example below, where two methods for estimating the GEV parameters will be used.</p>"
   ]
  },
  {
   "cell_type": "markdown",
   "metadata": {},
   "source": [
    "## Estimating the Three GEV Parameters"
   ]
  },
  {
   "cell_type": "markdown",
   "metadata": {},
   "source": [
    "Below, we'll demonstrate how to estimate the three GEV parameters using two different approaches.  Actually, they're the same approach (Maximum Likelihood Estimation - MLE) but done the <b>Hard Way</b> (by numerical optimization of the log likelihood function) and the <b>Easy Way</b> by just calling the <i><b>fit</b></i> function of the GEV distribution (<i>genextreme</i>) in <i>scipy.stats</i>."
   ]
  },
  {
   "cell_type": "markdown",
   "metadata": {},
   "source": [
    "### Method 1: The Hard Way (numerical optimization of the log likelihood function)"
   ]
  },
  {
   "cell_type": "markdown",
   "metadata": {},
   "source": [
    "Stuart Cole's book is the source for the following log likelihood function.  Note that Cole's book is also the source for the implementation of <i><b>ismev</b></i> in <b>R</b>."
   ]
  },
  {
   "cell_type": "markdown",
   "metadata": {},
   "source": [
    "If $Z_1,Z_2,...,Z_m$ are independent random variables with the GEV distribution, then given the observations, $z_i, z_2, ..., z_m$, the parameters, $\\mu$, $\\sigma$, and $\\xi$ can be estimated using the Maximum Likelihood Method.  The log likelihood function, $\\ell$, of the parameters is given below.  We need to find the values of $\\mu$, $\\sigma$, and $\\xi$ that maximize $\\ell$ for the given sample, $z_i, z_2, ..., z_m$."
   ]
  },
  {
   "cell_type": "markdown",
   "metadata": {},
   "source": [
    "$\\ell(\\mu,\\sigma,\\xi) = -m log(\\sigma) - (1 + 1/\\xi) \\sum\\limits_{i=1}^m log \\left[ 1 + \\xi \\left( \\frac {z_i - \\mu} {\\sigma} \\right) \\right] - \\sum\\limits_{i=1}^m \\left[ 1 + \\xi \\left( \\frac {z_i - \\mu} {\\sigma} \\right) \\right]^{-1/\\xi}$"
   ]
  },
  {
   "cell_type": "markdown",
   "metadata": {},
   "source": [
    "where $\\xi \\ne 0$ and $1 + \\xi \\left( \\frac {z_i - \\mu} {\\sigma} \\right) > 0$ for $i=1,...,m$"
   ]
  },
  {
   "cell_type": "markdown",
   "metadata": {},
   "source": [
    "The function below implements the log likelihood function, above, and uses a standard optimization algorithm, <i>scipy.optimize.minimize</i>, to find the MLE for the EVT parameters.  Basically, it maximizes the GEV log likelihood function by minimizing its negative."
   ]
  },
  {
   "cell_type": "code",
   "execution_count": 12,
   "metadata": {},
   "outputs": [],
   "source": [
    "def gev_max_likelihood_estimate(data, starting_shape_estimate=0.1, minimization_method='nelder-mead',\n",
    "                                tolerance=1e-8, display=True):\n",
    "    '''Returns the maximum likelihood estimate of the three parameters of the Generalized Extreme\n",
    "    Value (GEV) distribution: mu (location), sigma (scale), and xi (shape).'''\n",
    "    def log_likelihood(w): # 'w' is assumed to be a tuple: (mu, sigma, xi)\n",
    "        sum1 = 0.0; sum2 = 0.0\n",
    "        mu = w[0]; sigma = w[1]; xi = w[2]\n",
    "        for z in data:\n",
    "            x = 1 + xi * ((z-mu)/sigma)\n",
    "            sum1 += np.log(x)\n",
    "            sum2 += x**(-1.0/xi)\n",
    "        return -((-len(data) * np.log(sigma)) - (1 + 1/xi)*sum1 - sum2) # negated so we can use 'minimum'\n",
    "    starting_parameter_estimate = (data.mean(), data.std(), starting_shape_estimate)\n",
    "    return minimize(log_likelihood, starting_parameter_estimate, method=minimization_method,\n",
    "                    options={'xtol': tolerance, 'disp': display})"
   ]
  },
  {
   "cell_type": "markdown",
   "metadata": {},
   "source": [
    "#### Now calculate the MLE for the sea level data"
   ]
  },
  {
   "cell_type": "code",
   "execution_count": 12,
   "metadata": {},
   "outputs": [
    {
     "name": "stdout",
     "output_type": "stream",
     "text": [
      "Optimization terminated successfully.\n",
      "         Current function value: -4.339058\n",
      "         Iterations: 148\n",
      "         Function evaluations: 277\n"
     ]
    }
   ],
   "source": [
    "mle = gev_max_likelihood_estimate(max_sea_levels)"
   ]
  },
  {
   "cell_type": "code",
   "execution_count": 13,
   "metadata": {},
   "outputs": [
    {
     "data": {
      "text/plain": [
       " final_simplex: (array([[ 3.87474985,  0.19804396, -0.05010952],\n",
       "       [ 3.87474986,  0.19804396, -0.05010952],\n",
       "       [ 3.87474986,  0.19804396, -0.05010953],\n",
       "       [ 3.87474986,  0.19804396, -0.05010952]]), array([-4.33905847, -4.33905847, -4.33905847, -4.33905847]))\n",
       "           fun: -4.3390584736794295\n",
       "       message: 'Optimization terminated successfully.'\n",
       "          nfev: 277\n",
       "           nit: 148\n",
       "        status: 0\n",
       "       success: True\n",
       "             x: array([ 3.87474985,  0.19804396, -0.05010952])"
      ]
     },
     "execution_count": 13,
     "metadata": {},
     "output_type": "execute_result"
    }
   ],
   "source": [
    "mle"
   ]
  },
  {
   "cell_type": "markdown",
   "metadata": {},
   "source": [
    "#### The three parameter estimates are contained in the array, x, returned by the MLE estimation"
   ]
  },
  {
   "cell_type": "code",
   "execution_count": 14,
   "metadata": {},
   "outputs": [
    {
     "data": {
      "text/plain": [
       "array([ 3.87474985,  0.19804396, -0.05010952])"
      ]
     },
     "execution_count": 14,
     "metadata": {},
     "output_type": "execute_result"
    }
   ],
   "source": [
    "mle.x"
   ]
  },
  {
   "cell_type": "code",
   "execution_count": 15,
   "metadata": {},
   "outputs": [
    {
     "name": "stdout",
     "output_type": "stream",
     "text": [
      "The mean, sigma, and shape parameters are 3.8747498544435586, 0.19804395918541323, and -0.05010952175148731, resp.\n"
     ]
    }
   ],
   "source": [
    "mu = mle.x[0]\n",
    "sigma = mle.x[1]\n",
    "xi = mle.x[2]\n",
    "print(\"The mean, sigma, and shape parameters are {}, {}, and {}, resp.\".format(mu, sigma, xi))"
   ]
  },
  {
   "cell_type": "markdown",
   "metadata": {},
   "source": [
    "### Method 2: The Easy Way - Use scipy.stats.genextreme.fit"
   ]
  },
  {
   "cell_type": "markdown",
   "metadata": {},
   "source": [
    "The \"fit\" command estimates the MLE parameters of whatever continuous distribution you are working with in scipy.stats -- in this case, the GEV (genextreme)."
   ]
  },
  {
   "cell_type": "code",
   "execution_count": 16,
   "metadata": {},
   "outputs": [
    {
     "name": "stderr",
     "output_type": "stream",
     "text": [
      "/Users/alfredreich/anaconda/lib/python3.6/site-packages/scipy/stats/_continuous_distns.py:1894: RuntimeWarning: invalid value encountered in true_divide\n",
      "  np.sign(c)*(-g3+(g2+2*g2mg12)*g1)/((g2mg12)**(3./2.)))\n",
      "/Users/alfredreich/anaconda/lib/python3.6/site-packages/scipy/stats/_continuous_distns.py:1899: RuntimeWarning: invalid value encountered in true_divide\n",
      "  (g4+(-4*g3+3*(g2+g2mg12)*g1)*g1)/((g2mg12)**2))\n"
     ]
    },
    {
     "data": {
      "text/plain": [
       "(0.050105347853286269, 3.874758730628963, 0.19803814023673208)"
      ]
     },
     "execution_count": 16,
     "metadata": {},
     "output_type": "execute_result"
    }
   ],
   "source": [
    "mle2 = genextreme.fit(max_sea_levels)\n",
    "mle2"
   ]
  },
  {
   "cell_type": "markdown",
   "metadata": {},
   "source": [
    "<b>Note that the shape parameter, above, is 0.0501..., whereas the shape parameter that was derived earlier was the negative of this (-0.0501...).</b>"
   ]
  },
  {
   "cell_type": "code",
   "execution_count": 17,
   "metadata": {},
   "outputs": [
    {
     "name": "stdout",
     "output_type": "stream",
     "text": [
      "The mean, sigma, and shape parameters are 3.874758730628963, 0.19803814023673208, and 0.05010534785328627, resp.\n"
     ]
    }
   ],
   "source": [
    "mu = mle2[1]\n",
    "sigma = mle2[2]\n",
    "xi = mle2[0]\n",
    "print(\"The mean, sigma, and shape parameters are {}, {}, and {}, resp.\".format(mu, sigma, xi))"
   ]
  },
  {
   "cell_type": "markdown",
   "metadata": {},
   "source": [
    "### Plot of the estimated Probabililty Density Function (PDF) along with a normalized histogram of the data"
   ]
  },
  {
   "cell_type": "markdown",
   "metadata": {},
   "source": [
    "This density (actually, its cumulative distribution function (CDF) and the CDF inverse) can be used to calculate probabilities of greater values.  But the PDF is handy to look at and compare to a normalized plot of the data."
   ]
  },
  {
   "cell_type": "markdown",
   "metadata": {},
   "source": [
    "The GEV PDF is a library function in <i>scipy.stats</i> called, <i>genextreme</i>.  All we have to do is fill in the three GEV parameters that were estimated, above, to get the PDF for our sample data."
   ]
  },
  {
   "cell_type": "code",
   "execution_count": 18,
   "metadata": {},
   "outputs": [],
   "source": [
    "def sea_levels_gev_pdf(x):\n",
    "    return genextreme.pdf(x, xi, loc=mu, scale=sigma)"
   ]
  },
  {
   "cell_type": "code",
   "execution_count": 19,
   "metadata": {},
   "outputs": [],
   "source": [
    "x = np.linspace(3.0, 6.0, num=100)\n",
    "y = [sea_levels_gev_pdf(z) for z in x]"
   ]
  },
  {
   "cell_type": "markdown",
   "metadata": {},
   "source": [
    "In the plot, below, we can see that the estimated PDF and the normalized histogram match very well."
   ]
  },
  {
   "cell_type": "code",
   "execution_count": 20,
   "metadata": {},
   "outputs": [
    {
     "data": {
      "text/plain": [
       "(array([ 0.82417582,  1.23626374,  1.92307692,  1.64835165,  1.23626374,\n",
       "         0.96153846,  0.41208791,  0.27472527,  0.27472527,  0.13736264]),\n",
       " array([ 3.57 ,  3.682,  3.794,  3.906,  4.018,  4.13 ,  4.242,  4.354,\n",
       "         4.466,  4.578,  4.69 ]),\n",
       " <a list of 10 Patch objects>)"
      ]
     },
     "execution_count": 20,
     "metadata": {},
     "output_type": "execute_result"
    },
    {
     "data": {
      "image/png": "[encoded data removed]",
      "text/plain": [
       "<Figure size 864x432 with 1 Axes>"
      ]
     },
     "metadata": {},
     "output_type": "display_data"
    }
   ],
   "source": [
    "plt.figure(figsize=(12,6))\n",
    "plt.title(\"Fitted Probability Density (red) & Normalized Histogram (light blue)\")\n",
    "plt.xlabel(\"Port Pirie Annual Maximum Sea Level (Meters)\")\n",
    "plt.plot(x,y, color='Red')\n",
    "plt.hist(max_sea_levels, density=1, color='LightBlue')"
   ]
  },
  {
   "cell_type": "markdown",
   "metadata": {},
   "source": [
    "### Computing Confidence Regions"
   ]
  },
  {
   "cell_type": "markdown",
   "metadata": {},
   "source": [
    "A 95% one-sided confidence region can be computed by using the inverse of the cumulative distribution function (CDF) -- called PPF in scipy.stats.  So, from the calculation, below, we can say the there is only a 5% chance that the maximum sea level in given year will be above 4.42 meters, and only a 1% chance it will exceed 4.69 meters."
   ]
  },
  {
   "cell_type": "code",
   "execution_count": 21,
   "metadata": {},
   "outputs": [
    {
     "data": {
      "text/plain": [
       "4.421293904937829"
      ]
     },
     "execution_count": 21,
     "metadata": {},
     "output_type": "execute_result"
    }
   ],
   "source": [
    "genextreme.ppf(0.95, xi, loc=mu, scale=sigma)"
   ]
  },
  {
   "cell_type": "code",
   "execution_count": 22,
   "metadata": {},
   "outputs": [
    {
     "data": {
      "text/plain": [
       "4.6883962619650319"
      ]
     },
     "execution_count": 22,
     "metadata": {},
     "output_type": "execute_result"
    }
   ],
   "source": [
    "genextreme.ppf(0.99, xi, loc=mu, scale=sigma)"
   ]
  },
  {
   "cell_type": "code",
   "execution_count": 23,
   "metadata": {},
   "outputs": [
    {
     "name": "stdout",
     "output_type": "stream",
     "text": [
      "The maximum recorded sea level is 4.69 meters.\n"
     ]
    }
   ],
   "source": [
    "print(\"The maximum recorded sea level is {} meters.\".format(max(max_sea_levels)))"
   ]
  },
  {
   "cell_type": "markdown",
   "metadata": {},
   "source": [
    "The probability of seeing a sea level higher than the maximum recorded level is about 1%:"
   ]
  },
  {
   "cell_type": "code",
   "execution_count": 25,
   "metadata": {},
   "outputs": [
    {
     "name": "stdout",
     "output_type": "stream",
     "text": [
      "0.9899%\n"
     ]
    }
   ],
   "source": [
    "print(\"{:.4f}%\".format(((1 - genextreme.cdf(max(max_sea_levels), xi, loc=mu, scale=sigma)) * 100.0)))"
   ]
  },
  {
   "cell_type": "markdown",
   "metadata": {},
   "source": [
    "## Run the example in R using the package 'ismev'"
   ]
  },
  {
   "cell_type": "markdown",
   "metadata": {},
   "source": [
    "The <i>rmagic</i> extension contains IPython magics for working with R via the <i>rpy2</i> module."
   ]
  },
  {
   "cell_type": "code",
   "execution_count": 26,
   "metadata": {},
   "outputs": [],
   "source": [
    "import rpy2\n",
    "%load_ext rpy2.ipython"
   ]
  },
  {
   "cell_type": "markdown",
   "metadata": {},
   "source": [
    "The following cell runs the GEV MLE fit in R using the data Port Pirie data file contained in 'ismev'.\n",
    "\n",
    "<p>The result of the fit is output to a numpy array.  The graphics output by the command <i>gen.diag</i> is saved to a jpg file and then loaded as an image.</p>"
   ]
  },
  {
   "cell_type": "code",
   "execution_count": 36,
   "metadata": {},
   "outputs": [
    {
     "ename": "SyntaxError",
     "evalue": "invalid syntax (<ipython-input-36-6fa9b3086b9c>, line 4)",
     "output_type": "error",
     "traceback": [
      "\u001b[0;36m  File \u001b[0;32m\"<ipython-input-36-6fa9b3086b9c>\"\u001b[0;36m, line \u001b[0;32m4\u001b[0m\n\u001b[0;31m    r_fit <- gev.fit(portpirie[,2])\u001b[0m\n\u001b[0m                               ^\u001b[0m\n\u001b[0;31mSyntaxError\u001b[0m\u001b[0;31m:\u001b[0m invalid syntax\n"
     ]
    }
   ],
   "source": [
    "%R -o r_fit\n",
    "library('ismev')\n",
    "data(portpirie) # Data here is NOT pushed from Python; it is a dataframe in 'ismev'\n",
    "r_fit <- gev.fit(portpirie[,2])\n",
    "jpeg('~/r_gev_diag.jpg')\n",
    "gev.diag(r_fit)\n",
    "dev.off()"
   ]
  },
  {
   "cell_type": "markdown",
   "metadata": {},
   "source": [
    "The 6th element of the array output by R is the set of GEV parameters we are seeking:"
   ]
  },
  {
   "cell_type": "code",
   "execution_count": null,
   "metadata": {},
   "outputs": [],
   "source": [
    "r_fit_results_in_py = array(r_fit[6])\n",
    "r_fit_results_in_py"
   ]
  },
  {
   "cell_type": "markdown",
   "metadata": {},
   "source": [
    "And here's the image that was created in R, above:"
   ]
  },
  {
   "cell_type": "code",
   "execution_count": null,
   "metadata": {},
   "outputs": [],
   "source": [
    "from IPython.core.display import Image \n",
    "homedir = !echo $HOME\n",
    "Image(filename= homedir[0] + '/r_gev_diag.jpg')"
   ]
  },
  {
   "cell_type": "markdown",
   "metadata": {},
   "source": [
    "<b><u>TO BE DONE</u></b>\n",
    "<p>1. Don't use the input data from the R 'ismev' library.  Instead, push the Python input data to R to do the analysis.</p>\n",
    "<p>2. Also, see if the graphics output by R can be pushed directly to Python, without saving to a file first.</p>"
   ]
  }
 ],
 "metadata": {
  "kernelspec": {
   "display_name": "Python 3",
   "language": "python",
   "name": "python3"
  },
  "language_info": {
   "codemirror_mode": {
    "name": "ipython",
    "version": 3
   },
   "file_extension": ".py",
   "mimetype": "text/x-python",
   "name": "python",
   "nbconvert_exporter": "python",
   "pygments_lexer": "ipython3",
   "version": "3.6.5"
  }
 },
 "nbformat": 4,
 "nbformat_minor": 1
}
