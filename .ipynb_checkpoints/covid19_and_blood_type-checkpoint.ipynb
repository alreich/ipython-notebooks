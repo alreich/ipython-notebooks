{
 "cells": [
  {
   "cell_type": "markdown",
   "metadata": {},
   "source": [
    "# Covid-19 & Blood Type"
   ]
  },
  {
   "cell_type": "markdown",
   "metadata": {},
   "source": [
    "<i>Version 1</i>"
   ]
  },
  {
   "cell_type": "markdown",
   "metadata": {},
   "source": [
    "## References"
   ]
  },
  {
   "cell_type": "markdown",
   "metadata": {},
   "source": [
    "* <i><b>\"Blood Type May Affect COVID-19 Risk: Study\"</b></i> [WebMD](https://www.webmd.com/lung/news/20200320/blood-type-may-affect-covid19-risk-study)\n",
    "* <i><b>\"Relationship between the ABO Blood Group and the COVID-19 Susceptibility\"</b></i> by Jiao Zhao, et al. [Abstract & link to PDF](https://www.medrxiv.org/content/10.1101/2020.03.11.20031096v1)\n",
    "* <i><b>\"Blood type distribution by country\"</b></i> [Wikipedia](https://en.wikipedia.org/wiki/Blood_type_distribution_by_country)"
   ]
  },
  {
   "cell_type": "markdown",
   "metadata": {},
   "source": [
    "## Module Imports"
   ]
  },
  {
   "cell_type": "code",
   "execution_count": 1,
   "metadata": {},
   "outputs": [],
   "source": [
    "#import scipy\n",
    "#from scipy.stats import multinomial\n",
    "import numpy as np"
   ]
  },
  {
   "cell_type": "markdown",
   "metadata": {},
   "source": [
    "## Raw Data"
   ]
  },
  {
   "cell_type": "markdown",
   "metadata": {},
   "source": [
    "<u><b>Excerpt from Zhao, et al:</b></u> <i>\"The ABO group in 3694 normal people in Wuhan showed a distribution of 32.16%,\n",
    "24.90%, 9.10% and 33.84% for A, B, AB and O, respectively, versus the distribution\n",
    "of 37.75%, 26.42%, 10.03% and 25.80% for A, B, AB and O, respectively, in 1,775\n",
    "COVID-19 patients from Wuhan Jinyintan Hospital. The proportion of blood group A\n",
    "and O in COVID-19 patients were significantly higher and lower, respectively, than\n",
    "    that in normal people (both P < 0.001).\"</i>"
   ]
  },
  {
   "cell_type": "code",
   "execution_count": 2,
   "metadata": {},
   "outputs": [],
   "source": [
    "# From Table 1\n",
    "\n",
    "# Controls (Wuhan Area), 3694 total:\n",
    "wuhan_controls = np.array([1188, 920, 336, 1250])\n",
    "\n",
    "# Wuhan Jinyintan Hospital\n",
    "# Patients, 1775 total:\n",
    "wuhan_patients = np.array([670, 469, 178, 458])\n",
    "# Deaths, 206 total:\n",
    "wuhan_deaths = np.array([85, 50, 19, 52])\n",
    "\n",
    "# Renmin Hospital of Wuhan University\n",
    "# patients, 113 total:\n",
    "renmin_patients = np.array([45, 25, 15, 28])\n",
    "\n",
    "# Controls (Shenzhen area), 23386 total:\n",
    "shenzhen_controls = np.array([6728, 5880, 1712, 9066])\n",
    "\n",
    "# Patients from Shenzhen Third People's Hospital, 285 total:\n",
    "shenzhen_patients = np.array([82, 83, 39, 81])"
   ]
  },
  {
   "cell_type": "code",
   "execution_count": 11,
   "metadata": {},
   "outputs": [
    {
     "name": "stdout",
     "output_type": "stream",
     "text": [
      "Wuhan Controls Total: 3694\n",
      "Wuhan Constrols Dist:\n",
      "  [A, B, AB, O] = [0.3216026  0.24905252 0.09095831 0.33838657]\n"
     ]
    }
   ],
   "source": [
    "# Wuhan Controls Distribution\n",
    "print(f\"Wuhan Controls Total: {wuhan_controls.sum()}\")\n",
    "\n",
    "wuhan_controls_dist = wuhan_controls / wuhan_controls.sum()\n",
    "print(f\"Wuhan Constrols Dist:\\n  [A, B, AB, O] = {wuhan_controls_dist}\")"
   ]
  },
  {
   "cell_type": "code",
   "execution_count": 10,
   "metadata": {},
   "outputs": [
    {
     "name": "stdout",
     "output_type": "stream",
     "text": [
      "[882 627 251 619]\n",
      "Totoal = 2379\n"
     ]
    }
   ],
   "source": [
    "sick_or_dead = wuhan_patients + wuhan_deaths + renmin_patients + shenzhen_patients\n",
    "print(sick_or_dead)\n",
    "print(f\"Totoal = {sick_or_dead.sum()}\")"
   ]
  },
  {
   "cell_type": "code",
   "execution_count": 15,
   "metadata": {},
   "outputs": [
    {
     "name": "stdout",
     "output_type": "stream",
     "text": [
      "[[1185  912  343 1254]\n",
      " [1230  888  325 1251]\n",
      " [1191  908  329 1266]\n",
      " [1184  941  339 1230]\n",
      " [1172  947  331 1244]\n",
      " [1204  911  338 1241]\n",
      " [1218  966  317 1193]\n",
      " [1232  889  297 1276]\n",
      " [1180  928  354 1232]\n",
      " [1197  924  343 1230]]\n"
     ]
    }
   ],
   "source": [
    "foo = np.random.multinomial(wuhan_controls.sum(), wuhan_controls_dist, size=10)\n",
    "print(foo)"
   ]
  },
  {
   "cell_type": "code",
   "execution_count": 17,
   "metadata": {},
   "outputs": [
    {
     "name": "stdout",
     "output_type": "stream",
     "text": [
      "[0.32079047 0.24688684 0.09285328 0.33946941]\n",
      "[0.33297239 0.24038982 0.08798051 0.33865728]\n",
      "[0.32241473 0.24580401 0.08906335 0.34271792]\n",
      "[0.32051976 0.25473741 0.09177044 0.33297239]\n",
      "[0.31727125 0.25636167 0.08960476 0.33676232]\n",
      "[0.32593395 0.24661613 0.09149973 0.33595019]\n",
      "[0.32972388 0.26150514 0.08581483 0.32295615]\n",
      "[0.33351381 0.24066053 0.08040065 0.34542501]\n",
      "[0.31943692 0.25121819 0.09583108 0.33351381]\n",
      "[0.32403898 0.25013535 0.09285328 0.33297239]\n"
     ]
    }
   ],
   "source": [
    "for f in foo:\n",
    "    print(f / f.sum())"
   ]
  },
  {
   "cell_type": "code",
   "execution_count": 19,
   "metadata": {},
   "outputs": [
    {
     "ename": "ModuleNotFoundError",
     "evalue": "No module named 'pymc3'",
     "output_type": "error",
     "traceback": [
      "\u001b[0;31m---------------------------------------------------------------------------\u001b[0m",
      "\u001b[0;31mModuleNotFoundError\u001b[0m                       Traceback (most recent call last)",
      "\u001b[0;32m<ipython-input-19-2e5c536b7c65>\u001b[0m in \u001b[0;36m<module>\u001b[0;34m\u001b[0m\n\u001b[0;32m----> 1\u001b[0;31m \u001b[0;32mimport\u001b[0m \u001b[0mpymc3\u001b[0m \u001b[0;32mas\u001b[0m \u001b[0mpm\u001b[0m\u001b[0;34m\u001b[0m\u001b[0;34m\u001b[0m\u001b[0m\n\u001b[0m",
      "\u001b[0;31mModuleNotFoundError\u001b[0m: No module named 'pymc3'"
     ]
    }
   ],
   "source": [
    "import pymc3 as pm"
   ]
  },
  {
   "cell_type": "markdown",
   "metadata": {},
   "source": [
    "See https://discourse.pymc.io/t/how-to-improve-a-multinomial-model-from-bda3/2188"
   ]
  },
  {
   "cell_type": "code",
   "execution_count": null,
   "metadata": {},
   "outputs": [],
   "source": [
    "with pm.Model() as m:\n",
    "    ...:     theta = pm.Dirichlet('theta', a=np.ones_like(obs))\n",
    "    ...:     post = pm.Multinomial('post', n=obs.sum(), p=theta, observed=obs)\n",
    "    ...:     trace = pm.sample(1000, tune=5000)"
   ]
  },
  {
   "cell_type": "code",
   "execution_count": 20,
   "metadata": {},
   "outputs": [
    {
     "data": {
      "text/plain": [
       "array([1, 1, 1, 1])"
      ]
     },
     "execution_count": 20,
     "metadata": {},
     "output_type": "execute_result"
    }
   ],
   "source": [
    "np.ones_like(sick_or_dead)"
   ]
  },
  {
   "cell_type": "code",
   "execution_count": null,
   "metadata": {},
   "outputs": [],
   "source": []
  }
 ],
 "metadata": {
  "kernelspec": {
   "display_name": "Python 3",
   "language": "python",
   "name": "python3"
  },
  "language_info": {
   "codemirror_mode": {
    "name": "ipython",
    "version": 3
   },
   "file_extension": ".py",
   "mimetype": "text/x-python",
   "name": "python",
   "nbconvert_exporter": "python",
   "pygments_lexer": "ipython3",
   "version": "3.7.4"
  }
 },
 "nbformat": 4,
 "nbformat_minor": 2
}
