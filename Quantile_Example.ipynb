{
 "metadata": {
  "name": ""
 },
 "nbformat": 3,
 "nbformat_minor": 0,
 "worksheets": [
  {
   "cells": [
    {
     "cell_type": "heading",
     "level": 1,
     "metadata": {},
     "source": [
      "Quantiles using the R-8 Method"
     ]
    },
    {
     "cell_type": "markdown",
     "metadata": {},
     "source": [
      "The 5%, 50% (median), and 95% quantiles for an Alpha-like random sample of integers are computed here using the R-8 method, described in the [Wikipedia page on Quantiles](http://en.wikipedia.org/wiki/Quantile), and the <i><b>mquantile</b></i> function found in <i>scipy.stats.mstats</i> (see [mquantile documentation here](http://docs.scipy.org/doc/scipy/reference/generated/scipy.stats.mstats.mquantiles.html))."
     ]
    },
    {
     "cell_type": "code",
     "collapsed": false,
     "input": [
      "import numpy as np\n",
      "from scipy import stats\n",
      "from scipy.stats.mstats import mquantiles"
     ],
     "language": "python",
     "metadata": {},
     "outputs": [],
     "prompt_number": 177
    },
    {
     "cell_type": "heading",
     "level": 2,
     "metadata": {},
     "source": [
      "Create a Random Variable with the Alpha distribution"
     ]
    },
    {
     "cell_type": "code",
     "collapsed": false,
     "input": [
      "from scipy.stats import alpha\n",
      "a = 0.5\n",
      "location = 1\n",
      "scale = 3\n",
      "rv = alpha(a, location, scale) # frozen random variable"
     ],
     "language": "python",
     "metadata": {},
     "outputs": [],
     "prompt_number": 178
    },
    {
     "cell_type": "heading",
     "level": 3,
     "metadata": {},
     "source": [
      "Take a look at the plot of the distribution's PDF and the population quartiles"
     ]
    },
    {
     "cell_type": "code",
     "collapsed": false,
     "input": [
      "figure(figsize=(12,6))\n",
      "xmin = rv.ppf(0.0001)\n",
      "xmax = rv.ppf(0.95)\n",
      "numpts = 1000\n",
      "\n",
      "z_score_25 = rv.ppf(0.25)\n",
      "axvline(x=z_score_25, color='Black', linestyle = '--')\n",
      "limit_text_25 = 'Q1 =%6.2f' % z_score_25\n",
      "text(z_score_25+0.25, 0.25, limit_text_25, color = 'Black')\n",
      "\n",
      "z_score_50 = rv.ppf(0.50)\n",
      "axvline(x=z_score_50, color='Black', linestyle = '--')\n",
      "limit_text_50 = 'Q2 (median) =%6.2f' % z_score_50\n",
      "text(z_score_50+0.25, 0.20, limit_text_50, color = 'Black')\n",
      "\n",
      "z_score_75 = rv.ppf(0.75)\n",
      "axvline(x=z_score_75, color='Black', linestyle = '--')\n",
      "limit_text_75 = 'Q3 =%6.2f' % z_score_75\n",
      "text(z_score_75+0.25, 0.15, limit_text_75, color = 'Black')\n",
      "\n",
      "x = np.linspace(xmin, xmax, numpts)\n",
      "plot(x, rv.pdf(x), color='Blue')"
     ],
     "language": "python",
     "metadata": {},
     "outputs": [
      {
       "metadata": {},
       "output_type": "pyout",
       "prompt_number": 179,
       "text": [
        "[<matplotlib.lines.Line2D at 0x111a0a550>]"
       ]
      },
      {
       "metadata": {},
       "output_type": "display_data",
       "png": "[encoded data removed]",
       "text": [
        "<matplotlib.figure.Figure at 0x11198a850>"
       ]
      }
     ],
     "prompt_number": 179
    },
    {
     "cell_type": "heading",
     "level": 2,
     "metadata": {},
     "source": [
      "Generate the Random Sample"
     ]
    },
    {
     "cell_type": "code",
     "collapsed": false,
     "input": [
      "sample_size = 50\n",
      "random_sample = map(lambda x: int(round(x)), rv.rvs(sample_size))\n",
      "print random_sample"
     ],
     "language": "python",
     "metadata": {},
     "outputs": [
      {
       "output_type": "stream",
       "stream": "stdout",
       "text": [
        "[6, 15, 3, 6, 7, 6, 3, 4, 11, 6, 3, 4, 9, 3, 5, 3, 4, 4, 2, 5, 13, 5, 11, 4, 4, 5, 11, 3, 6, 6, 3, 4, 3, 6, 13, 3, 5, 10, 2, 6, 2, 3, 25, 4, 5, 4, 5, 4, 4, 3]\n"
       ]
      }
     ],
     "prompt_number": 206
    },
    {
     "cell_type": "heading",
     "level": 3,
     "metadata": {},
     "source": [
      "Take a look at the Histogram of the Random Sample"
     ]
    },
    {
     "cell_type": "code",
     "collapsed": false,
     "input": [
      "hist_results = hist(random_sample, bins=8, color='Yellow')\n",
      "print \"Bin Boundaries: %s\" % hist_results[1]\n",
      "print \"    Bin Counts: %s\" % hist_results[0]"
     ],
     "language": "python",
     "metadata": {},
     "outputs": [
      {
       "output_type": "stream",
       "stream": "stdout",
       "text": [
        "Bin Boundaries: [  2.      4.875   7.75   10.625  13.5    16.375  19.25   22.125  25.   ]\n",
        "    Bin Counts: [ 25.  16.   2.   5.   1.   0.   0.   1.]\n"
       ]
      },
      {
       "metadata": {},
       "output_type": "display_data",
       "png": "[encoded data removed]",
       "text": [
        "<matplotlib.figure.Figure at 0x10f7c8d10>"
       ]
      }
     ],
     "prompt_number": 207
    },
    {
     "cell_type": "heading",
     "level": 2,
     "metadata": {},
     "source": [
      "Compute Sample Quantiles"
     ]
    },
    {
     "cell_type": "heading",
     "level": 4,
     "metadata": {},
     "source": [
      "Quartiles"
     ]
    },
    {
     "cell_type": "code",
     "collapsed": false,
     "input": [
      "print mquantiles(random_sample, prob=[0.25, 0.50, 0.75], alphap=1.0/3.0, betap=1.0/3.0)"
     ],
     "language": "python",
     "metadata": {},
     "outputs": [
      {
       "output_type": "stream",
       "stream": "stdout",
       "text": [
        "[ 3.   4.5  6. ]\n"
       ]
      }
     ],
     "prompt_number": 208
    },
    {
     "cell_type": "heading",
     "level": 4,
     "metadata": {},
     "source": [
      "Some percentiles"
     ]
    },
    {
     "cell_type": "code",
     "collapsed": false,
     "input": [
      "print mquantiles(random_sample, prob=[0.01, 0.05, 0.95, 0.99], alphap=1.0/3.0, betap=1.0/3.0)"
     ],
     "language": "python",
     "metadata": {},
     "outputs": [
      {
       "output_type": "stream",
       "stream": "stdout",
       "text": [
        "[  2.    2.   13.3  25. ]\n"
       ]
      }
     ],
     "prompt_number": 209
    },
    {
     "cell_type": "heading",
     "level": 4,
     "metadata": {},
     "source": [
      "Defining the R-8 quantile function from scratch:"
     ]
    },
    {
     "cell_type": "code",
     "collapsed": false,
     "input": [
      "one_third = 1.0/3.0\n",
      "two_thirds = 2.0/3.0\n",
      "def my_quant_r8(data, p):\n",
      "    N = len(data)\n",
      "    x = sorted(data)\n",
      "    if p < two_thirds / (N + one_third):\n",
      "        Qp = x[0]\n",
      "    elif p >= (N - one_third) / (N + one_third):\n",
      "        Qp = x[N-1]\n",
      "    else:\n",
      "        h = (N + one_third)*p + one_third\n",
      "        h_floor = int(floor(h))\n",
      "        Qp = x[h_floor - 1] + (h - h_floor)*(x[h_floor] - x[h_floor - 1])\n",
      "    return Qp"
     ],
     "language": "python",
     "metadata": {},
     "outputs": [],
     "prompt_number": 210
    },
    {
     "cell_type": "markdown",
     "metadata": {},
     "source": [
      "Compare all the percentiles of <i>mquantile</i> with those of the R-8 quantile function defined, above:"
     ]
    },
    {
     "cell_type": "code",
     "collapsed": false,
     "input": [
      "print \"    p   mquantile  my_quant_r8\"\n",
      "for pr in arange(0.01,1.00,0.01):\n",
      "    mq = mquantiles(random_sample, prob=pr, alphap=1.0/3.0, betap=1.0/3.0)\n",
      "    myq = my_quant_r8(random_sample, pr)\n",
      "    print \"%6.2F %8.3f %8.3f\" % (pr, mq[0], myq)"
     ],
     "language": "python",
     "metadata": {},
     "outputs": [
      {
       "output_type": "stream",
       "stream": "stdout",
       "text": [
        "    p   mquantile  my_quant_r8\n",
        "  0.01    2.000    2.000\n",
        "  0.02    2.000    2.000\n",
        "  0.03    2.000    2.000\n",
        "  0.04    2.000    2.000\n",
        "  0.05    2.000    2.000\n",
        "  0.06    2.353    2.353\n",
        "  0.07    2.857    2.857\n",
        "  0.08    3.000    3.000\n",
        "  0.09    3.000    3.000\n",
        "  0.10    3.000    3.000\n",
        "  0.11    3.000    3.000\n",
        "  0.12    3.000    3.000\n",
        "  0.13    3.000    3.000\n",
        "  0.14    3.000    3.000\n",
        "  0.15    3.000    3.000\n",
        "  0.16    3.000    3.000\n",
        "  0.17    3.000    3.000\n",
        "  0.18    3.000    3.000\n",
        "  0.19    3.000    3.000\n",
        "  0.20    3.000    3.000\n",
        "  0.21    3.000    3.000\n",
        "  0.22    3.000    3.000\n",
        "  0.23    3.000    3.000\n",
        "  0.24    3.000    3.000\n",
        "  0.25    3.000    3.000\n",
        "  0.26    3.000    3.000\n",
        "  0.27    3.000    3.000\n",
        "  0.28    3.427    3.427\n",
        "  0.29    3.930    3.930\n",
        "  0.30    4.000    4.000\n",
        "  0.31    4.000    4.000\n",
        "  0.32    4.000    4.000\n",
        "  0.33    4.000    4.000\n",
        "  0.34    4.000    4.000\n",
        "  0.35    4.000    4.000\n",
        "  0.36    4.000    4.000\n",
        "  0.37    4.000    4.000\n",
        "  0.38    4.000    4.000\n",
        "  0.39    4.000    4.000\n",
        "  0.40    4.000    4.000\n",
        "  0.41    4.000    4.000\n",
        "  0.42    4.000    4.000\n",
        "  0.43    4.000    4.000\n",
        "  0.44    4.000    4.000\n",
        "  0.45    4.000    4.000\n",
        "  0.46    4.000    4.000\n",
        "  0.47    4.000    4.000\n",
        "  0.48    4.000    4.000\n",
        "  0.49    4.000    4.000\n",
        "  0.50    4.500    4.500\n",
        "  0.51    5.000    5.000\n",
        "  0.52    5.000    5.000\n",
        "  0.53    5.000    5.000\n",
        "  0.54    5.000    5.000\n",
        "  0.55    5.000    5.000\n",
        "  0.56    5.000    5.000\n",
        "  0.57    5.000    5.000\n",
        "  0.58    5.000    5.000\n",
        "  0.59    5.000    5.000\n",
        "  0.60    5.000    5.000\n",
        "  0.61    5.000    5.000\n",
        "  0.62    5.000    5.000\n",
        "  0.63    5.043    5.043\n",
        "  0.64    5.547    5.547\n",
        "  0.65    6.000    6.000\n",
        "  0.66    6.000    6.000\n",
        "  0.67    6.000    6.000\n",
        "  0.68    6.000    6.000\n",
        "  0.69    6.000    6.000"
       ]
      },
      {
       "output_type": "stream",
       "stream": "stdout",
       "text": [
        "\n",
        "  0.70    6.000    6.000\n",
        "  0.71    6.000    6.000\n",
        "  0.72    6.000    6.000\n",
        "  0.73    6.000    6.000\n",
        "  0.74    6.000    6.000\n",
        "  0.75    6.000    6.000\n",
        "  0.76    6.000    6.000\n",
        "  0.77    6.000    6.000\n",
        "  0.78    6.000    6.000\n",
        "  0.79    6.097    6.097\n",
        "  0.80    6.600    6.600\n",
        "  0.81    7.207    7.207\n",
        "  0.82    8.213    8.213\n",
        "  0.83    9.110    9.110\n",
        "  0.84    9.613    9.613\n",
        "  0.85   10.117   10.117\n",
        "  0.86   10.620   10.620\n",
        "  0.87   11.000   11.000\n",
        "  0.88   11.000   11.000\n",
        "  0.89   11.000   11.000\n",
        "  0.90   11.000   11.000\n",
        "  0.91   11.273   11.273\n",
        "  0.92   12.280   12.280\n",
        "  0.93   13.000   13.000\n",
        "  0.94   13.000   13.000\n",
        "  0.95   13.300   13.300\n",
        "  0.96   14.307   14.307\n",
        "  0.97   16.567   16.567\n",
        "  0.98   21.600   21.600\n",
        "  0.99   25.000   25.000\n"
       ]
      }
     ],
     "prompt_number": 211
    }
   ],
   "metadata": {}
  }
 ]
}