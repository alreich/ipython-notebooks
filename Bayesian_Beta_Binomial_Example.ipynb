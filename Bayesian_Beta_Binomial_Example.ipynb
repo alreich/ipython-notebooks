{
 "cells": [
  {
   "cell_type": "markdown",
   "metadata": {},
   "source": [
    "# Bayesian Data Analysis"
   ]
  },
  {
   "cell_type": "markdown",
   "metadata": {},
   "source": [
    "Put intro here..."
   ]
  },
  {
   "cell_type": "markdown",
   "metadata": {},
   "source": [
    "## Approaches to Data Analysis\n",
    "\n",
    "><i>\"All models are wrong, but some are useful\"</i> -- George Box\n",
    "\n",
    "### 1. Exploratory\n",
    "><p>Descriptive statistics without any probabilistic assumptions\n",
    "><p>Examples include: Average, Median, Quantiles, Range, Variance, Minimum/Maximum, Histogram, and various other plots and charts\n",
    "\n",
    "### 2. Frequentist\n",
    "><p>Assumes a probability model with a fixed, deterministic parameter</p>\n",
    "><p>$X \\sim F(x;\\theta)$</p>\n",
    "><p>(quantities can be scalars or vectors)</p>\n",
    "\n",
    "### 3. Bayesian\n",
    "><p>Assumes a probability model with a random parameter that has its own model</p>\n",
    "><p>$X \\sim F(x;\\Theta)$ called the \"Likelihood Distribution\"</p>\n",
    "><p>$\\Theta \\sim G(\\theta;\\gamma)$ called the \"Prior Distribution\"</p>\n",
    "><p>$\\gamma$ is called a \"hyperparameter\" and is usually deterministic</p>\n",
    "\n",
    "To make inferences about a model, Frequentist or Bayesian, it is necessary to estimate the parameter (scalar or vector) of the model, $\\theta$.  In the Frequentist case, the Maximum Likelihood Estimate (MLE) is typically derived. It's a \"point\" estimate (scalar or vector).  For the Bayesian case, the conditional probability distribution of "
   ]
  },
  {
   "cell_type": "markdown",
   "metadata": {},
   "source": [
    "## Beta-Binomial Example"
   ]
  },
  {
   "cell_type": "markdown",
   "metadata": {},
   "source": [
    "For the <i>Likelihood</i> and <i>Prior</i> distributions, below, the <i>Posterior</i> distribution can be derived analytically. In fact, the Prior and Posterior are from the same family of distributions, the Beta distribution.  When this occurs, we say that the prior and posterior are <i>conjugate distributions</i>."
   ]
  },
  {
   "cell_type": "markdown",
   "metadata": {},
   "source": [
    "### The Data"
   ]
  },
  {
   "cell_type": "markdown",
   "metadata": {},
   "source": [
    "Assume that we've conducted $n$ binomial trials with an unknown probability of success, $\\theta$, and that we've observed $k_{obs}$ successes:"
   ]
  },
  {
   "cell_type": "code",
   "execution_count": 2,
   "metadata": {},
   "outputs": [],
   "source": [
    "n = 20  # Number of trials\n",
    "k_obs = 6  # Number of observed successes in n trials"
   ]
  },
  {
   "cell_type": "markdown",
   "metadata": {},
   "source": [
    "### The Bayesian Beta-Binomial Model"
   ]
  },
  {
   "cell_type": "markdown",
   "metadata": {},
   "source": [
    "#### Likelihood:\n",
    ">Probabilistic model of the data\n",
    "><p>$K \\sim Binomial_n(k;\\Theta) \\equiv \\binom{n}{k} \\Theta^k(1-\\Theta)^{n-k}$</p>\n",
    "\n",
    "#### Prior:\n",
    ">Probabilistic model of the likelihood model parameter(s)\n",
    "><p>$\\Theta \\sim Beta(\\theta; \\alpha, \\beta) \\equiv \\frac{\\Gamma(\\alpha)\\Gamma(\\beta)}{\\Gamma(\\alpha + \\beta)} \\theta^{\\alpha - 1} (1-\\theta)^{\\beta - 1}$</p>\n",
    "><p>For this example, assume $\\Theta \\sim Beta(1, 1)$, which is equivalent to the uniform distribution:\n",
    "><p>$Beta(1,1) \\equiv U(0,1)$</p>\n",
    "\n",
    "#### Posterior\n",
    ">Probabilistic model of the parameter(s), given the observed data\n",
    "><p>According to Bayes Theorem, <b>Posterior $\\propto$ Likelihood $\\times$ Prior</b>\n",
    "><p>So, after some algebraic manipulation we have,\n",
    "><p>$(\\Theta \\mid K=k) \\sim Beta(\\theta; \\alpha+k, \\beta+n-k)$</p>"
   ]
  },
  {
   "cell_type": "markdown",
   "metadata": {},
   "source": [
    "Often, simulation is required to obtain an approximation to the posterior distribution. For the Beta-Binomial model that is not necessary, however, since we have an analytical expression for the posterior probability density, as shown above.\n",
    "\n",
    "So, for the data provided above we have:\n",
    "><p>$(\\Theta \\mid K=k_{obs}) \\sim Beta(\\theta; 1+k_{obs}, 1+n-k_{obs})$</p>\n",
    "\n",
    "The posterior PDF is plotted below."
   ]
  },
  {
   "cell_type": "code",
   "execution_count": 5,
   "metadata": {},
   "outputs": [],
   "source": [
    "from scipy.stats import uniform, binom, beta\n",
    "import numpy as np\n",
    "import matplotlib.pyplot as plt\n",
    "%matplotlib inline"
   ]
  },
  {
   "cell_type": "code",
   "execution_count": 11,
   "metadata": {},
   "outputs": [
    {
     "data": {
      "image/png": "[encoded data removed]",
      "text/plain": [
       "<Figure size 800x400 with 1 Axes>"
      ]
     },
     "metadata": {},
     "output_type": "display_data"
    }
   ],
   "source": [
    "beta_parameters = (1+k_obs, 1+n-k_obs)\n",
    "\n",
    "x = np.linspace(beta.ppf(0.001, *beta_parameters), beta.ppf(0.999, *beta_parameters), 100)\n",
    "fig=plt.figure(figsize=(10, 5), dpi= 80, facecolor='w', edgecolor='k')\n",
    "#plt.xlabel(r\"$\\theta | K = k_{obs}$\")\n",
    "plt.xlabel(r\"$\\theta | K = $\" + f\"{k_obs}\")\n",
    "#plt.title(f\"Beta({1+k_obs}, {1+n-k_obs}) PDF\")\n",
    "plt.title(f\"Beta{beta_parameters} PDF\")\n",
    "plt.xlim(0.0, 1.0)\n",
    "plt.ylim(0.0, 4.3)\n",
    "_ = plt.plot(x, beta.pdf(x, *beta_parameters), 'r-', lw=3, alpha=0.6)"
   ]
  },
  {
   "cell_type": "markdown",
   "metadata": {},
   "source": [
    "## Calculating the Posterior by Simulation"
   ]
  },
  {
   "cell_type": "markdown",
   "metadata": {},
   "source": [
    "The following provides a very simple approach (no MCMC) to computing the posterior PDF using simulation."
   ]
  },
  {
   "cell_type": "code",
   "execution_count": 7,
   "metadata": {},
   "outputs": [
    {
     "name": "stdout",
     "output_type": "stream",
     "text": [
      "CPU times: user 18.1 s, sys: 140 ms, total: 18.3 s\n",
      "Wall time: 17.7 s\n",
      "\n",
      "There were 23662 matches out of 500000 priors. (Only 4.7% matched)\n"
     ]
    }
   ],
   "source": [
    "m = 500_000  # Number of priors\n",
    "\n",
    "priors = uniform.rvs(size=m)\n",
    "%time posteriors = [theta for theta in priors if binom.rvs(n, theta)==k_obs]\n",
    "\n",
    "print(f\"\\nThere were {len(posteriors)} matches out of {m} priors. (Only {100*len(posteriors)/m:0.2}% matched)\")"
   ]
  },
  {
   "cell_type": "code",
   "execution_count": 15,
   "metadata": {},
   "outputs": [
    {
     "data": {
      "image/png": "[encoded data removed]",
      "text/plain": [
       "<Figure size 800x400 with 1 Axes>"
      ]
     },
     "metadata": {},
     "output_type": "display_data"
    }
   ],
   "source": [
    "hbins = 25\n",
    "fig=plt.figure(figsize=(10, 5), dpi= 80, facecolor='w', edgecolor='k')\n",
    "plt.xlabel(r\"$\\theta | K = k_{obs}$\")\n",
    "plt.title(f\"Posteriors List Histogram (blue) with exact Beta PDF (red)\")\n",
    "plt.plot(x, beta.pdf(x, *beta_parameters), 'r-', lw=3, alpha=0.6)\n",
    "_ = plt.hist(posteriors, bins=hbins, density=True, range=[0.0, 1.0], alpha=0.5)"
   ]
  },
  {
   "cell_type": "code",
   "execution_count": 1,
   "metadata": {},
   "outputs": [
    {
     "data": {
      "text/html": [
       "<style>\n",
       "    @font-face {\n",
       "        font-family: \"Computer Modern\";\n",
       "        src: url('http://9dbb143991406a7c655e-aa5fcb0a5a4ec34cff238a2d56ca4144.r56.cf5.rackcdn.com/cmunss.otf');\n",
       "    }\n",
       "    @font-face {\n",
       "        font-family: \"Computer Modern\";\n",
       "        font-weight: bold;\n",
       "        src: url('http://9dbb143991406a7c655e-aa5fcb0a5a4ec34cff238a2d56ca4144.r56.cf5.rackcdn.com/cmunsx.otf');\n",
       "    }\n",
       "    @font-face {\n",
       "        font-family: \"Computer Modern\";\n",
       "        font-style: oblique;\n",
       "        src: url('http://9dbb143991406a7c655e-aa5fcb0a5a4ec34cff238a2d56ca4144.r56.cf5.rackcdn.com/cmunsi.otf');\n",
       "    }\n",
       "    @font-face {\n",
       "        font-family: \"Computer Modern\";\n",
       "        font-weight: bold;\n",
       "        font-style: oblique;\n",
       "        src: url('http://9dbb143991406a7c655e-aa5fcb0a5a4ec34cff238a2d56ca4144.r56.cf5.rackcdn.com/cmunso.otf');\n",
       "    }\n",
       "    div.cell{\n",
       "        width:800px;\n",
       "        margin-left:8% !important;\n",
       "        margin-right:auto;\n",
       "    }\n",
       "    h1 {\n",
       "        font-family: Helvetica, serif;\n",
       "    }\n",
       "    h4{\n",
       "        margin-top:12px;\n",
       "        margin-bottom: 3px;\n",
       "       }\n",
       "    div.text_cell_render{\n",
       "        font-family: Computer Modern, \"Helvetica Neue\", Arial, Helvetica, Geneva, sans-serif;\n",
       "        line-height: 145%;\n",
       "        font-size: 130%;\n",
       "        width:800px;\n",
       "        margin-left:auto;\n",
       "        margin-right:auto;\n",
       "    }\n",
       "    .CodeMirror{\n",
       "            font-family: \"Source Code Pro\", source-code-pro,Consolas, monospace;\n",
       "    }\n",
       "    .prompt{\n",
       "        display: None;\n",
       "    }\n",
       "    .text_cell_render h5 {\n",
       "        font-weight: 300;\n",
       "        font-size: 22pt;\n",
       "        color: #4057A1;\n",
       "        font-style: italic;\n",
       "        margin-bottom: .5em;\n",
       "        margin-top: 0.5em;\n",
       "        display: block;\n",
       "    }\n",
       "    \n",
       "    .warning{\n",
       "        color: rgb( 240, 20, 20 )\n",
       "        }  \n",
       "</style>\n",
       "<script>\n",
       "    MathJax.Hub.Config({\n",
       "                        TeX: {\n",
       "                           extensions: [\"AMSmath.js\"]\n",
       "                           },\n",
       "                tex2jax: {\n",
       "                    inlineMath: [ ['$','$'], [\"\\\\(\",\"\\\\)\"] ],\n",
       "                    displayMath: [ ['$$','$$'], [\"\\\\[\",\"\\\\]\"] ]\n",
       "                },\n",
       "                displayAlign: 'center', // Change this to 'center' to center equations.\n",
       "                \"HTML-CSS\": {\n",
       "                    styles: {'.MathJax_Display': {\"margin\": 4}}\n",
       "                }\n",
       "        });\n",
       "</script>\n"
      ],
      "text/plain": [
       "<IPython.core.display.HTML object>"
      ]
     },
     "execution_count": 1,
     "metadata": {},
     "output_type": "execute_result"
    }
   ],
   "source": [
    "from IPython.core.display import HTML\n",
    "\n",
    "def css_styling():\n",
    "    styles = open(\"styles/custom.css\", \"r\").read()\n",
    "    return HTML(styles)\n",
    "css_styling()"
   ]
  }
 ],
 "metadata": {
  "kernelspec": {
   "display_name": "Python 3",
   "language": "python",
   "name": "python3"
  },
  "language_info": {
   "codemirror_mode": {
    "name": "ipython",
    "version": 3
   },
   "file_extension": ".py",
   "mimetype": "text/x-python",
   "name": "python",
   "nbconvert_exporter": "python",
   "pygments_lexer": "ipython3",
   "version": "3.7.4"
  }
 },
 "nbformat": 4,
 "nbformat_minor": 4
}
