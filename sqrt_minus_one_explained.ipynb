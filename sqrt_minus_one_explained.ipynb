{
 "cells": [
  {
   "cell_type": "markdown",
   "id": "718c854c",
   "metadata": {},
   "source": [
    "# $\\sqrt{-1}$ Explained"
   ]
  },
  {
   "cell_type": "markdown",
   "id": "8b959a28",
   "metadata": {},
   "source": [
    "A **complex number** is an ordered pair, (a, b), where $a$ and $b$ are real numbers. The set of all real numbers is denoted by $\\mathbb{R}$, and the set of all complex numbers by $\\mathbb{C}$. Addition and multiplication of complex numbers are well-defined, and always produce another complex number:\n",
    "\n",
    "$$\\begin{align}\n",
    "(a,b) + (c, d) &= (a + c, b + d) \\\\\n",
    "(a, b) \\cdot (c, d) &= ( ac - bd,\\ ad + bc )\n",
    "\\end{align}$$\n",
    "\n",
    "Subtraction and division in $\\mathbb{C}$ are also well defined, but not shown here.\n",
    "\n",
    "The subset of $\\mathbb{C}$, where the second component is always zero, such as $(a, 0)$, is called the *real-axis*, and is denoted by $\\mathcal{Re}$. The naming is due to the fact that, with respect to the first components, the arithmetic of elements of $\\mathcal{Re}$ corresponds to that of $\\mathbb{R}$, as shown below:\n",
    "\n",
    "$$\\begin{align}\n",
    "(a, 0) + (c, 0) &= (a + c, 0) \\\\\n",
    "(a, 0) \\cdot (c, 0) &= (ac, 0)\n",
    "\\end{align}$$\n",
    "\n",
    "So, for any real number $a$, there is a corresponding complex number $(a, 0)$, and vice versa, denoted here as, $a \\sim (a,0)$.\n",
    "\n",
    "In particular, $-1 \\sim (-1, 0)$. And, although $\\sqrt{-1}$ does **not** exist in $\\mathbb{R}$, $\\sqrt{( -1, 0 )}$ **does** exist in $\\mathbb{C}$, and equals $( 0, 1 )$, as shown by the calculation below:\n",
    "\n",
    "$$\\begin{align}\n",
    "{( 0, 1 )}^2 &= ( 0, 1 ) \\cdot ( 0, 1 ) \\\\\n",
    "&= ( 0 \\cdot 0 - 1 \\cdot 1,\\ 0 \\cdot 1 + 1 \\cdot 0 ) \\\\\n",
    "&= ( -1, 0 ) \\\\\n",
    "\\\\\n",
    "\\text{so, }( 0, 1 ) &= \\sqrt{( -1, 0 )}\n",
    "\\end{align}$$\n",
    "\n",
    "$( 0, 1 )$ is usually denoted by $i$, and sometimes $j$. That is, $i = (0, 1) = \\sqrt{(-1, 0)}$. Despite this, you will almost always see it written, informally, as $i = \\sqrt{-1}$."
   ]
  }
 ],
 "metadata": {
  "kernelspec": {
   "display_name": "Python 3 (ipykernel)",
   "language": "python",
   "name": "python3"
  },
  "language_info": {
   "codemirror_mode": {
    "name": "ipython",
    "version": 3
   },
   "file_extension": ".py",
   "mimetype": "text/x-python",
   "name": "python",
   "nbconvert_exporter": "python",
   "pygments_lexer": "ipython3",
   "version": "3.11.5"
  }
 },
 "nbformat": 4,
 "nbformat_minor": 5
}
