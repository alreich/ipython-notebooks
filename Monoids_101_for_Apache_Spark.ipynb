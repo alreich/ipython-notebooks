{
 "cells": [
  {
   "cell_type": "markdown",
   "metadata": {},
   "source": [
    "# MONOIDS 101 FOR APACHE SPARK"
   ]
  },
  {
   "cell_type": "markdown",
   "metadata": {},
   "source": [
    "<i>by Alfred J. Reich</i>"
   ]
  },
  {
   "cell_type": "markdown",
   "metadata": {},
   "source": [
    "Version 3.0"
   ]
  },
  {
   "cell_type": "markdown",
   "metadata": {},
   "source": [
    "This notebook describes what monoids are and the role they play in <i>reduction</i> and <i>aggregation</i> in Spark, specifically PySpark.\n",
    "\n",
    "The following types of examples are included here, using <b>reduce</b> and <b>reduceByKey</b> to illustrate the use of the monoid concept:\n",
    "* Word count\n",
    "* <b>Max/Min</b> as monoids\n",
    "* <b>Histogram</b> Calculation using Vectors as Monoids\n",
    "* Calculating <b>Sample Means and Standard Deviations</b>\n",
    "* Calculating <b>Covariances and Correlations</b> using Vectors and Matrices as Monoids\n",
    "* <b>Sets</b> as monoids\n",
    "* A <b>HyperLogLog</b> monoid (a <i>Sketch Method</i> for approximating set cardinality)"
   ]
  },
  {
   "cell_type": "markdown",
   "metadata": {},
   "source": [
    "### Notebook Compatibility and Dependencies"
   ]
  },
  {
   "cell_type": "markdown",
   "metadata": {},
   "source": [
    "Someday, hopefully, the code here will be compatible with both Python 2 and 3, but right now it has only been tested using Python 2.7"
   ]
  },
  {
   "cell_type": "raw",
   "metadata": {
    "collapsed": true
   },
   "source": [
    "from __future__ import absolute_import, division, print_function, unicode_literals"
   ]
  },
  {
   "cell_type": "markdown",
   "metadata": {},
   "source": [
    "Additional imports appear below, together with the code that requires them."
   ]
  },
  {
   "cell_type": "markdown",
   "metadata": {},
   "source": [
    "### Setup PySpark Context"
   ]
  },
  {
   "cell_type": "markdown",
   "metadata": {},
   "source": [
    "For this notebook Spark is assumed to be installed in standalone mode.\n",
    "\n",
    "Startup IPython Notebook in a terminal window with this command:\n",
    "\n",
    "<i>IPYTHON=1 IPYTHON_OPTS=\"notebook --pylab inline\" pyspark</i>"
   ]
  },
  {
   "cell_type": "raw",
   "metadata": {},
   "source": [
    "from pyspark.context import SparkContext\n",
    "print('Running Spark Version {}'.format(sc.version))\n",
    "\n",
    "from pyspark.conf import SparkConf\n",
    "conf = SparkConf()\n",
    "print(conf.toDebugString())"
   ]
  },
  {
   "cell_type": "code",
   "execution_count": 1,
   "metadata": {},
   "outputs": [],
   "source": [
    "from pyspark import SparkContext, SparkConf\n",
    "from pyspark.sql import SparkSession\n",
    "\n",
    "conf = SparkConf().setAppName('appName').setMaster('local')\n",
    "sc = SparkContext(conf=conf)\n",
    "spark = SparkSession(sc)"
   ]
  },
  {
   "cell_type": "markdown",
   "metadata": {},
   "source": [
    "## Reduction and Aggregation in Spark"
   ]
  },
  {
   "cell_type": "markdown",
   "metadata": {},
   "source": [
    "Reduction and aggregration in Spark require that certain conditions be met with respect to the elements and operator being used to reduce or aggregate.\n",
    "\n",
    "An essential condition is that, if $\\oplus$ is a binary reduction/aggregation operator in Spark, and A and B are elements of type $T$, then A $\\oplus$ B should also be of type $T$.\n",
    "\n",
    "Sometimes Spark also requires that we specify an <i>identity element</i>, called \"zero value\" in the Spark documentation, and denoted here by $\\underline{0}$.  That is, $A \\oplus \\underline{0} = \\underline{0} \\oplus A = A$.\n",
    "\n",
    "These conditions coincide with the attributes of an algebraic structure called <i>monoid</i>."
   ]
  },
  {
   "cell_type": "markdown",
   "metadata": {},
   "source": [
    "## Monoid Definition"
   ]
  },
  {
   "cell_type": "markdown",
   "metadata": {},
   "source": [
    "<i>\"A monoid is an algebraic structure with a single associative binary operation and an identity element.\"</i> [Wikipedia](http://en.wikipedia.org/wiki/Monoid)"
   ]
  },
  {
   "cell_type": "markdown",
   "metadata": {},
   "source": [
    "So, $\\mathcal{M} = (S, \\oplus, \\underline{0})$ is a <b>monoid</b>, if...\n",
    "* $S$ is a <b>non-empty set</b>\n",
    "* $\\oplus$ is a <b>closed, binary operator</b> on elements of $S$; that is, $a,b \\in S \\implies a \\oplus b \\in S$\n",
    "* $\\oplus$ is <b>associative</b>; that is, $a,b,c \\in S \\implies (a \\oplus b) \\oplus c = a \\oplus (b \\oplus c)$\n",
    "* There is an <b>identity element</b>, $\\underline{0}$, in $S$; that is, $\\exists \\underline{0} \\in S$ such that $a \\in S \\implies a \\oplus \\underline{0} = \\underline{0} \\oplus a = a$."
   ]
  },
  {
   "cell_type": "markdown",
   "metadata": {},
   "source": [
    "So, a monoid is almost a <b>group</b>.  All that is lacking is the requirement that each element of $S$ also have an inverse element in $S$.  This means that all groups are also monoids."
   ]
  },
  {
   "cell_type": "markdown",
   "metadata": {},
   "source": [
    "### Some additional considerations"
   ]
  },
  {
   "cell_type": "markdown",
   "metadata": {},
   "source": [
    "#### Commutative Monoids"
   ]
  },
  {
   "cell_type": "markdown",
   "metadata": {},
   "source": [
    "By default, a monoid is not commutative.  That is, $a,b \\in S \\nRightarrow a \\oplus b = b \\oplus a$.\n",
    "\n",
    "In a parallel processing environment <i>associativity</i> is needed because we do not want aggregation results to depend on the order in which elements are combined.  For the same reason, <i>commutativity</i> may also be a desirable property to have. In which case, we will want to have a <b>commutative monoid</b> (also called an <b>abelian monoid</b>).\n",
    "\n",
    "Commutativity might <u>not</u> be desirable, however, for example, in monoids that contain time ordered elements. (For a bit more see the very brief discussion on commutativity in monoids during the Q/A session at [this workshop on functional programming](http://www.syslog.cl.cam.ac.uk/2013/09/22/liveblogging-cufp--2013/).)\n",
    "\n",
    "<i><b><u>Rule of Thumb</u>:</b> Unless your use case specifically requires non-commutativity, try to make your monoid commutative.</i>"
   ]
  },
  {
   "cell_type": "markdown",
   "metadata": {},
   "source": [
    "#### Mutability of Monoid Elements"
   ]
  },
  {
   "cell_type": "markdown",
   "metadata": {},
   "source": [
    "To a mathematician, the result of $a \\oplus b$ is another unique element in $S$ (unless either $a$ or $b$ is the identity element).  Neither $a$ nor $b$ changes when we sum them.\n",
    "\n",
    "In a programming environment, however, this might be written as the expression <b>A + B</b> (where the '+' operator is overloaded) and the result returned is a modified version of <b>A</b> or <b>B</b>.  For Spark's <i>fold</i> and <i>aggregate</i> operators this is OK as long as the only value that changed is the one on the <u>left</u>, <b>A</b>.\n",
    "\n",
    "<i><b><u>Rule of Thumb</u>:</b> Avoid mutation if possible, but if you can't (or don't want to because of efficiency) make sure that only the 'left' element in a binary expression is mutated.</i>"
   ]
  },
  {
   "cell_type": "markdown",
   "metadata": {},
   "source": [
    "#### Identity Element"
   ]
  },
  {
   "cell_type": "markdown",
   "metadata": {},
   "source": [
    "All monoids have an identity element, but it is not always needed in Spark:\n",
    "* The RDD methods for reducing (e.g., <b>reduce</b>, <b>reduceByKey</b>) do not explicitly require the identity element\n",
    "* The RDD methods for <b>folding</b>, <b>aggregating</b>, and <b>accumulating</b> do require the identity element\n",
    "\n",
    "<i><b><u>Rule of Thumb</u>:</b> Even if you don't need to explicitly create an identity element (\"zero value\") for your application, take a moment to consider what it would look like if you did. If you can't visualize it, perhaps your data structure is not really a monoid.</i>"
   ]
  },
  {
   "cell_type": "markdown",
   "metadata": {},
   "source": [
    "# EXAMPLES"
   ]
  },
  {
   "cell_type": "markdown",
   "metadata": {},
   "source": [
    "All of the examples here use the text of [<i>\"Moby Dick\"</i> at Project Gutenberg](http://www.gutenberg.org/cache/epub/2701/pg2701.txt). Also, the metadata/notes at the beginning and end of Project Gutenberg's \"Moby Dick\" text file were removed.  The file is not included with this notebook.  If you want to \"run\" this notebook, you'll need to first obtain the text file for \"Moby Dick\" (or some other text)."
   ]
  },
  {
   "cell_type": "markdown",
   "metadata": {},
   "source": [
    "## Numbers as Monoids"
   ]
  },
  {
   "cell_type": "markdown",
   "metadata": {},
   "source": [
    "Let $\\mathbb{R}$ and $\\mathbb{Z}$ denote the real numbers and integers, respectively, then $(\\mathbb{R}, +, 0)$, $(\\mathbb{R}, \\times, 1)$, $(\\mathbb{Z}, +, 0)$, and $(\\mathbb{Z}, \\times, 1)$ are commutative monoids.  (All but the last one are also groups.)"
   ]
  },
  {
   "cell_type": "markdown",
   "metadata": {},
   "source": [
    "### Example 1: Word Count"
   ]
  },
  {
   "cell_type": "markdown",
   "metadata": {},
   "source": [
    "This is the classic use case for parallel aggregation in Spark (and Map-Reduce). It implicitly uses the monoid, $(\\mathbb{Z}, +, 0)$ by first associating each word, $w$, to the number 1, in the form of a key-value pair, ($w$, 1).  Then, the pairs are aggregated by key, $w$, using the RDD operation, <i>reduceByKey</i>.  The number 1 is the monoid element, and so are the intermediate and final sums generated by <i>reduceByKey</i>."
   ]
  },
  {
   "cell_type": "code",
   "execution_count": 2,
   "metadata": {},
   "outputs": [
    {
     "name": "stdout",
     "output_type": "stream",
     "text": [
      "[('carries', 16), ('blue', 45), ('putting', 16), ('however', 94), ('tormented', 14), ('another', 114), ('telling', 19), ('anybody', 10), ('tomahawk', 19), ('running', 46), ('probably', 13), ('venerable', 10), ('beat', 25), ('touched', 13), ('fit', 16), ('dare', 15), ('waist', 11), ('officers', 20), ('outs', 12), ('oars', 39)]\n"
     ]
    }
   ],
   "source": [
    "import re  # Use regular expressions to do a tiny bit of \"data cleaning\"\n",
    "\n",
    "book_title = \"Moby Dick\"\n",
    "#book_path = \"../Data/moby_dick.txt\"  # See note about Project Gutenberg above\n",
    "book_path = \"/Users/alfredreich/Documents/Datasets/moby_dick.txt\"\n",
    "\n",
    "# Remove blank lines, non-ascii chars, (some) punctuation and then split into lowercase words:\n",
    "words = sc.textFile(book_path)\\\n",
    "          .filter(lambda line: len(line) > 0 )\\\n",
    "          .map(lambda line: re.sub(r'[^\\x41-\\x7A]+',' ', line).lower())\\\n",
    "          .flatMap(lambda line: line.split())\n",
    "\n",
    "# The monoid concept is used here implicitly:\n",
    "counts = words.map(lambda word: (word, 1))\\\n",
    "              .reduceByKey(lambda count1, count2: count1 + count2)\n",
    "\n",
    "# Look at the result by sampling some words from the 'middle' of the counts:\n",
    "counts_sample = counts.filter(lambda tup: 10 <= tup[1] <= 500).sample(False, 0.01).collect()\n",
    "print(counts_sample)"
   ]
  },
  {
   "cell_type": "markdown",
   "metadata": {},
   "source": [
    "### Example 2: Min & Max as Monoid Operators"
   ]
  },
  {
   "cell_type": "markdown",
   "metadata": {},
   "source": [
    "$(S, min, sup(S))$ and $(S, max, inf(S))$ are commutative monoids, where <i>inf</i> & <i>sup</i> are the [infimum and supremum](http://en.wikipedia.org/wiki/Infimum_and_supremum), resp.\n",
    "\n",
    "We can find the minimum and maximum word lengths for the example, above, as follows:"
   ]
  },
  {
   "cell_type": "code",
   "execution_count": 3,
   "metadata": {},
   "outputs": [
    {
     "name": "stdout",
     "output_type": "stream",
     "text": [
      "The minimum and maximum word lengths in \"Moby Dick\" are 1 and 20, resp.\n"
     ]
    }
   ],
   "source": [
    "min_max = words.map(lambda word: (len(word), len(word)))\\\n",
    "               .reduce(lambda pair1, pair2: (min(pair1[0], pair2[0]), \n",
    "                                             max(pair1[1], pair2[1])))\n",
    "    \n",
    "message = 'The minimum and maximum word lengths in \"{0}\" are {1} and {2}, resp.'\n",
    "print(message.format(book_title, min_max[0], min_max[1]))"
   ]
  },
  {
   "cell_type": "markdown",
   "metadata": {},
   "source": [
    "Note that:\n",
    "* The identity elements were not specified above.\n",
    "* Also, the values do not need to be numbers.  They can be any type of quantity that can be ordered, such as <i>Datetimes</i>."
   ]
  },
  {
   "cell_type": "markdown",
   "metadata": {},
   "source": [
    "## Vector & Array Monoids"
   ]
  },
  {
   "cell_type": "markdown",
   "metadata": {},
   "source": [
    "Let $\\mathcal{V}$ be an n-dimensional vector or tuple over a collection of monoids, $\\mathcal{M}_1, \\mathcal{M}_2, ... \\mathcal{M}_n$, with elementwise operator $\\oplus = (\\oplus_1, \\oplus_2, ..., \\oplus_n)$.\n",
    "\n",
    "That is, $V(m_1, m_2, ..., m_n) \\in \\mathcal{V}$ where $m_i \\in S_i$, $\\mathcal{M_i} = (S_i, \\oplus_i, \\underline{0}_i)$, and i = 1, ..., n."
   ]
  },
  {
   "cell_type": "markdown",
   "metadata": {},
   "source": [
    "### Example 3: Histogram Calculation"
   ]
  },
  {
   "cell_type": "markdown",
   "metadata": {},
   "source": [
    "This example uses vectors of integers.  In the notation above, $\\mathcal{M}_i = (\\mathbb{Z}, +, 0)$ for $i = 1, ..., n$.\n",
    "\n",
    "The [NumPy histogram operator](http://docs.scipy.org/doc/numpy/reference/generated/numpy.histogram.html) takes a set of data and a binning specification and returns multiple values, the first of which is a 1-dimensional array (vector) representing the histogram.\n",
    "\n",
    "If we <b>only input <u>one</u> value</b>, then an array of zeros with a single 1 somewhere in it will be returned. This is illustrated in the cell, below:"
   ]
  },
  {
   "cell_type": "code",
   "execution_count": 4,
   "metadata": {},
   "outputs": [
    {
     "name": "stdout",
     "output_type": "stream",
     "text": [
      "Word length histogram for the single word, \"whale\": [0 0 0 0 1 0 0 0 0 0 0 0 0 0 0 0 0 0 0 0]\n"
     ]
    }
   ],
   "source": [
    "import numpy as np\n",
    "bins = range(1, min_max[1] + 2)  # min_max[1] is the maximum word length calculated above\n",
    "example_one_word_histogram = np.histogram(len('whale'), bins)[0]\n",
    "print('Word length histogram for the single word, \"whale\": {}'.format(example_one_word_histogram))"
   ]
  },
  {
   "cell_type": "markdown",
   "metadata": {},
   "source": [
    "Now, if we do what was done above for each of the words in the RDD, <i>words</i>, computed earlier, and then sum up (reduce) the arrays returned, we will obtain a histogram of word lenths:"
   ]
  },
  {
   "cell_type": "code",
   "execution_count": 5,
   "metadata": {},
   "outputs": [],
   "source": [
    "hist = words.map(lambda word: np.histogram(len(word), bins)[0])\\\n",
    "            .reduce(lambda hist1, hist2: hist1 + hist2)"
   ]
  },
  {
   "cell_type": "markdown",
   "metadata": {},
   "source": [
    "Here's a plot of the result:"
   ]
  },
  {
   "cell_type": "code",
   "execution_count": 8,
   "metadata": {},
   "outputs": [
    {
     "data": {
      "text/plain": [
       "<BarContainer object of 20 artists>"
      ]
     },
     "execution_count": 8,
     "metadata": {},
     "output_type": "execute_result"
    },
    {
     "data": {
      "image/png": "[encoded data removed]",
      "text/plain": [
       "<Figure size 432x288 with 1 Axes>"
      ]
     },
     "metadata": {
      "needs_background": "light"
     },
     "output_type": "display_data"
    }
   ],
   "source": [
    "%matplotlib inline\n",
    "import matplotlib.pyplot as plt\n",
    "\n",
    "fig1 = plt.figure()\n",
    "ax1 = fig1.add_subplot(111)\n",
    "ax1.set_title('Word Length Histogram for \"' + book_title + '\"')\n",
    "ax1.set_xlabel('Word Length')\n",
    "ax1.set_ylabel('Number of Words')\n",
    "ax1.bar(bins[:-1], hist, color='LightBlue')"
   ]
  },
  {
   "cell_type": "markdown",
   "metadata": {},
   "source": [
    "## Statistical Calculations"
   ]
  },
  {
   "cell_type": "markdown",
   "metadata": {},
   "source": [
    "Some basic statistics can be obtained by simply maintaining a running sum of values (via reduce/aggregate), such as counts ($\\sum 1$ = N = sample size), sums of observations ($\\sum x_i$), sums of squares of observations ($\\sum x_i^2$), or sums of crossproducts ($\\sum x_iy_i$).  These sums can be used to compute means, variances, standard deviations, covariances, and correlations of numerical quantities.  This is illustrated in the next two examples."
   ]
  },
  {
   "cell_type": "markdown",
   "metadata": {},
   "source": [
    "### Example 4: Calculating Sample Means and Standard Deviations"
   ]
  },
  {
   "cell_type": "markdown",
   "metadata": {},
   "source": [
    "First, define two functions that will be passed to the PySpark RDD operators, <i>reduceByKey</i> and <i>mapValues</i>."
   ]
  },
  {
   "cell_type": "code",
   "execution_count": 9,
   "metadata": {},
   "outputs": [],
   "source": [
    "from math import sqrt\n",
    "\n",
    "def reduce_values(val1, val2):\n",
    "    '''Reduce two triples to a single triple.'''\n",
    "    (n1, sum1, sumsqr1) = val1\n",
    "    (n2, sum2, sumsqr2) = val2\n",
    "    return (n1 + n2, sum1 + sum2, sumsqr1 + sumsqr2)\n",
    "\n",
    "def calc_mean_stddev(tup):\n",
    "    '''Take a triple of sums and return a triple of statistics.'''\n",
    "    (n, sum_, sumsqr) = tup  # triple of sums\n",
    "    if n == 0:\n",
    "        mean = 0.0\n",
    "        stddev = 0.0\n",
    "    elif n == 1:\n",
    "        mean = sum_\n",
    "        stddev = 0.0\n",
    "    else:\n",
    "        mean = float(sum_) / n\n",
    "        samplevar = (float(sumsqr) - (n * mean * mean)) / (n - 1)\n",
    "        if samplevar < 0.0:  # Theoretically impossible, but possible w/ floating point\n",
    "            stddev = 0.0\n",
    "        else:\n",
    "            stddev = sqrt(samplevar)\n",
    "    return (n, mean, stddev)  # triple of statistics"
   ]
  },
  {
   "cell_type": "markdown",
   "metadata": {},
   "source": [
    "Now, for each word, $w_i$, in the text, if we let $w^0_i$ be the first letter of the word and and $|w_i|$ be the length of the word, then the PySpark operations in the <i>map</i> operation below will form the key-value pair, ($w^0_i$, (1, $|w_i|$, $|w_i|^2$)) -- Note that the <i>value</i> part of the key-value pair is a triple.\n",
    "\n",
    "Then, when <i>reduce_values</i>, defined above, is passed to <i>reduceByKey</i> it will compute ($w^0_i$, (N, $\\sum|w_i|$, $\\sum|w_i|^2$)), where N is the number of words that start with the letter $w^0_i$.\n",
    "\n",
    "Finally, <i>calc_mean_stddev</i> is passed to <i>mapValues</i> in order to turn the value part of each tuple, (N, $\\sum|w_i|$, $\\sum|w_i|^2$), into (N, $\\overline{w}$, $\\sqrt{Var(w)}$), where $\\overline{w}$ is the average length of words that start with letter $w^0_i$, and $Var(w)$ is the variance of the word lengths for the particular starting letter.\n",
    "\n",
    "All of this happens in the next cell:"
   ]
  },
  {
   "cell_type": "code",
   "execution_count": 10,
   "metadata": {},
   "outputs": [],
   "source": [
    "stats = words.map(lambda word: (word[0], (1, len(word), len(word) * len(word))))\\\n",
    "             .reduceByKey(reduce_values)\\\n",
    "             .mapValues(calc_mean_stddev)\\\n",
    "             .collectAsMap()"
   ]
  },
  {
   "cell_type": "markdown",
   "metadata": {},
   "source": [
    "And, here is the result:"
   ]
  },
  {
   "cell_type": "code",
   "execution_count": 11,
   "metadata": {
    "scrolled": true
   },
   "outputs": [
    {
     "name": "stdout",
     "output_type": "stream",
     "text": [
      "Word Count (N) and Word Length Statistics (Mean & Standard Deviation) by Starting Letter:\n",
      "     N     Mean   SDev\n",
      "a  23500   3.26   2.15\n",
      "b  11164   4.43   2.00\n",
      "c   8369   6.73   2.35\n",
      "d   5819   5.50   2.51\n",
      "e   3918   6.17   2.45\n",
      "f   8266   4.86   1.84\n",
      "g   3505   5.30   1.93\n",
      "h  13730   4.02   1.87\n",
      "i  14430   3.06   2.66\n",
      "j    839   5.00   1.77\n",
      "k    951   4.91   1.38\n",
      "l   6082   4.99   1.70\n",
      "m   8391   4.72   2.20\n",
      "n   4793   4.21   2.22\n",
      "o  13947   2.95   1.72\n",
      "p   6043   6.67   2.23\n",
      "q    716   7.01   1.48\n",
      "r   3865   6.27   2.07\n",
      "s  19875   5.06   2.39\n",
      "t  35259   3.71   1.50\n",
      "u   2634   5.55   3.43\n",
      "v   1575   5.85   1.98\n",
      "w  14466   4.55   1.44\n",
      "x      5   4.20   2.17\n",
      "y   2499   3.36   1.26\n",
      "z     34   5.79   1.79\n"
     ]
    }
   ],
   "source": [
    "print('Word Count (N) and Word Length Statistics (Mean & Standard Deviation) by Starting Letter:')\n",
    "print('     N     Mean   SDev')\n",
    "for letter in 'abcdefghijklmnopqrstuvwxyz':\n",
    "    count, mean, stddev = stats[letter]\n",
    "    print('{} {:>6} {:6.2f} {:6.2f}'.format(letter, count, mean, stddev))"
   ]
  },
  {
   "cell_type": "markdown",
   "metadata": {},
   "source": [
    "### Example 5: Calculating Covariances and Correlations"
   ]
  },
  {
   "cell_type": "markdown",
   "metadata": {},
   "source": [
    "The previous example used key-value pairs of the form, ($k_i$, (1, $x_i$, $x_i^2$)), where $k_i$ is a key and $x_i$ is a scalar observation, to compute means and variances by key.  If the observations are vectors instead of scalars the same thing can still be done using vector and matrix math.\n",
    "\n",
    "So, assume the observations are sampled from an m-dimensional random variable, $\\underline{\\mathbf{X}}$, so that they consist of m-dimensional column vectors, $\\underline{\\mathbf{x}}_i^T = (x_{i,1}, x_{i,2}, ..., x_{i,m})$, where $i=1,...N$.  For each key the elementwise sum of the value portion of key-value pairs of the form, ($k_i$, (1, $\\underline{\\mathbf{x}}_i$, $\\underline{\\mathbf{x}}_i\\underline{\\mathbf{x}}_i^T$)), will result in ($k_i$, ($N$, $\\sum_{i}\\underline{\\mathbf{x}}_i$, $\\sum_{i}\\underline{\\mathbf{x}}_i\\underline{\\mathbf{x}}_i^T$)).  From this we can compute the m-dimensional sample mean vector, $\\underline{\\overline{\\mathbf{x}}}_i$, and the $m \\times m$ sample covariance matrix, $cov(\\underline{\\mathbf{X}}) = \\underline{\\Sigma}_i = [\\sigma_{i,j}]_{i,j=1,..N}$ using the following two formulas:\n",
    "\n",
    "$\\underline{\\overline{\\mathbf{x}}}_i = (\\sum_{i}\\underline{\\mathbf{x}}_i)/N$\n",
    "\n",
    "$\\underline{\\Sigma}_i = (\\sum_{i}\\underline{\\mathbf{x}}_i\\underline{\\mathbf{x}}_i^T - N \\underline{\\overline{\\mathbf{x}}}_i \\underline{\\overline{\\mathbf{x}}}_i^T)/(N-1)$\n",
    "\n",
    "The correlation matrix can also be computed now.  Denote the elements on the diagonal of $\\underline{\\Sigma}_i$ as squares, $\\sigma_{i,i} = \\sigma_i^2$ for $i = 1,...,m$, then $\\sigma_i$ is the standard deviation of the $i^{th}$ component of $\\underline{\\mathbf{X}}$.  Then if we construct a diagonal matrix, $D$, with the reciprocals of the standard deviations, $1/\\sigma_i$, along the diagonal, the correlation matrix, $corr(\\underline{\\mathbf{X}})$, can be computed as $D\\underline{\\Sigma}_i D$."
   ]
  },
  {
   "cell_type": "markdown",
   "metadata": {},
   "source": [
    "To illustrate covariance and correlation calculations, we will look at bivariate data, $W_i = (x_i, y_i), i=1,...n$, where $n$ is the total number of words in the text, $x_i$ is the number of letters in a word (word length), and $y_i$ is the number of <u>unique</u> letters in the same word.\n",
    "\n",
    "<i>(NOTE: There are many more words in our sample text than there are unique words, by an order of magnitude, so from an NLP perspective it might be more appropriate to just work with unique words, but the focus here is on how to do specific calculations, so we're just going to use all the words.)</i>\n",
    "\n",
    "Either way, intuition says that the two quantities, $x_i$ and $y_i$, should be linearly correlated.  We'll first try to visually confirm this intuition."
   ]
  },
  {
   "cell_type": "markdown",
   "metadata": {},
   "source": [
    "#### Visualize the Bivariate Data"
   ]
  },
  {
   "cell_type": "markdown",
   "metadata": {},
   "source": [
    "We'll take the following <b>steps</b> to construct and visualize the bivariate data:\n",
    "\n",
    "1. First, create the bivariate <i>points</i>, $(x_i, y_i), i=1,...n$.\n",
    "\n",
    "1. $n$ is relatively large but the points all have integer coordinates ranging from 1 to the maximum word length.  So, the number of unique points should be quite small.  They will be collected into a dictionary where the unique points are the keys and the values are the numbers of words (counts) that correspond to the keys.\n",
    "\n",
    "2. Plot the unique points from the dictionary constructed in Step 2 using circles that are sized according to the logarithm of the number of words represented by each point."
   ]
  },
  {
   "cell_type": "code",
   "execution_count": 12,
   "metadata": {},
   "outputs": [
    {
     "name": "stdout",
     "output_type": "stream",
     "text": [
      "There are 214681 \"points\" (equal to the number of words in the text), but only 91 are unique.\n"
     ]
    }
   ],
   "source": [
    "# Step 1:\n",
    "\n",
    "points = words.map(lambda word: (len(word), len(set(word)))).collect()\n",
    "\n",
    "print('There are {0} \"points\" (equal to the number of words in the text), but only {1} are unique.'\\\n",
    "      .format(len(points), len(set(points))))"
   ]
  },
  {
   "cell_type": "code",
   "execution_count": 13,
   "metadata": {},
   "outputs": [
    {
     "name": "stdout",
     "output_type": "stream",
     "text": [
      "For example, there are 6604 words of length 6 with 5 unique letters.\n"
     ]
    }
   ],
   "source": [
    "# Step 2:\n",
    "\n",
    "from collections import Counter\n",
    "from math import log\n",
    "\n",
    "# key=point, value=count; e.g., count[(6,5)] ==> 6603\n",
    "counts = Counter(points)\n",
    "\n",
    "# Here's an example:\n",
    "sample_point = (6,5)\n",
    "print(\"For example, there are {0} words of length {1} with {2} unique letters.\"\\\n",
    "      .format(counts[sample_point], sample_point[0], sample_point[1]))"
   ]
  },
  {
   "cell_type": "code",
   "execution_count": 15,
   "metadata": {},
   "outputs": [
    {
     "data": {
      "text/plain": [
       "<matplotlib.collections.PathCollection at 0x7faee010c760>"
      ]
     },
     "execution_count": 15,
     "metadata": {},
     "output_type": "execute_result"
    },
    {
     "data": {
      "image/png": "[encoded data removed]",
      "text/plain": [
       "<Figure size 432x288 with 1 Axes>"
      ]
     },
     "metadata": {
      "needs_background": "light"
     },
     "output_type": "display_data"
    }
   ],
   "source": [
    "def transform(x):  # A made-up transform to make the scatter plot look OK\n",
    "    return (int(log(x)) + 1) * 10\n",
    "\n",
    "xs = []; ys = []; log_count = []  # Some lists to store x, y, and (transformed) count values\n",
    "for point, count in counts.items():\n",
    "    xs.append(point[0])\n",
    "    ys.append(point[1])\n",
    "    log_count.append(transform(count))  # Determines the size of a dot in the scatter plot\n",
    "\n",
    "fig2 = plt.figure()\n",
    "ax2 = fig2.add_subplot(111)\n",
    "ax2.set_title('\"' + book_title + '\"')\n",
    "ax2.set_xlabel('Word Length')\n",
    "ax2.set_ylabel('Unique Letters in Word')\n",
    "plt.scatter(xs, ys, s=log_count, color='Blue', alpha=0.5)"
   ]
  },
  {
   "cell_type": "markdown",
   "metadata": {},
   "source": [
    "Clearly, the plot shows a linear relationship between word length and unique letters in words."
   ]
  },
  {
   "cell_type": "markdown",
   "metadata": {},
   "source": [
    "We can quantify the correlation by first calculating the <b>Covariance Matrix</b> and <b>Correlation</b>."
   ]
  },
  {
   "cell_type": "code",
   "execution_count": 16,
   "metadata": {},
   "outputs": [],
   "source": [
    "def make_value_tuple(word):\n",
    "    num_letters = float(len(word))\n",
    "    num_unique_letters = float(len(set(word)))\n",
    "    #num_letter = word.count('e')\n",
    "    x = np.array([[num_letters], [num_unique_letters]])  # column vector\n",
    "    xxT = x * x.transpose()  # matrix\n",
    "    return (1, x, xxT)\n",
    "\n",
    "def calc_covariance(tup):\n",
    "    (n, sum_, sumsqr) = tup\n",
    "    dim = sum_.shape[0]\n",
    "    zero_vec = np.zeros((dim,1))\n",
    "    zero_mat = np.zeros((dim,dim))\n",
    "    if n == 0:\n",
    "        mean = zero_vec\n",
    "        stddev = zero_mat\n",
    "    elif n == 1:\n",
    "        mean = sum_\n",
    "        stddev = zero_mat\n",
    "    else:\n",
    "        mean = sum_ / n\n",
    "        cov = (sumsqr - (n * mean * mean.transpose())) / (n - 1)\n",
    "        inv_diag_mat = np.diag(1.0/np.sqrt(cov.diagonal()))  # diag of cov, sqrt'ed & inverted\n",
    "        corr = inv_diag_mat.dot(cov).dot(inv_diag_mat)\n",
    "    return (n, mean, cov, corr)"
   ]
  },
  {
   "cell_type": "code",
   "execution_count": 17,
   "metadata": {},
   "outputs": [],
   "source": [
    "stats2 = words.map(lambda word: (word[0], make_value_tuple(word)))\\\n",
    "              .reduceByKey(reduce_values)\\\n",
    "              .mapValues(calc_covariance)\\\n",
    "              .collectAsMap()"
   ]
  },
  {
   "cell_type": "code",
   "execution_count": 18,
   "metadata": {},
   "outputs": [
    {
     "name": "stdout",
     "output_type": "stream",
     "text": [
      "   Count  Mean1 Mean2  Sig11 Sig22 Cov12   Corr\n",
      "a  23500   3.26  2.98   2.15  1.76  3.65   0.97\n",
      "b  11164   4.43  4.07   2.00  1.66  3.16   0.95\n",
      "c   8369   6.73  5.89   2.35  1.71  3.66   0.91\n",
      "d   5819   5.50  4.77   2.51  1.94  4.52   0.93\n",
      "e   3918   6.17  5.09   2.45  1.99  4.56   0.94\n",
      "f   8266   4.86  4.55   1.84  1.53  2.67   0.95\n",
      "g   3505   5.30  4.73   1.93  1.50  2.65   0.91\n",
      "h  13730   4.02  3.78   1.87  1.52  2.74   0.96\n",
      "i  14430   3.06  2.77   2.66  1.99  5.16   0.97\n",
      "j    839   5.00  4.69   1.77  1.47  2.44   0.94\n",
      "k    951   4.91  4.34   1.38  1.13  1.38   0.88\n",
      "l   6082   4.99  4.53   1.70  1.39  2.15   0.91\n",
      "m   8391   4.72  4.36   2.20  1.75  3.66   0.95\n",
      "n   4793   4.21  3.84   2.22  1.60  3.39   0.96\n",
      "o  13947   2.95  2.84   1.72  1.44  2.42   0.98\n",
      "p   6043   6.67  5.84   2.23  1.75  3.53   0.90\n",
      "q    716   7.01  5.25   1.48  1.47  0.68   0.31\n",
      "r   3865   6.27  5.37   2.07  1.48  2.64   0.86\n",
      "s  19875   5.06  4.50   2.39  1.97  4.45   0.94\n",
      "t  35259   3.71  3.45   1.50  1.21  1.70   0.94\n",
      "u   2634   5.55  4.80   3.43  2.49  8.20   0.96\n",
      "v   1575   5.85  5.27   1.98  1.54  2.73   0.89\n",
      "w  14466   4.55  4.27   1.44  1.26  1.70   0.93\n",
      "x      5   4.20  2.80   2.17  1.30  2.30   0.81\n",
      "y   2499   3.36  3.31   1.26  1.14  1.40   0.98\n",
      "z     34   5.79  5.29   1.79  1.29  2.18   0.95\n"
     ]
    }
   ],
   "source": [
    "print('   Count  Mean1 Mean2  Sig11 Sig22 Cov12   Corr')\n",
    "for letter in 'abcdefghijklmnopqrstuvwxyz':\n",
    "    count, mean, cov, corr = stats2[letter]\n",
    "    print('{} {:>6} {:6.2f} {:5.2f} {:6.2f} {:5.2f} {:5.2f} {:6.2f}'\\\n",
    "          .format(letter, count, mean[0][0], mean[1][0],\n",
    "                  sqrt(cov[0][0]), sqrt(cov[1][1]), cov[0][1], corr[0][1])\n",
    "         )"
   ]
  },
  {
   "cell_type": "markdown",
   "metadata": {},
   "source": [
    "So, in \"Moby Dick\", and with the exception of words that begin with the letter \"q\", the number of letters in word has a relatively high positive correlation (> 0.80) with the number of <u>unique</u> letters in the word."
   ]
  },
  {
   "cell_type": "code",
   "execution_count": 19,
   "metadata": {},
   "outputs": [
    {
     "data": {
      "text/plain": [
       "(214681,\n",
       " array([[4.35894653],\n",
       "        [3.96287049]]),\n",
       " array([[5.29083724, 4.04896666],\n",
       "        [4.04896666, 3.40031228]]),\n",
       " array([[1.        , 0.95460257],\n",
       "        [0.95460257, 1.        ]]))"
      ]
     },
     "execution_count": 19,
     "metadata": {},
     "output_type": "execute_result"
    }
   ],
   "source": [
    "stats3 = calc_covariance(words.map(lambda word: make_value_tuple(word))\\\n",
    "                              .reduce(reduce_values))\n",
    "stats3"
   ]
  },
  {
   "cell_type": "markdown",
   "metadata": {},
   "source": [
    "## Set Monoids"
   ]
  },
  {
   "cell_type": "markdown",
   "metadata": {},
   "source": [
    "The set of all subsets of a set, $S$, is called its <i>power set</i> and is denoted by $\\mathcal{P}(S)$.\n",
    "\n",
    "<p>$(\\mathcal{P}(S), \\cup, \\emptyset)$ is a commutative monoid, where $\\cup$ is the <i>union operator</i> and $\\emptyset$ is the <i>empty set</i>.</p>"
   ]
  },
  {
   "cell_type": "markdown",
   "metadata": {},
   "source": [
    "### Example 6: Unique Words by Starting Letter"
   ]
  },
  {
   "cell_type": "markdown",
   "metadata": {},
   "source": [
    "Here, for each word we create a key-value pair consisting of the first letter of the word as the key, and the (singleton) set containing only that word as the value; for example, <i>(\"w\", {\"whale\"})</i>.  Then we <i>reduceByKey</i>, using set union as the operator."
   ]
  },
  {
   "cell_type": "code",
   "execution_count": 20,
   "metadata": {},
   "outputs": [],
   "source": [
    "words_by_first_letter = words.map(lambda word: (word[0], {word}))\\\n",
    "                             .reduceByKey(lambda wordset1, wordset2: wordset1 | wordset2)"
   ]
  },
  {
   "cell_type": "markdown",
   "metadata": {},
   "source": [
    "Collapse the RDD into a single Python dictionary and look at an example entry:"
   ]
  },
  {
   "cell_type": "code",
   "execution_count": 21,
   "metadata": {},
   "outputs": [
    {
     "name": "stdout",
     "output_type": "stream",
     "text": [
      "There are 1008 unique words that begin with the letter \"b\".\n",
      "Here are the first 6: ['babbling', 'babe', 'babel', 'babes', 'babies', 'baboon']\n"
     ]
    }
   ],
   "source": [
    "wordmap = words_by_first_letter.collectAsMap()\n",
    "letter = 'b'\n",
    "wordset = wordmap[letter]\n",
    "\n",
    "# First few words that begin with the letter\n",
    "print('There are {} unique words that begin with the letter \"{}\".'.format(len(wordset), letter))\n",
    "n = 6\n",
    "print('Here are the first {0}: {1}'.format(n, sorted(list(wordset))[:n]))"
   ]
  },
  {
   "cell_type": "markdown",
   "metadata": {},
   "source": [
    "### Example 7: Set Cardinality using HyperLogLog in Monoid Form"
   ]
  },
  {
   "cell_type": "markdown",
   "metadata": {},
   "source": [
    "If all we need is an approximate count of the unique elements in a set, then we can approximate it using the HyperLogLog (HLL) algorithm.  Fortunately, the HLL can be, and has been, implemented as a monoid.\n",
    "\n",
    "NOTE: The HLL implementation used here comes from the file \"hll.py\" in the GitHub repository, [Parsely/python-pds](https://github.com/Parsely/python-pds), but it has been modified to remove the dependency on the <i>smhasher</i> module so that it can be run using the [Anaconda Python distribution](https://store.continuum.io/cshop/anaconda/) provided by [Continuum Analytics](http://continuum.io/).  The modified file can be obtained from the GitHub gist, [hllx.py](https://gist.github.com/dc6a045704cfdd76bb4c.git), and is imported as a module below.  (To find the modifications, look in \"hllx.py\" for inline comments that begin with '# !!! '.)  The monoid $\\oplus$ operator is implemented in the HyperLogLog object as the <i>\\_\\_or\\_\\_</i> method, so the Python union operator, \"|\", can be used to \"sum\" the HLLs.\n",
    "\n",
    "Below, we follow the same approach as that used in Example 6.  A helper function, <i>make_HLL</i>, is used to simplify the process of creating key-value pairs where an HLL \"containing\" a single item is used as the value in the pair, rather than a singleton set."
   ]
  },
  {
   "cell_type": "raw",
   "metadata": {},
   "source": [
    "from hllx import HyperLogLog  # See note above\n",
    "\n",
    "def make_HLL(err_rate):\n",
    "    def fnc(word):\n",
    "        HLL = HyperLogLog(err_rate)\n",
    "        HLL.add(word)\n",
    "        return (word[0], HLL)\n",
    "    return fnc\n",
    "\n",
    "HLL_error_rate = 0.01\n",
    "words_by_first_letter_HLL = words.map(make_HLL(HLL_error_rate))\\\n",
    "                                 .reduceByKey(lambda HLL1, HLL2: HLL1 | HLL2)\n",
    "\n",
    "wordmap_HLL = words_by_first_letter_HLL.collectAsMap()\n",
    "wordset_HLL = wordmap_HLL[letter]\n",
    "\n",
    "print('An HLL is a set-like object: {}'.format(wordset_HLL))\n",
    "print('There are approximately {} words that begin with the letter \"{}\".'.format(len(wordset_HLL), letter))"
   ]
  },
  {
   "cell_type": "markdown",
   "metadata": {},
   "source": [
    "### To Be Done"
   ]
  },
  {
   "cell_type": "markdown",
   "metadata": {},
   "source": [
    "* Add links and references\n",
    "* Document the correlation and covariance example better\n",
    "* Fix the HLL example above"
   ]
  }
 ],
 "metadata": {
  "kernelspec": {
   "display_name": "Python 3",
   "language": "python",
   "name": "python3"
  },
  "language_info": {
   "codemirror_mode": {
    "name": "ipython",
    "version": 3
   },
   "file_extension": ".py",
   "mimetype": "text/x-python",
   "name": "python",
   "nbconvert_exporter": "python",
   "pygments_lexer": "ipython3",
   "version": "3.8.5"
  }
 },
 "nbformat": 4,
 "nbformat_minor": 1
}
